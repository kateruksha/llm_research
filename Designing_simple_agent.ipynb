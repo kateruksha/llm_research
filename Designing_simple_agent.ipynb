{
 "cells": [
  {
   "cell_type": "markdown",
   "id": "7a91cfd1-9f12-4f97-b943-466999c33ab1",
   "metadata": {},
   "source": [
    "# Generate Fake Datasets"
   ]
  },
  {
   "cell_type": "code",
   "execution_count": 1,
   "id": "00ac09f7-71a4-4d32-8a30-23168a8b859d",
   "metadata": {},
   "outputs": [],
   "source": [
    "topics = [\"AI\", \"Career\", \"Design\", \"Machine Learning\",\n",
    "          \"Hiring\", \"Remote Work\", \"Biology\", \"Leadership\"]"
   ]
  },
  {
   "cell_type": "code",
   "execution_count": 2,
   "id": "8bfae26c-64fe-4635-8a46-e45738b8fbe3",
   "metadata": {
    "tags": []
   },
   "outputs": [],
   "source": [
    "texts = [\n",
    "    \"Transformer models are reshaping AI, but their size increases memory demands. Innovations in architecture like sparse attention aim to balance performance with efficiency.\",\n",
    "    \"Effective remote work strategies hinge on clear communication and trust. Tools like async updates and regular check-ins help distributed teams stay aligned and productive.\",\n",
    "    \"Biology meets machine learning as protein folding problems get solved with deep neural networks. These breakthroughs accelerate drug discovery and bioengineering applications.\",\n",
    "    \"Design thinking empowers product teams to solve real user problems. Empathy, rapid prototyping, and testing are essential to building impactful, human-centered products.\",\n",
    "    \"Hiring in tech remains competitive. Companies now use structured interviews and skill-based assessments to fairly evaluate candidates and reduce hiring biases.\",\n",
    "    \"Career development today involves not just climbing ladders, but growing skills across domains. Lateral moves, mentorship, and self-directed learning are key for modern professionals.\",\n",
    "    \"AI is revolutionizing leadership. From decision-support tools to sentiment analysis dashboards, executives gain real-time insights to steer complex organizations.\",\n",
    "    \"Remote work culture is shifting. Companies are investing in virtual onboarding, mental health support, and asynchronous collaboration to build sustainable distributed teams.\",\n",
    "    \"Machine learning models benefit from high-quality data curation. Feature engineering, bias reduction, and real-world validation remain crucial parts of any ML pipeline.\",\n",
    "    \"Leadership in a digital era involves clarity, adaptability, and inclusion. The best leaders foster autonomy while aligning teams around shared, measurable goals.\",\n",
    "    \"AI ethics are a growing concern. Teams must consider data privacy, explainability, and social impact when building and deploying intelligent systems.\",\n",
    "    \"Biological systems inspire AI architectures. Neural networks borrow from brain-like structures, and evolutionary strategies mimic natural selection for optimization.\",\n",
    "    \"Effective design is not just aesthetic—it solves real user problems. Grid systems, accessibility standards, and UX research all shape the final user experience.\",\n",
    "    \"Career switches are more common than ever. Bootcamps, online courses, and portfolio-based hiring help professionals pivot into new tech roles.\",\n",
    "    \"Hiring remote employees expands the talent pool. Companies must adapt onboarding, compliance, and team-building processes to work across time zones.\",\n",
    "    \"AI is now embedded in daily tools. From smart email filters to adaptive learning apps, consumer products quietly harness LLMs and models behind the scenes.\",\n",
    "    \"Machine learning fairness requires testing for demographic parity and representation. Responsible ML teams include evaluation metrics beyond accuracy.\",\n",
    "    \"Design systems streamline product development. Shared components, tokens, and guidelines improve speed and consistency across design and engineering.\",\n",
    "    \"Leadership in hybrid teams involves managing visibility and equity. Leaders must intentionally support remote voices and avoid proximity bias.\",\n",
    "    \"Career ladders are evolving. Dual tracks for ICs and managers help retain talent while aligning growth with impact—not just seniority.\",\n",
    "    \"Biology labs now integrate automation. Pipetting robots, image classifiers, and CRISPR optimization algorithms are redefining how experiments are run.\",\n",
    "    \"Remote-first companies are leading with flexibility. They invest in outcomes, not hours, and prioritize written documentation and async workflows.\",\n",
    "    \"AI-powered writing tools assist with clarity, grammar, and tone. These tools are especially helpful in non-native contexts and fast-paced environments.\",\n",
    "    \"Design is collaborative. The best outcomes come from diverse teams that combine research insights, creative exploration, and technical feasibility.\",\n",
    "    \"Hiring for potential—not pedigree—is a trend. Assessments and structured interviews outperform CVs when predicting on-the-job success.\",\n",
    "    \"Machine learning in healthcare improves diagnostics. Algorithms now detect tumors, predict deterioration, and personalize treatment plans.\",\n",
    "    \"Leadership storytelling creates alignment. Clear narratives help teams understand why decisions are made and where the company is headed.\",\n",
    "    \"Career growth in tech now includes public speaking, open source contributions, and writing—forms of impact beyond just code.\",\n",
    "    \"Biology visualization tools use 3D and VR to explore protein structures, neuron networks, and molecular interactions interactively.\",\n",
    "    \"Remote work productivity varies. The best teams use checklists, clarity in goals, and rituals like stand-ups to stay on track.\",\n",
    "    \"AI agents are being deployed in customer service, finance, and logistics. These autonomous systems handle multi-step tasks with increasing reliability.\",\n",
    "    \"Design critiques, if structured well, drive innovation. Framing feedback around goals and user needs keeps teams aligned and productive.\",\n",
    "    \"Machine learning engineers must understand infrastructure. Model training, serving, and monitoring all require devops literacy.\",\n",
    "    \"Hiring diverse teams drives innovation. Diverse perspectives lead to better problem-solving and market relevance in global products.\",\n",
    "    \"Leadership coaching is becoming data-driven. Feedback dashboards and 360 reviews help leaders track and adjust their development plans.\",\n",
    "    \"Career satisfaction is influenced by autonomy, purpose, and mastery. These factors matter more than titles or compensation alone.\",\n",
    "    \"Biology datasets are expanding rapidly. AI helps analyze genomics, behavior, and metabolic pathways with tools built for big biological data.\",\n",
    "    \"Remote collaboration tools are moving beyond Zoom. Products like Miro, Notion, and Loom create shared spaces for async work.\",\n",
    "    \"Design tokens unify themes across platforms. They encode visual identity and make cross-platform implementation faster and more accurate.\",\n",
    "    \"AI model interpretability is key. Tools like SHAP, LIME, and feature importance plots help developers and users trust predictions.\",\n",
    "    \"Hiring pipelines are being automated. From resume screening to coding tests, tech enables faster but also more fair hiring decisions.\",\n",
    "    \"Leadership during uncertainty involves clarity, empathy, and decisiveness. Great leaders focus on principles and people, not just results.\",\n",
    "    \"Machine learning models must generalize. Real-world performance often drops from benchmarks, so testing in production is essential.\",\n",
    "    \"Design leadership requires advocating for users and designers. Balancing business goals and user experience is a strategic skill.\",\n",
    "    \"Career transitions are powered by learning. Internal mobility programs and certifications help retain employees and fill skill gaps.\",\n",
    "    \"Remote work policies now include location-based pay, home office stipends, and guidelines for offsite team retreats.\",\n",
    "    \"AI in education personalizes learning. Adaptive systems adjust content difficulty, pace, and feedback for each student.\",\n",
    "    \"Biology meets AI in synthetic life design. Scientists now use algorithms to propose viable, novel genetic configurations.\",\n",
    "    \"Hiring during economic uncertainty shifts focus to core roles and essential outcomes. Recruiters must partner tightly with leadership.\",\n",
    "    \"Machine learning in marketing optimizes customer journeys. Algorithms adjust targeting, timing, and creative content in real time.\"\n",
    "]\n"
   ]
  },
  {
   "cell_type": "code",
   "execution_count": 3,
   "id": "a6e5695a-5a76-4dae-b35f-e6aec24e95e6",
   "metadata": {
    "tags": []
   },
   "outputs": [
    {
     "name": "stderr",
     "output_type": "stream",
     "text": [
      "/tmp/ipykernel_204/849112046.py:1: DeprecationWarning: \n",
      "Pyarrow will become a required dependency of pandas in the next major release of pandas (pandas 3.0),\n",
      "(to allow more performant data types, such as the Arrow string type, and better interoperability with other libraries)\n",
      "but was too old on your system - pyarrow 10.0.1 is the current minimum supported version as of this release.\n",
      "If this would cause problems for you,\n",
      "please provide us feedback at https://github.com/pandas-dev/pandas/issues/54466\n",
      "        \n",
      "  import pandas as pd\n"
     ]
    }
   ],
   "source": [
    "import pandas as pd\n",
    "from faker import Faker\n",
    "import random\n",
    "\n",
    "fake = Faker()\n",
    "\n",
    "# Create fake blog posts\n",
    "blog_posts = []\n",
    "\n",
    "for i, text in enumerate(texts):\n",
    "    sentences = text.split(\". \")\n",
    "    title = sentences[0].strip(\".\")  # Remove period for cleaner title\n",
    "    content = \". \".join(sentences[1:]).strip()\n",
    "    if content and not content.endswith(\".\"):\n",
    "        content += \".\"\n",
    "    \n",
    "    blog_posts.append({\n",
    "        \"post_id\": f\"post_{i+1}\",\n",
    "        \"title\": title,\n",
    "        \"content\": content,\n",
    "        \"url\": fake.url(),\n",
    "        \"date\": fake.date_this_month(),\n",
    "    })\n",
    "\n",
    "# Create fake users with interests\n",
    "user_profiles = []\n",
    "user_topics = random.choices(topics, k=5)\n",
    "\n",
    "for i in range(15):\n",
    "    name = fake.name()\n",
    "    user_profiles.append({\n",
    "        \"user_id\": f\"user_{i+1}\",\n",
    "        \"name\": name,\n",
    "        \"email\": fake.email(),\n",
    "        \"interests\": \", \".join(random.sample(user_topics, k=random.randint(1, 3)))\n",
    "    })\n",
    "\n",
    "# Convert to DataFrames\n",
    "df_posts = pd.DataFrame(blog_posts)\n",
    "df_users = pd.DataFrame(user_profiles)\n",
    "\n",
    "# Save to CSV for user\n",
    "df_posts_path = \"data/fake_blog_posts.csv\"\n",
    "df_users_path = \"data/fake_user_profiles.csv\"\n",
    "\n",
    "df_posts.to_csv(df_posts_path, index=False)\n",
    "df_users.to_csv(df_users_path, index=False)\n"
   ]
  },
  {
   "cell_type": "code",
   "execution_count": 4,
   "id": "a41e6e4a-5324-4a98-b741-cde56319e995",
   "metadata": {
    "tags": []
   },
   "outputs": [
    {
     "data": {
      "text/html": [
       "<div>\n",
       "<style scoped>\n",
       "    .dataframe tbody tr th:only-of-type {\n",
       "        vertical-align: middle;\n",
       "    }\n",
       "\n",
       "    .dataframe tbody tr th {\n",
       "        vertical-align: top;\n",
       "    }\n",
       "\n",
       "    .dataframe thead th {\n",
       "        text-align: right;\n",
       "    }\n",
       "</style>\n",
       "<table border=\"1\" class=\"dataframe\">\n",
       "  <thead>\n",
       "    <tr style=\"text-align: right;\">\n",
       "      <th></th>\n",
       "      <th>post_id</th>\n",
       "      <th>title</th>\n",
       "      <th>content</th>\n",
       "      <th>url</th>\n",
       "      <th>date</th>\n",
       "    </tr>\n",
       "  </thead>\n",
       "  <tbody>\n",
       "    <tr>\n",
       "      <th>16</th>\n",
       "      <td>post_17</td>\n",
       "      <td>Machine learning fairness requires testing for...</td>\n",
       "      <td>Responsible ML teams include evaluation metric...</td>\n",
       "      <td>http://holmes.biz/</td>\n",
       "      <td>2025-07-15</td>\n",
       "    </tr>\n",
       "    <tr>\n",
       "      <th>25</th>\n",
       "      <td>post_26</td>\n",
       "      <td>Machine learning in healthcare improves diagno...</td>\n",
       "      <td>Algorithms now detect tumors, predict deterior...</td>\n",
       "      <td>http://huynh.com/</td>\n",
       "      <td>2025-07-21</td>\n",
       "    </tr>\n",
       "    <tr>\n",
       "      <th>35</th>\n",
       "      <td>post_36</td>\n",
       "      <td>Career satisfaction is influenced by autonomy,...</td>\n",
       "      <td>These factors matter more than titles or compe...</td>\n",
       "      <td>http://byrd.com/</td>\n",
       "      <td>2025-07-06</td>\n",
       "    </tr>\n",
       "  </tbody>\n",
       "</table>\n",
       "</div>"
      ],
      "text/plain": [
       "    post_id                                              title  \\\n",
       "16  post_17  Machine learning fairness requires testing for...   \n",
       "25  post_26  Machine learning in healthcare improves diagno...   \n",
       "35  post_36  Career satisfaction is influenced by autonomy,...   \n",
       "\n",
       "                                              content                 url  \\\n",
       "16  Responsible ML teams include evaluation metric...  http://holmes.biz/   \n",
       "25  Algorithms now detect tumors, predict deterior...   http://huynh.com/   \n",
       "35  These factors matter more than titles or compe...    http://byrd.com/   \n",
       "\n",
       "          date  \n",
       "16  2025-07-15  \n",
       "25  2025-07-21  \n",
       "35  2025-07-06  "
      ]
     },
     "execution_count": 4,
     "metadata": {},
     "output_type": "execute_result"
    }
   ],
   "source": [
    "df_posts.sample(3)"
   ]
  },
  {
   "cell_type": "code",
   "execution_count": 5,
   "id": "08b93e48-98c5-4f96-bcc4-b49ba676d13a",
   "metadata": {
    "tags": []
   },
   "outputs": [
    {
     "data": {
      "text/html": [
       "<div>\n",
       "<style scoped>\n",
       "    .dataframe tbody tr th:only-of-type {\n",
       "        vertical-align: middle;\n",
       "    }\n",
       "\n",
       "    .dataframe tbody tr th {\n",
       "        vertical-align: top;\n",
       "    }\n",
       "\n",
       "    .dataframe thead th {\n",
       "        text-align: right;\n",
       "    }\n",
       "</style>\n",
       "<table border=\"1\" class=\"dataframe\">\n",
       "  <thead>\n",
       "    <tr style=\"text-align: right;\">\n",
       "      <th></th>\n",
       "      <th>user_id</th>\n",
       "      <th>name</th>\n",
       "      <th>email</th>\n",
       "      <th>interests</th>\n",
       "    </tr>\n",
       "  </thead>\n",
       "  <tbody>\n",
       "    <tr>\n",
       "      <th>1</th>\n",
       "      <td>user_2</td>\n",
       "      <td>Melissa Villanueva</td>\n",
       "      <td>stephaniewoodward@example.com</td>\n",
       "      <td>Biology</td>\n",
       "    </tr>\n",
       "    <tr>\n",
       "      <th>2</th>\n",
       "      <td>user_3</td>\n",
       "      <td>John Webb</td>\n",
       "      <td>jacob17@example.com</td>\n",
       "      <td>Design, Machine Learning</td>\n",
       "    </tr>\n",
       "  </tbody>\n",
       "</table>\n",
       "</div>"
      ],
      "text/plain": [
       "  user_id                name                          email  \\\n",
       "1  user_2  Melissa Villanueva  stephaniewoodward@example.com   \n",
       "2  user_3           John Webb            jacob17@example.com   \n",
       "\n",
       "                  interests  \n",
       "1                   Biology  \n",
       "2  Design, Machine Learning  "
      ]
     },
     "execution_count": 5,
     "metadata": {},
     "output_type": "execute_result"
    }
   ],
   "source": [
    "df_users.sample(2)"
   ]
  },
  {
   "cell_type": "markdown",
   "id": "70e85850-9db6-424a-b6b0-438281e0d389",
   "metadata": {},
   "source": [
    "# Rule-based Python pipeline"
   ]
  },
  {
   "cell_type": "code",
   "execution_count": 6,
   "id": "9131acdd-da05-4e1d-bfcb-eb23e397c0ee",
   "metadata": {
    "tags": []
   },
   "outputs": [],
   "source": [
    "import os\n",
    "import pandas as pd\n",
    "import openai\n",
    "from openai import OpenAI\n",
    "import smtplib\n",
    "from email.mime.text import MIMEText\n",
    "from email.mime.multipart import MIMEMultipart\n",
    "import random"
   ]
  },
  {
   "cell_type": "code",
   "execution_count": 10,
   "id": "99d72dcc-a7b7-4f0c-8174-307fc5a893fd",
   "metadata": {},
   "outputs": [],
   "source": [
    "from dotenv import load_dotenv\n",
    "import os\n",
    "\n",
    "# Load env vars\n",
    "load_dotenv()\n",
    "\n",
    "# Check key is there\n",
    "api_key = os.getenv(\"OPENAI_API_KEY\")\n",
    "assert api_key, \"OPENAI_API_KEY is missing\""
   ]
  },
  {
   "cell_type": "code",
   "execution_count": 11,
   "id": "9dc763b5-51cc-4601-a5e1-72a102c3e484",
   "metadata": {
    "tags": []
   },
   "outputs": [],
   "source": [
    "import openai\n",
    "client = OpenAI() "
   ]
  },
  {
   "cell_type": "code",
   "execution_count": 12,
   "id": "96b07044-2e73-44eb-a720-a5cf03ec9edf",
   "metadata": {
    "tags": []
   },
   "outputs": [],
   "source": [
    "posts_df = pd.read_csv(\"data/fake_blog_posts.csv\")\n",
    "users_df = pd.read_csv(\"data/fake_user_profiles.csv\")"
   ]
  },
  {
   "cell_type": "markdown",
   "id": "141be441-8ffd-41ef-8fee-d11b6b4e1fff",
   "metadata": {},
   "source": [
    "## Tools"
   ]
  },
  {
   "cell_type": "code",
   "execution_count": 13,
   "id": "53372b55-f9fc-490c-a5f4-11e622e76c2f",
   "metadata": {
    "tags": []
   },
   "outputs": [],
   "source": [
    "def get_posts(posts_df, N=15):\n",
    "    selected_posts_df = posts_df.sample(N)\n",
    "    return selected_posts_df"
   ]
  },
  {
   "cell_type": "code",
   "execution_count": 14,
   "id": "25687ace-10a1-4e54-bd6c-acb2b4182e56",
   "metadata": {
    "tags": []
   },
   "outputs": [],
   "source": [
    "# Tool: simulate sending email (for dev/testing)\n",
    "def send_email(user_email, subject, body, sender=\"no-reply@agentic.local\"):\n",
    "    print(f\"\\n--- Simulated Email ---\")\n",
    "    print(f\"From: {sender}\")\n",
    "    print(f\"To: {user_email}\")\n",
    "    print(f\"Subject: {subject}\")\n",
    "    print(f\"Body:\\n{body}\\n\")"
   ]
  },
  {
   "cell_type": "code",
   "execution_count": 15,
   "id": "3a7a3c47-742a-4b5b-9d50-0cd7f3fa98ed",
   "metadata": {
    "tags": []
   },
   "outputs": [],
   "source": [
    "# Tool: summarize text using OpenAI\n",
    "def summarize_text(text):\n",
    "    try:\n",
    "        response = client.chat.completions.create(\n",
    "            model=\"gpt-3.5-turbo\",\n",
    "            messages=[\n",
    "                {\"role\": \"system\", \"content\": \"You are a helpful assistant that summarizes blog content.\"},\n",
    "                {\"role\": \"user\", \"content\": f\"Summarize the following blog post:\\n\\n{text}\"}\n",
    "            ]\n",
    "        )\n",
    "        return response.choices[0].message.content.strip()\n",
    "    except Exception as e:\n",
    "        return f\"[Error summarizing text: {e}]\""
   ]
  },
  {
   "cell_type": "code",
   "execution_count": 16,
   "id": "b910edb8-c844-46cf-8f5c-bf182b4707d0",
   "metadata": {
    "tags": []
   },
   "outputs": [],
   "source": [
    "# Tool: classify topic\n",
    "def classify_topic(text, topics):\n",
    "    topics = \", \".join(topics)\n",
    "    \n",
    "    try:\n",
    "        response = client.chat.completions.create(\n",
    "            model=\"gpt-3.5-turbo\",\n",
    "            messages=[\n",
    "                {\"role\": \"system\", \"content\": \"You are a helpful assistant that categorizes blog content.\"},\n",
    "                {\"role\": \"user\", \"content\": f\"\"\"Classify each summary into one of the given topics. \\n\n",
    "                     Text: \\n\\n{text},\\n\n",
    "                     Available topics: \\n\\n{topics}.\\n\n",
    "                     Output should be one topic from the list without comments.\"\"\"}\n",
    "            ]\n",
    "        )\n",
    "        return response.choices[0].message.content.strip()\n",
    "    except Exception as e:\n",
    "        return f\"[Error classifying text: {e}]\"\n"
   ]
  },
  {
   "cell_type": "code",
   "execution_count": 17,
   "id": "a0d45a86-8d1c-4dd3-89dd-7d4561a495ae",
   "metadata": {
    "tags": []
   },
   "outputs": [],
   "source": [
    "import json\n",
    "\n",
    "def decide_action(users_interests, available_topics): \n",
    "    context = (\n",
    "        f\"\"\"A user is interested in blog posts on: {users_interests}.\n",
    "The blog has recent posts on the following topics: {available_topics}.\n",
    "\n",
    "Your task:\n",
    "- Choose which of the available topics are worth summarizing for this user.\n",
    "- If none are relevant, return an empty list []. It's better than recommend irrelevant content.\n",
    "- You may also suggest a new topic close to the user's interests if a better match is available.\n",
    "\n",
    "Respond in JSON format with:\n",
    "{{\n",
    "  \"comment\": \"...your reasoning...\",\n",
    "  \"available_or_suggested_topics\": [\"topic1\", \"topic2\", ...] or []\n",
    "}}\n",
    "\"\"\"\n",
    "    )\n",
    "\n",
    "    response = client.chat.completions.create(\n",
    "        model=\"gpt-3.5-turbo\",\n",
    "        messages=[\n",
    "            {\"role\": \"system\", \"content\": \"You are an agent planner. Make decisions on task flow.\"},\n",
    "            {\"role\": \"user\", \"content\": context}\n",
    "        ]\n",
    "    )\n",
    "\n",
    "    raw_reply = response.choices[0].message.content.strip()\n",
    "    \n",
    "    try:\n",
    "        decision = json.loads(raw_reply)\n",
    "        return decision\n",
    "    except json.JSONDecodeError:\n",
    "        print(\"⚠️ Failed to parse JSON from agent. Raw output:\")\n",
    "        print(raw_reply)\n",
    "        return {\"comment\": \"Parsing error\", \"available_or_suggested_topics\": []}\n"
   ]
  },
  {
   "cell_type": "code",
   "execution_count": 18,
   "id": "8f7fff6b-cc0e-433a-a8aa-479a88c788a0",
   "metadata": {
    "tags": []
   },
   "outputs": [
    {
     "data": {
      "text/plain": [
       "{'comment': 'There are no recent blog posts on AI related topics available. However, you might be interested in the Machine Learning (ML) post as it is closely related to AI.',\n",
       " 'available_or_suggested_topics': ['ML']}"
      ]
     },
     "execution_count": 18,
     "metadata": {},
     "output_type": "execute_result"
    }
   ],
   "source": [
    "decide_action(users_interests=['AI'], available_topics=['Sun', \"LLM\", \"ML\"])"
   ]
  },
  {
   "cell_type": "code",
   "execution_count": 19,
   "id": "30cc82bd-106e-4743-a4bb-c62eabf96113",
   "metadata": {
    "tags": []
   },
   "outputs": [],
   "source": [
    "import json\n",
    "\n",
    "def load_memory():\n",
    "    try:\n",
    "        with open(\"memory.json\", \"r\") as f:\n",
    "            return json.load(f)\n",
    "    except FileNotFoundError:\n",
    "        return {}\n",
    "\n",
    "def save_memory(memory):\n",
    "    with open(\"memory.json\", \"w\") as f:\n",
    "        json.dump(memory, f, indent=2)\n",
    "        \n",
    "def clear_memory():\n",
    "    memory = {\"sent_posts\": []}\n",
    "    save_memory(memory)\n",
    "    print(\"🧹 Memory has been reset to a clean list.\")\n"
   ]
  },
  {
   "cell_type": "markdown",
   "id": "e0cc7cda-b0ef-4a5e-b8b0-f9580649ad8e",
   "metadata": {},
   "source": [
    "## Calling"
   ]
  },
  {
   "cell_type": "code",
   "execution_count": 20,
   "id": "641f1576-96bc-4562-9628-0a5a46855df9",
   "metadata": {
    "tags": []
   },
   "outputs": [],
   "source": [
    "# Optional: clean the memory\n",
    "# clear_memory()\n",
    "memory = load_memory()"
   ]
  },
  {
   "cell_type": "code",
   "execution_count": 21,
   "id": "bd8c4b55-edd4-476a-8095-bc461a37317b",
   "metadata": {
    "tags": []
   },
   "outputs": [],
   "source": [
    "import json\n",
    "\n",
    "def summarize_and_email(posts_df, users_df, memory=memory, topics=topics, N=15):\n",
    "    # 1. Sample N posts and classify\n",
    "    selected_posts_df = get_posts(posts_df, N)\n",
    "    selected_posts_df[\"topic\"] = selected_posts_df[\"title\"].apply(lambda x: classify_topic(x, topics))\n",
    "\n",
    "    # 2. Skip already emailed posts\n",
    "    new_posts = []\n",
    "    for _, row in selected_posts_df.iterrows():\n",
    "        if row[\"post_id\"] in memory.get(\"sent_posts\", []):\n",
    "            print(f\"Skipping already-emailed post {row['post_id']}\")\n",
    "        else:\n",
    "            new_posts.append(row[\"post_id\"])\n",
    "\n",
    "    new_posts_df = selected_posts_df[selected_posts_df[\"post_id\"].isin(new_posts)]\n",
    "    available_topics = new_posts_df[\"topic\"].unique()\n",
    "    print(available_topics)\n",
    "\n",
    "    # 3. Process each user individually\n",
    "    for _, user in users_df.iterrows():\n",
    "        user_id = user[\"user_id\"]\n",
    "        user_name = user[\"name\"]\n",
    "        user_email = user[\"email\"]\n",
    "        user_interests = user[\"interests\"]\n",
    "\n",
    "        # 4. Agent decides what topics to send based on interests and availability\n",
    "        decision = decide_action(user_interests, available_topics)\n",
    "        print(f\"Decision for {user_name}: {decision}\")\n",
    "\n",
    "        suggested_topics = decision.get(\"available_or_suggested_topics\", [])\n",
    "        if not suggested_topics:\n",
    "            print(f\"Agent decided to skip user '{user_name}'.\")\n",
    "            continue\n",
    "\n",
    "        # 5. Summarize relevant posts\n",
    "        summaries = []\n",
    "        for topic in suggested_topics:\n",
    "            topic_posts = new_posts_df[new_posts_df[\"topic\"] == topic]\n",
    "            for _, post in topic_posts.iterrows():\n",
    "                summary = summarize_text(post[\"content\"])\n",
    "                summaries.append(f\"- {post['title']}\\n{summary}\\nLink: {post['url']}\")\n",
    "                \n",
    "                memory.setdefault(\"sent_posts\", [])\n",
    "                if post[\"post_id\"] not in memory[\"sent_posts\"]:\n",
    "                    memory[\"sent_posts\"].append(post[\"post_id\"])\n",
    "\n",
    "\n",
    "        if summaries:\n",
    "            summary_block = \"\\n\\n\".join(summaries)\n",
    "            subject = f\"📰 Curated Articles for You: {', '.join(suggested_topics)}\"\n",
    "            body = f\"Hi {user_name},\\n\\nBased on your interests, here are some new articles you might enjoy:\\n\\n{summary_block}\\n\\nBest,\\nYour Content Agent\"\n",
    "            send_email(user_email, subject, body)\n",
    "\n",
    "    # Save memory once after all emails\n",
    "    save_memory(memory)\n"
   ]
  },
  {
   "cell_type": "code",
   "execution_count": 22,
   "id": "130aa5c2-c707-4202-be05-3025f16157e8",
   "metadata": {
    "scrolled": true,
    "tags": []
   },
   "outputs": [
    {
     "name": "stdout",
     "output_type": "stream",
     "text": [
      "Skipping already-emailed post post_41\n",
      "Skipping already-emailed post post_19\n",
      "['Hiring' 'AI' 'Career']\n",
      "Decision for Alexander Pennington: {'comment': 'None of the available topics directly relate to Biology. However, as a new topic suggestion close to Biology, you may be interested in the recent post on AI which can sometimes intersect with biological sciences through topics like artificial intelligence in healthcare or bioinformatics.', 'available_or_suggested_topics': ['AI']}\n",
      "\n",
      "--- Simulated Email ---\n",
      "From: no-reply@agentic.local\n",
      "To: normancarmen@example.org\n",
      "Subject: 📰 Curated Articles for You: AI\n",
      "Body:\n",
      "Hi Alexander Pennington,\n",
      "\n",
      "Based on your interests, here are some new articles you might enjoy:\n",
      "\n",
      "- AI agents are being deployed in customer service, finance, and logistics\n",
      "The blog post discusses autonomous systems and their ability to manage multi-step tasks with growing dependability.\n",
      "Link: https://ford.net/\n",
      "\n",
      "Best,\n",
      "Your Content Agent\n",
      "\n",
      "Decision for Melissa Villanueva: {'comment': \"None of the available topics directly match the user's interest in Biology. However, the user might find the 'AI' topic intriguing due to its intersection with biological sciences and technology.\", 'available_or_suggested_topics': ['AI']}\n",
      "\n",
      "--- Simulated Email ---\n",
      "From: no-reply@agentic.local\n",
      "To: stephaniewoodward@example.com\n",
      "Subject: 📰 Curated Articles for You: AI\n",
      "Body:\n",
      "Hi Melissa Villanueva,\n",
      "\n",
      "Based on your interests, here are some new articles you might enjoy:\n",
      "\n",
      "- AI agents are being deployed in customer service, finance, and logistics\n",
      "The blog post reports on the growing reliability of autonomous systems in handling multi-step tasks.\n",
      "Link: https://ford.net/\n",
      "\n",
      "Best,\n",
      "Your Content Agent\n",
      "\n",
      "Decision for John Webb: {'comment': \"There are no recent blog posts on Design or Machine Learning topics. However, the post on 'AI' might be of interest to the user, as it is related to Machine Learning.\", 'available_or_suggested_topics': ['AI']}\n",
      "\n",
      "--- Simulated Email ---\n",
      "From: no-reply@agentic.local\n",
      "To: jacob17@example.com\n",
      "Subject: 📰 Curated Articles for You: AI\n",
      "Body:\n",
      "Hi John Webb,\n",
      "\n",
      "Based on your interests, here are some new articles you might enjoy:\n",
      "\n",
      "- AI agents are being deployed in customer service, finance, and logistics\n",
      "The blog post highlights the capabilities of autonomous systems in handling complex tasks efficiently and dependably.\n",
      "Link: https://ford.net/\n",
      "\n",
      "Best,\n",
      "Your Content Agent\n",
      "\n",
      "Decision for Blake Howe: {'comment': \"Based on the user's interest in design, the available topics 'Hiring' and 'Career' could be relevant as they may provide insights into design-related job opportunities and career advancement in the industry.\", 'available_or_suggested_topics': ['Hiring', 'Career']}\n",
      "\n",
      "--- Simulated Email ---\n",
      "From: no-reply@agentic.local\n",
      "To: fkelley@example.org\n",
      "Subject: 📰 Curated Articles for You: Hiring, Career\n",
      "Body:\n",
      "Hi Blake Howe,\n",
      "\n",
      "Based on your interests, here are some new articles you might enjoy:\n",
      "\n",
      "- Hiring remote employees expands the talent pool\n",
      "The blog post emphasizes the importance for companies to adjust their onboarding, compliance, and team-building strategies to accommodate time zone differences.\n",
      "Link: https://garcia.com/\n",
      "\n",
      "- Career transitions are powered by learning\n",
      "The blog post discusses how internal mobility programs and certifications can be beneficial for retaining employees and addressing skill gaps within an organization. These programs provide a way for employees to advance their careers within the company while also gaining new skills and qualifications.\n",
      "Link: https://sanchez.com/\n",
      "\n",
      "Best,\n",
      "Your Content Agent\n",
      "\n",
      "Decision for Janet Schneider: {'comment': \"There are no exact matches for the user's interests in the available blog posts. However, a relevant alternative topic could be 'AI', which is indirectly related to the topic of Design.\", 'available_or_suggested_topics': ['AI']}\n",
      "\n",
      "--- Simulated Email ---\n",
      "From: no-reply@agentic.local\n",
      "To: brownanthony@example.com\n",
      "Subject: 📰 Curated Articles for You: AI\n",
      "Body:\n",
      "Hi Janet Schneider,\n",
      "\n",
      "Based on your interests, here are some new articles you might enjoy:\n",
      "\n",
      "- AI agents are being deployed in customer service, finance, and logistics\n",
      "The blog post discusses how autonomous systems are becoming more reliable at completing multi-step tasks.\n",
      "Link: https://ford.net/\n",
      "\n",
      "Best,\n",
      "Your Content Agent\n",
      "\n",
      "Decision for Kelly Riley MD: {'comment': \"None of the available topics directly align with the user's interest in biology. However, I suggest summarizing the AI blog post as it may provide insights on technological advancements in biology research.\", 'available_or_suggested_topics': ['AI']}\n",
      "\n",
      "--- Simulated Email ---\n",
      "From: no-reply@agentic.local\n",
      "To: rvaughan@example.com\n",
      "Subject: 📰 Curated Articles for You: AI\n",
      "Body:\n",
      "Hi Kelly Riley MD,\n",
      "\n",
      "Based on your interests, here are some new articles you might enjoy:\n",
      "\n",
      "- AI agents are being deployed in customer service, finance, and logistics\n",
      "The blog post discusses how autonomous systems are becoming more reliable at managing complex tasks that require multiple steps.\n",
      "Link: https://ford.net/\n",
      "\n",
      "Best,\n",
      "Your Content Agent\n",
      "\n",
      "Decision for Karen Henry: {'comment': \"Since the user is interested in topics related to Machine Learning and Design, the available topics 'AI' is worth summarizing for them as it is closely related to Machine Learning.\", 'available_or_suggested_topics': ['AI']}\n",
      "\n",
      "--- Simulated Email ---\n",
      "From: no-reply@agentic.local\n",
      "To: nbutler@example.net\n",
      "Subject: 📰 Curated Articles for You: AI\n",
      "Body:\n",
      "Hi Karen Henry,\n",
      "\n",
      "Based on your interests, here are some new articles you might enjoy:\n",
      "\n",
      "- AI agents are being deployed in customer service, finance, and logistics\n",
      "The blog post discusses how autonomous systems are becoming more reliable in handling complex and multi-step tasks.\n",
      "Link: https://ford.net/\n",
      "\n",
      "Best,\n",
      "Your Content Agent\n",
      "\n",
      "Decision for Russell Owens: {'comment': 'The blog has recent posts on topics like hiring, AI, and career which are closely related to Machine Learning. Summarizing these posts could provide valuable insights to the user.', 'available_or_suggested_topics': ['Hiring', 'AI', 'Career']}\n",
      "\n",
      "--- Simulated Email ---\n",
      "From: no-reply@agentic.local\n",
      "To: pcole@example.com\n",
      "Subject: 📰 Curated Articles for You: Hiring, AI, Career\n",
      "Body:\n",
      "Hi Russell Owens,\n",
      "\n",
      "Based on your interests, here are some new articles you might enjoy:\n",
      "\n",
      "- Hiring remote employees expands the talent pool\n",
      "The blog post discusses the importance of companies adapting their onboarding, compliance, and team-building processes to accommodate employees working in different time zones. This is crucial for ensuring effective communication and collaboration among team members regardless of their locations.\n",
      "Link: https://garcia.com/\n",
      "\n",
      "- AI agents are being deployed in customer service, finance, and logistics\n",
      "The blog post discusses how autonomous systems are becoming more reliable at handling multi-step tasks.\n",
      "Link: https://ford.net/\n",
      "\n",
      "- Career transitions are powered by learning\n",
      "The blog post highlights the importance of internal mobility programs and certifications in retaining employees and addressing skill gaps within an organization.\n",
      "Link: https://sanchez.com/\n",
      "\n",
      "Best,\n",
      "Your Content Agent\n",
      "\n",
      "Decision for Christopher Scott: {'comment': 'The user is interested in Design, and none of the recent blog posts are directly related. However, the topic Career might have some overlap with design principles in building a successful career in design industry.', 'available_or_suggested_topics': ['Career']}\n",
      "\n",
      "--- Simulated Email ---\n",
      "From: no-reply@agentic.local\n",
      "To: andrea14@example.com\n",
      "Subject: 📰 Curated Articles for You: Career\n",
      "Body:\n",
      "Hi Christopher Scott,\n",
      "\n",
      "Based on your interests, here are some new articles you might enjoy:\n",
      "\n",
      "- Career transitions are powered by learning\n",
      "The blog post highlights the importance of internal mobility programs and certifications in retaining employees and filling skill gaps within a company. Internal mobility programs encourage employees to grow and advance within the organization, while certifications help develop necessary skills for both employees and the company's current needs.\n",
      "Link: https://sanchez.com/\n",
      "\n",
      "Best,\n",
      "Your Content Agent\n",
      "\n",
      "Decision for Ashley Taylor: {'comment': \"Since the user is interested in Design and the available topics are not directly related, I would suggest summarizing the 'Hiring' post as it may provide insights into the hiring process for design roles.\", 'available_or_suggested_topics': ['Hiring']}\n",
      "\n",
      "--- Simulated Email ---\n",
      "From: no-reply@agentic.local\n",
      "To: alvarezfelicia@example.com\n",
      "Subject: 📰 Curated Articles for You: Hiring\n",
      "Body:\n",
      "Hi Ashley Taylor,\n",
      "\n",
      "Based on your interests, here are some new articles you might enjoy:\n",
      "\n",
      "- Hiring remote employees expands the talent pool\n",
      "The blog post emphasizes the importance of adapting onboarding, compliance, and team-building processes for companies to accommodate different time zones. This adjustment is necessary for the effective functioning of a global team.\n",
      "Link: https://garcia.com/\n",
      "\n",
      "Best,\n",
      "Your Content Agent\n",
      "\n",
      "Decision for Michelle Wang: {'comment': \"None of the available topics directly match the user's interests in Biology and Design. However, a new suggestion close to the user's interests could be Science Communication.\", 'available_or_suggested_topics': ['Science Communication']}\n",
      "Decision for Ashley Diaz: {'comment': 'Both Machine Learning and AI are closely related, so summarizing the post on AI could be of interest to the user.', 'available_or_suggested_topics': ['AI']}\n",
      "\n",
      "--- Simulated Email ---\n",
      "From: no-reply@agentic.local\n",
      "To: destinysantos@example.net\n",
      "Subject: 📰 Curated Articles for You: AI\n",
      "Body:\n",
      "Hi Ashley Diaz,\n",
      "\n",
      "Based on your interests, here are some new articles you might enjoy:\n",
      "\n",
      "- AI agents are being deployed in customer service, finance, and logistics\n",
      "The blog post discusses how autonomous systems are becoming more reliable in handling complex, multi-step tasks.\n",
      "Link: https://ford.net/\n",
      "\n",
      "Best,\n",
      "Your Content Agent\n",
      "\n",
      "Decision for Gregory Tran: {'comment': \"None of the available topics on the blog are directly related to Biology, so it's important not to suggest irrelevant content. However, a potential new topic suggestion related to Biology could be 'Genetics' or 'Evolution'.\", 'available_or_suggested_topics': []}\n",
      "Agent decided to skip user 'Gregory Tran'.\n",
      "Decision for Brian Dougherty: {'comment': 'Since the user is interested in Design, topics like Hiring and Career are not directly related. However, the topic AI could be of potential interest, as it intersects with design aspects in terms of emerging technologies and potential impacts on design processes.', 'available_or_suggested_topics': ['AI']}\n",
      "\n",
      "--- Simulated Email ---\n",
      "From: no-reply@agentic.local\n",
      "To: mariamitchell@example.com\n",
      "Subject: 📰 Curated Articles for You: AI\n",
      "Body:\n",
      "Hi Brian Dougherty,\n",
      "\n",
      "Based on your interests, here are some new articles you might enjoy:\n",
      "\n",
      "- AI agents are being deployed in customer service, finance, and logistics\n",
      "The blog post discusses the advancements in autonomous systems, highlighting their ability to efficiently and reliably handle multi-step tasks.\n",
      "Link: https://ford.net/\n",
      "\n",
      "Best,\n",
      "Your Content Agent\n",
      "\n",
      "Decision for Susan Welch: {'comment': \"Since the user is interested in 'Design' but the blog only has recent posts on 'Hiring', 'AI', and 'Career', there are no relevant topics available. As a suggestion, the blog could consider adding a new topic on 'Design Trends' to align more closely with the user's interests.\", 'available_or_suggested_topics': ['Design Trends']}\n"
     ]
    }
   ],
   "source": [
    "summarize_and_email(posts_df, users_df, memory, topics, 5)"
   ]
  },
  {
   "cell_type": "markdown",
   "id": "bfe140c8-5de7-4e89-8351-92edd69c29f5",
   "metadata": {},
   "source": [
    "## Alternative: Modular structure"
   ]
  },
  {
   "cell_type": "code",
   "execution_count": 20,
   "id": "3e050078-b1f2-415e-bb06-e76298c9c174",
   "metadata": {
    "tags": []
   },
   "outputs": [],
   "source": [
    "def agent_decide(user, available_topics):\n",
    "    return decide_action(user[\"interests\"], available_topics)\n"
   ]
  },
  {
   "cell_type": "code",
   "execution_count": 21,
   "id": "b10956b6-b174-48aa-a066-46c22db04689",
   "metadata": {
    "tags": []
   },
   "outputs": [],
   "source": [
    "def agent_plan(topics, posts_df, memory):\n",
    "    summaries = []\n",
    "    post_ids_to_mark = []\n",
    "    \n",
    "    for topic in topics:\n",
    "        topic_posts = posts_df[posts_df[\"topic\"] == topic]\n",
    "        for _, post in topic_posts.iterrows():\n",
    "            if post[\"post_id\"] in memory.get(\"sent_posts\", []):\n",
    "                continue\n",
    "            \n",
    "            summary = summarize_text(post[\"content\"])\n",
    "            summaries.append(f\"- {post['title']}\\n{summary}\\nLink: {post['url']}\")\n",
    "            post_ids_to_mark.append(post[\"post_id\"])\n",
    "    \n",
    "    return summaries, post_ids_to_mark\n"
   ]
  },
  {
   "cell_type": "code",
   "execution_count": 22,
   "id": "5ff0f1f2-a160-4233-bd81-aa78ce4f5337",
   "metadata": {
    "tags": []
   },
   "outputs": [],
   "source": [
    "def agent_act(user, topics, summaries):\n",
    "    if not summaries:\n",
    "        return\n",
    "\n",
    "    subject = f\"📰 Curated Articles for You: {', '.join(topics)}\"\n",
    "    summary_block = \"\\n\\n\".join(summaries)\n",
    "    body = f\"Hi {user['name']},\\n\\nBased on your interests, here are some new articles you might enjoy:\\n\\n{summary_block}\\n\\nBest,\\nYour Content Agent\"\n",
    "    send_email(user[\"email\"], subject, body)\n"
   ]
  },
  {
   "cell_type": "code",
   "execution_count": 35,
   "id": "a76e3214-ca7f-4b5c-bb78-1edb29128ec9",
   "metadata": {
    "tags": []
   },
   "outputs": [],
   "source": [
    "def summarize_and_email(posts_df, users_df, memory, topics, N=15):\n",
    "    selected_posts_df = get_posts(posts_df, N=N)\n",
    "    selected_posts_df[\"topic\"] = selected_posts_df[\"title\"].apply(lambda x: classify_topic(x, topics))\n",
    "    available_topics = selected_posts_df[\"topic\"].unique()\n",
    "\n",
    "    for _, user in users_df.iterrows():\n",
    "        decision = agent_decide(user, available_topics)\n",
    "        suggested_topics = decision.get(\"available_or_suggested_topics\", [])\n",
    "        if not suggested_topics:\n",
    "            print(f\"Agent skipped user {user['name']}\")\n",
    "            continue\n",
    "\n",
    "        summaries, post_ids = agent_plan(suggested_topics, selected_posts_df, memory)\n",
    "        agent_act(user, suggested_topics, summaries)\n",
    "\n",
    "        for post_id in post_ids:\n",
    "            memory.setdefault(\"sent_posts\", []).append(post_id)\n",
    "\n",
    "    save_memory(memory)\n"
   ]
  },
  {
   "cell_type": "code",
   "execution_count": 33,
   "id": "8c9702d6-ddff-4f8b-be59-6f3c67d68326",
   "metadata": {
    "scrolled": true,
    "tags": []
   },
   "outputs": [
    {
     "name": "stdout",
     "output_type": "stream",
     "text": [
      "\n",
      "--- Simulated Email ---\n",
      "From: no-reply@agentic.local\n",
      "To: fergusonvanessa@example.org\n",
      "Subject: 📰 Curated Articles for You: Leadership\n",
      "Body:\n",
      "Hi Kelly Kent,\n",
      "\n",
      "Based on your interests, here are some new articles you might enjoy:\n",
      "\n",
      "- Hiring diverse teams drives innovation\n",
      "The blog post discusses how diverse perspectives contribute to improved problem-solving and market relevance in global products. It highlights the importance of incorporating a variety of viewpoints to enhance the overall quality and effectiveness of products on a global scale.\n",
      "Link: https://www.adams.info/\n",
      "\n",
      "Best,\n",
      "Your Content Agent\n",
      "\n",
      "\n",
      "--- Simulated Email ---\n",
      "From: no-reply@agentic.local\n",
      "To: matthewgibbs@example.net\n",
      "Subject: 📰 Curated Articles for You: Leadership, Remote Work\n",
      "Body:\n",
      "Hi Steven Mclaughlin,\n",
      "\n",
      "Based on your interests, here are some new articles you might enjoy:\n",
      "\n",
      "- Effective remote work strategies hinge on clear communication and trust\n",
      "The blog post discusses how tools like async updates and regular check-ins can help distributed teams to stay aligned and productive. It emphasizes the importance of communication and staying connected while working remotely.\n",
      "Link: http://www.moore-stewart.com/\n",
      "\n",
      "Best,\n",
      "Your Content Agent\n",
      "\n"
     ]
    }
   ],
   "source": [
    "summarize_and_email(posts_df, users_df, memory, topics, N=5)"
   ]
  },
  {
   "cell_type": "markdown",
   "id": "9756ce80-b4ef-4f34-8ee8-17f21d7a81b0",
   "metadata": {},
   "source": [
    "# Langchain Implementation"
   ]
  },
  {
   "cell_type": "code",
   "execution_count": 26,
   "id": "41a381f1-b436-4c55-aa02-e46973910660",
   "metadata": {
    "tags": []
   },
   "outputs": [],
   "source": [
    "import os\n",
    "os.environ[\"OPENAI_API_KEY\"] = openai.api_key"
   ]
  },
  {
   "cell_type": "code",
   "execution_count": 30,
   "id": "ff2df945-5273-4e08-89bb-a0ed33762489",
   "metadata": {
    "scrolled": true,
    "tags": []
   },
   "outputs": [
    {
     "name": "stdout",
     "output_type": "stream",
     "text": [
      "\n",
      "\n",
      "\u001b[1m> Entering new AgentExecutor chain...\u001b[0m\n",
      "\u001b[32;1m\u001b[1;3m\n",
      "Invoking: `get_posts_tool` with `{}`\n",
      "\n",
      "\n",
      "\u001b[0m\u001b[36;1m\u001b[1;3mpost_id,title,content,url,date\n",
      "post_17,Machine learning fairness requires testing for demographic parity and representation,Responsible ML teams include evaluation metrics beyond accuracy.,http://holmes.biz/,2025-07-15\n",
      "post_25,Hiring for potential—not pedigree—is a trend,Assessments and structured interviews outperform CVs when predicting on-the-job success.,http://donaldson.biz/,2025-07-20\n",
      "post_22,Remote-first companies are leading with flexibility,\"They invest in outcomes, not hours, and prioritize written documentation and async workflows.\",https://www.sparks.com/,2025-07-11\n",
      "post_27,Leadership storytelling creates alignment,Clear narratives help teams understand why decisions are made and where the company is headed.,http://rhodes-thompson.com/,2025-07-08\n",
      "post_12,Biological systems inspire AI architectures,\"Neural networks borrow from brain-like structures, and evolutionary strategies mimic natural selection for optimization.\",http://gonzalez-watkins.com/,2025-07-11\n",
      "post_23,\"AI-powered writing tools assist with clarity, grammar, and tone\",These tools are especially helpful in non-native contexts and fast-paced environments.,http://www.brewer-smith.com/,2025-07-18\n",
      "post_19,Leadership in hybrid teams involves managing visibility and equity,Leaders must intentionally support remote voices and avoid proximity bias.,https://www.jones.net/,2025-07-01\n",
      "post_47,AI in education personalizes learning,\"Adaptive systems adjust content difficulty, pace, and feedback for each student.\",https://jenkins.com/,2025-07-01\n",
      "post_5,Hiring in tech remains competitive,Companies now use structured interviews and skill-based assessments to fairly evaluate candidates and reduce hiring biases.,http://www.phillips-thomas.com/,2025-07-11\n",
      "post_3,Biology meets machine learning as protein folding problems get solved with deep neural networks,These breakthroughs accelerate drug discovery and bioengineering applications.,http://www.mccoy-pierce.com/,2025-07-20\n",
      "post_28,\"Career growth in tech now includes public speaking, open source contributions, and writing—forms of impact beyond just code\",,http://www.webb.net/,2025-07-01\n",
      "post_49,Hiring during economic uncertainty shifts focus to core roles and essential outcomes,Recruiters must partner tightly with leadership.,http://www.mendoza.com/,2025-07-05\n",
      "post_18,Design systems streamline product development,\"Shared components, tokens, and guidelines improve speed and consistency across design and engineering.\",http://jones.com/,2025-07-10\n",
      "post_44,Design leadership requires advocating for users and designers,Balancing business goals and user experience is a strategic skill.,https://www.sampson.com/,2025-07-10\n",
      "post_7,AI is revolutionizing leadership,\"From decision-support tools to sentiment analysis dashboards, executives gain real-time insights to steer complex organizations.\",https://www.newton-johnson.com/,2025-07-04\n",
      "\u001b[0m\u001b[32;1m\u001b[1;3m\n",
      "Invoking: `classify_topic_tool` with `{'title': 'Machine learning fairness requires testing for demographic parity and representation'}`\n",
      "\n",
      "\n",
      "\u001b[0m\u001b[33;1m\u001b[1;3mMachine Learning\u001b[0m\u001b[32;1m\u001b[1;3m\n",
      "Invoking: `summarize_text_tool` with `{'text': 'Responsible ML teams include evaluation metrics beyond accuracy.'}`\n",
      "\n",
      "\n",
      "\u001b[0m\u001b[38;5;200m\u001b[1;3mThe blog post emphasizes the importance of including evaluation metrics beyond accuracy in responsible machine learning (ML) teams. It discusses how relying solely on accuracy can lead to biased or unfair AI systems, and suggests using additional metrics like fairness, robustness, and interpretability to ensure a more comprehensive evaluation of ML models. By considering a wider range of metrics, teams can improve the transparency and accountability of their AI systems.\u001b[0m\u001b[32;1m\u001b[1;3m\n",
      "Invoking: `send_email_tool` with `{'email': 'hihello@blogs.com', 'subject': 'Summaries of Articles on Machine Learning', 'body': \"Here are the summaries of articles with the topic 'Machine Learning':\\n\\n1. Title: Machine learning fairness requires testing for demographic parity and representation\\nSummary: Responsible ML teams include evaluation metrics beyond accuracy.\\n\\n2. Title: AI-powered writing tools assist with clarity, grammar, and tone\\nSummary: These tools are especially helpful in non-native contexts and fast-paced environments.\\n\\n3. Title: Biology meets machine learning as protein folding problems get solved with deep neural networks\\nSummary: These breakthroughs accelerate drug discovery and bioengineering applications.\\n\\nFor more details, please visit the respective URLs provided in the summaries.\"}`\n",
      "\n",
      "\n",
      "\u001b[0m\n",
      "--- Simulated Email ---\n",
      "From: no-reply@agentic.local\n",
      "To: hihello@blogs.com\n",
      "Subject: Summaries of Articles on Machine Learning\n",
      "Body:\n",
      "Here are the summaries of articles with the topic 'Machine Learning':\n",
      "\n",
      "1. Title: Machine learning fairness requires testing for demographic parity and representation\n",
      "Summary: Responsible ML teams include evaluation metrics beyond accuracy.\n",
      "\n",
      "2. Title: AI-powered writing tools assist with clarity, grammar, and tone\n",
      "Summary: These tools are especially helpful in non-native contexts and fast-paced environments.\n",
      "\n",
      "3. Title: Biology meets machine learning as protein folding problems get solved with deep neural networks\n",
      "Summary: These breakthroughs accelerate drug discovery and bioengineering applications.\n",
      "\n",
      "For more details, please visit the respective URLs provided in the summaries.\n",
      "\n",
      "\u001b[36;1m\u001b[1;3mEmail sent to hihello@blogs.com.\u001b[0m\u001b[32;1m\u001b[1;3mI have sent an email to hihello@blogs.com with summaries of articles on the topic of Machine Learning. The email includes brief summaries of three articles related to Machine Learning.\u001b[0m\n",
      "\n",
      "\u001b[1m> Finished chain.\u001b[0m\n"
     ]
    },
    {
     "data": {
      "text/plain": [
       "'I have sent an email to hihello@blogs.com with summaries of articles on the topic of Machine Learning. The email includes brief summaries of three articles related to Machine Learning.'"
      ]
     },
     "execution_count": 30,
     "metadata": {},
     "output_type": "execute_result"
    }
   ],
   "source": [
    "from langchain.agents import initialize_agent, AgentType\n",
    "from langchain.memory import ConversationBufferMemory\n",
    "from langchain.tools import tool\n",
    "from langchain_openai import ChatOpenAI\n",
    "from langchain_experimental.tools import PythonREPLTool\n",
    "\n",
    "global_posts_df = posts_df\n",
    "memory = ConversationBufferMemory(memory_key=\"chat_history\", return_messages=True)\n",
    "\n",
    "# Define tools using LangChain's Tool interface\n",
    "@tool\n",
    "def get_posts_tool(N: int = 15) -> str:\n",
    "    \"\"\"Get N random blog posts.\"\"\"\n",
    "    N = int(N)\n",
    "    sampled_df = get_posts(global_posts_df, N)\n",
    "    return sampled_df.to_csv(index=False)\n",
    "\n",
    "\n",
    "@tool\n",
    "def classify_topic_tool(title: str) -> str:\n",
    "    \"\"\"Classify blog title into a predefined topic.\"\"\"\n",
    "    return classify_topic(title, topics)\n",
    "\n",
    "@tool\n",
    "def summarize_text_tool(text: str) -> str:\n",
    "    \"\"\"Summarize blog post content.\"\"\"\n",
    "    return summarize_text(text)\n",
    "\n",
    "@tool\n",
    "def send_email_tool(email: str, subject: str, body: str) -> str:\n",
    "    \"\"\"Send a simulated email.\"\"\"\n",
    "    send_email(email, subject, body)\n",
    "    return f\"Email sent to {email}.\"\n",
    "\n",
    "# Wrap tools in LangChain Tool format\n",
    "tools = [\n",
    "    get_posts_tool,\n",
    "    classify_topic_tool,\n",
    "    summarize_text_tool,\n",
    "    send_email_tool,\n",
    "    PythonREPLTool()\n",
    "]\n",
    "\n",
    "\n",
    "# Initialize the agent\n",
    "llm = ChatOpenAI(model_name=\"gpt-3.5-turbo\", temperature=0)\n",
    "agent = initialize_agent(\n",
    "    tools,\n",
    "    llm,\n",
    "    agent=AgentType.OPENAI_FUNCTIONS,\n",
    "    memory=memory,\n",
    "    verbose=True\n",
    ")\n",
    "\n",
    "# Example call to agent with a simple task\n",
    "agent.run(\"Send me email with summaries of articles with topic 'ML'. My email is hihello@blogs.com\")"
   ]
  },
  {
   "cell_type": "code",
   "execution_count": 29,
   "id": "748e8d66-adbf-4d9f-931a-32e2d5fc7191",
   "metadata": {
    "tags": []
   },
   "outputs": [
    {
     "name": "stdout",
     "output_type": "stream",
     "text": [
      "[HumanMessage(content=\"Email me summaries of articles with topic 'ML'. My email is hihello@blogs.com\"), AIMessage(content='I have emailed you a summary of the article on hiring. If you would like summaries of more articles on the topic of Machine Learning, please let me know!')]\n"
     ]
    }
   ],
   "source": [
    "# response = agent.run(\"Get me 3 posts\")\n",
    "print(memory.buffer_as_messages)"
   ]
  },
  {
   "cell_type": "code",
   "execution_count": null,
   "id": "19407383-de63-4b4e-a428-219fa4be3cbc",
   "metadata": {},
   "outputs": [],
   "source": []
  }
 ],
 "metadata": {
  "kernelspec": {
   "display_name": "LLM Env",
   "language": "python",
   "name": "llm_env"
  },
  "language_info": {
   "codemirror_mode": {
    "name": "ipython",
    "version": 3
   },
   "file_extension": ".py",
   "mimetype": "text/x-python",
   "name": "python",
   "nbconvert_exporter": "python",
   "pygments_lexer": "ipython3",
   "version": "3.10.16"
  }
 },
 "nbformat": 4,
 "nbformat_minor": 5
}
