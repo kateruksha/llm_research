{
  "nbformat": 4,
  "nbformat_minor": 0,
  "metadata": {
    "colab": {
      "provenance": [],
      "toc_visible": true
    },
    "kernelspec": {
      "name": "python3",
      "display_name": "Python 3"
    },
    "language_info": {
      "name": "python"
    }
  },
  "cells": [
    {
      "cell_type": "markdown",
      "source": [
        "# Set up"
      ],
      "metadata": {
        "id": "_YmdAgqA4Def"
      }
    },
    {
      "cell_type": "code",
      "source": [
        "!pip install openai==0.28\n",
        "!pip install pandas\n",
        "!pip install langchain\n",
        "!pip install langchain_openai\n",
        "!pip install langchain_community\n",
        "!pip install llama-index==0.9.42"
      ],
      "metadata": {
        "colab": {
          "base_uri": "https://localhost:8080/"
        },
        "collapsed": true,
        "id": "b8-7XRMf4F18",
        "outputId": "b78ae6f5-8287-40c7-dc6c-894666e2c4d3"
      },
      "execution_count": 1,
      "outputs": [
        {
          "output_type": "stream",
          "name": "stdout",
          "text": [
            "Collecting openai\n",
            "  Downloading openai-1.30.4-py3-none-any.whl (320 kB)\n",
            "\u001b[2K     \u001b[90m━━━━━━━━━━━━━━━━━━━━━━━━━━━━━━━━━━━━━━━━\u001b[0m \u001b[32m320.6/320.6 kB\u001b[0m \u001b[31m1.9 MB/s\u001b[0m eta \u001b[36m0:00:00\u001b[0m\n",
            "\u001b[?25hRequirement already satisfied: anyio<5,>=3.5.0 in /usr/local/lib/python3.10/dist-packages (from openai) (3.7.1)\n",
            "Requirement already satisfied: distro<2,>=1.7.0 in /usr/lib/python3/dist-packages (from openai) (1.7.0)\n",
            "Collecting httpx<1,>=0.23.0 (from openai)\n",
            "  Downloading httpx-0.27.0-py3-none-any.whl (75 kB)\n",
            "\u001b[2K     \u001b[90m━━━━━━━━━━━━━━━━━━━━━━━━━━━━━━━━━━━━━━━━\u001b[0m \u001b[32m75.6/75.6 kB\u001b[0m \u001b[31m3.1 MB/s\u001b[0m eta \u001b[36m0:00:00\u001b[0m\n",
            "\u001b[?25hRequirement already satisfied: pydantic<3,>=1.9.0 in /usr/local/lib/python3.10/dist-packages (from openai) (2.7.1)\n",
            "Requirement already satisfied: sniffio in /usr/local/lib/python3.10/dist-packages (from openai) (1.3.1)\n",
            "Requirement already satisfied: tqdm>4 in /usr/local/lib/python3.10/dist-packages (from openai) (4.66.4)\n",
            "Requirement already satisfied: typing-extensions<5,>=4.7 in /usr/local/lib/python3.10/dist-packages (from openai) (4.11.0)\n",
            "Requirement already satisfied: idna>=2.8 in /usr/local/lib/python3.10/dist-packages (from anyio<5,>=3.5.0->openai) (3.7)\n",
            "Requirement already satisfied: exceptiongroup in /usr/local/lib/python3.10/dist-packages (from anyio<5,>=3.5.0->openai) (1.2.1)\n",
            "Requirement already satisfied: certifi in /usr/local/lib/python3.10/dist-packages (from httpx<1,>=0.23.0->openai) (2024.2.2)\n",
            "Collecting httpcore==1.* (from httpx<1,>=0.23.0->openai)\n",
            "  Downloading httpcore-1.0.5-py3-none-any.whl (77 kB)\n",
            "\u001b[2K     \u001b[90m━━━━━━━━━━━━━━━━━━━━━━━━━━━━━━━━━━━━━━━━\u001b[0m \u001b[32m77.9/77.9 kB\u001b[0m \u001b[31m3.7 MB/s\u001b[0m eta \u001b[36m0:00:00\u001b[0m\n",
            "\u001b[?25hCollecting h11<0.15,>=0.13 (from httpcore==1.*->httpx<1,>=0.23.0->openai)\n",
            "  Downloading h11-0.14.0-py3-none-any.whl (58 kB)\n",
            "\u001b[2K     \u001b[90m━━━━━━━━━━━━━━━━━━━━━━━━━━━━━━━━━━━━━━━━\u001b[0m \u001b[32m58.3/58.3 kB\u001b[0m \u001b[31m1.5 MB/s\u001b[0m eta \u001b[36m0:00:00\u001b[0m\n",
            "\u001b[?25hRequirement already satisfied: annotated-types>=0.4.0 in /usr/local/lib/python3.10/dist-packages (from pydantic<3,>=1.9.0->openai) (0.7.0)\n",
            "Requirement already satisfied: pydantic-core==2.18.2 in /usr/local/lib/python3.10/dist-packages (from pydantic<3,>=1.9.0->openai) (2.18.2)\n",
            "Installing collected packages: h11, httpcore, httpx, openai\n",
            "Successfully installed h11-0.14.0 httpcore-1.0.5 httpx-0.27.0 openai-1.30.4\n",
            "Requirement already satisfied: pandas in /usr/local/lib/python3.10/dist-packages (2.0.3)\n",
            "Requirement already satisfied: python-dateutil>=2.8.2 in /usr/local/lib/python3.10/dist-packages (from pandas) (2.8.2)\n",
            "Requirement already satisfied: pytz>=2020.1 in /usr/local/lib/python3.10/dist-packages (from pandas) (2023.4)\n",
            "Requirement already satisfied: tzdata>=2022.1 in /usr/local/lib/python3.10/dist-packages (from pandas) (2024.1)\n",
            "Requirement already satisfied: numpy>=1.21.0 in /usr/local/lib/python3.10/dist-packages (from pandas) (1.25.2)\n",
            "Requirement already satisfied: six>=1.5 in /usr/local/lib/python3.10/dist-packages (from python-dateutil>=2.8.2->pandas) (1.16.0)\n",
            "Collecting langchain\n",
            "  Downloading langchain-0.2.1-py3-none-any.whl (973 kB)\n",
            "\u001b[2K     \u001b[90m━━━━━━━━━━━━━━━━━━━━━━━━━━━━━━━━━━━━━━━━\u001b[0m \u001b[32m973.5/973.5 kB\u001b[0m \u001b[31m5.4 MB/s\u001b[0m eta \u001b[36m0:00:00\u001b[0m\n",
            "\u001b[?25hRequirement already satisfied: PyYAML>=5.3 in /usr/local/lib/python3.10/dist-packages (from langchain) (6.0.1)\n",
            "Requirement already satisfied: SQLAlchemy<3,>=1.4 in /usr/local/lib/python3.10/dist-packages (from langchain) (2.0.30)\n",
            "Requirement already satisfied: aiohttp<4.0.0,>=3.8.3 in /usr/local/lib/python3.10/dist-packages (from langchain) (3.9.5)\n",
            "Requirement already satisfied: async-timeout<5.0.0,>=4.0.0 in /usr/local/lib/python3.10/dist-packages (from langchain) (4.0.3)\n",
            "Collecting langchain-core<0.3.0,>=0.2.0 (from langchain)\n",
            "  Downloading langchain_core-0.2.1-py3-none-any.whl (308 kB)\n",
            "\u001b[2K     \u001b[90m━━━━━━━━━━━━━━━━━━━━━━━━━━━━━━━━━━━━━━━━\u001b[0m \u001b[32m308.5/308.5 kB\u001b[0m \u001b[31m32.7 MB/s\u001b[0m eta \u001b[36m0:00:00\u001b[0m\n",
            "\u001b[?25hCollecting langchain-text-splitters<0.3.0,>=0.2.0 (from langchain)\n",
            "  Downloading langchain_text_splitters-0.2.0-py3-none-any.whl (23 kB)\n",
            "Collecting langsmith<0.2.0,>=0.1.17 (from langchain)\n",
            "  Downloading langsmith-0.1.63-py3-none-any.whl (122 kB)\n",
            "\u001b[2K     \u001b[90m━━━━━━━━━━━━━━━━━━━━━━━━━━━━━━━━━━━━━━━━\u001b[0m \u001b[32m122.8/122.8 kB\u001b[0m \u001b[31m15.3 MB/s\u001b[0m eta \u001b[36m0:00:00\u001b[0m\n",
            "\u001b[?25hRequirement already satisfied: numpy<2,>=1 in /usr/local/lib/python3.10/dist-packages (from langchain) (1.25.2)\n",
            "Requirement already satisfied: pydantic<3,>=1 in /usr/local/lib/python3.10/dist-packages (from langchain) (2.7.1)\n",
            "Requirement already satisfied: requests<3,>=2 in /usr/local/lib/python3.10/dist-packages (from langchain) (2.31.0)\n",
            "Requirement already satisfied: tenacity<9.0.0,>=8.1.0 in /usr/local/lib/python3.10/dist-packages (from langchain) (8.3.0)\n",
            "Requirement already satisfied: aiosignal>=1.1.2 in /usr/local/lib/python3.10/dist-packages (from aiohttp<4.0.0,>=3.8.3->langchain) (1.3.1)\n",
            "Requirement already satisfied: attrs>=17.3.0 in /usr/local/lib/python3.10/dist-packages (from aiohttp<4.0.0,>=3.8.3->langchain) (23.2.0)\n",
            "Requirement already satisfied: frozenlist>=1.1.1 in /usr/local/lib/python3.10/dist-packages (from aiohttp<4.0.0,>=3.8.3->langchain) (1.4.1)\n",
            "Requirement already satisfied: multidict<7.0,>=4.5 in /usr/local/lib/python3.10/dist-packages (from aiohttp<4.0.0,>=3.8.3->langchain) (6.0.5)\n",
            "Requirement already satisfied: yarl<2.0,>=1.0 in /usr/local/lib/python3.10/dist-packages (from aiohttp<4.0.0,>=3.8.3->langchain) (1.9.4)\n",
            "Collecting jsonpatch<2.0,>=1.33 (from langchain-core<0.3.0,>=0.2.0->langchain)\n",
            "  Downloading jsonpatch-1.33-py2.py3-none-any.whl (12 kB)\n",
            "Collecting packaging<24.0,>=23.2 (from langchain-core<0.3.0,>=0.2.0->langchain)\n",
            "  Downloading packaging-23.2-py3-none-any.whl (53 kB)\n",
            "\u001b[2K     \u001b[90m━━━━━━━━━━━━━━━━━━━━━━━━━━━━━━━━━━━━━━━━\u001b[0m \u001b[32m53.0/53.0 kB\u001b[0m \u001b[31m6.6 MB/s\u001b[0m eta \u001b[36m0:00:00\u001b[0m\n",
            "\u001b[?25hCollecting orjson<4.0.0,>=3.9.14 (from langsmith<0.2.0,>=0.1.17->langchain)\n",
            "  Downloading orjson-3.10.3-cp310-cp310-manylinux_2_17_x86_64.manylinux2014_x86_64.whl (142 kB)\n",
            "\u001b[2K     \u001b[90m━━━━━━━━━━━━━━━━━━━━━━━━━━━━━━━━━━━━━━━━\u001b[0m \u001b[32m142.5/142.5 kB\u001b[0m \u001b[31m11.0 MB/s\u001b[0m eta \u001b[36m0:00:00\u001b[0m\n",
            "\u001b[?25hRequirement already satisfied: annotated-types>=0.4.0 in /usr/local/lib/python3.10/dist-packages (from pydantic<3,>=1->langchain) (0.7.0)\n",
            "Requirement already satisfied: pydantic-core==2.18.2 in /usr/local/lib/python3.10/dist-packages (from pydantic<3,>=1->langchain) (2.18.2)\n",
            "Requirement already satisfied: typing-extensions>=4.6.1 in /usr/local/lib/python3.10/dist-packages (from pydantic<3,>=1->langchain) (4.11.0)\n",
            "Requirement already satisfied: charset-normalizer<4,>=2 in /usr/local/lib/python3.10/dist-packages (from requests<3,>=2->langchain) (3.3.2)\n",
            "Requirement already satisfied: idna<4,>=2.5 in /usr/local/lib/python3.10/dist-packages (from requests<3,>=2->langchain) (3.7)\n",
            "Requirement already satisfied: urllib3<3,>=1.21.1 in /usr/local/lib/python3.10/dist-packages (from requests<3,>=2->langchain) (2.0.7)\n",
            "Requirement already satisfied: certifi>=2017.4.17 in /usr/local/lib/python3.10/dist-packages (from requests<3,>=2->langchain) (2024.2.2)\n",
            "Requirement already satisfied: greenlet!=0.4.17 in /usr/local/lib/python3.10/dist-packages (from SQLAlchemy<3,>=1.4->langchain) (3.0.3)\n",
            "Collecting jsonpointer>=1.9 (from jsonpatch<2.0,>=1.33->langchain-core<0.3.0,>=0.2.0->langchain)\n",
            "  Downloading jsonpointer-2.4-py2.py3-none-any.whl (7.8 kB)\n",
            "Installing collected packages: packaging, orjson, jsonpointer, jsonpatch, langsmith, langchain-core, langchain-text-splitters, langchain\n",
            "  Attempting uninstall: packaging\n",
            "    Found existing installation: packaging 24.0\n",
            "    Uninstalling packaging-24.0:\n",
            "      Successfully uninstalled packaging-24.0\n",
            "Successfully installed jsonpatch-1.33 jsonpointer-2.4 langchain-0.2.1 langchain-core-0.2.1 langchain-text-splitters-0.2.0 langsmith-0.1.63 orjson-3.10.3 packaging-23.2\n",
            "Collecting langchain_openai\n",
            "  Downloading langchain_openai-0.1.7-py3-none-any.whl (34 kB)\n",
            "Requirement already satisfied: langchain-core<0.3,>=0.1.46 in /usr/local/lib/python3.10/dist-packages (from langchain_openai) (0.2.1)\n",
            "Requirement already satisfied: openai<2.0.0,>=1.24.0 in /usr/local/lib/python3.10/dist-packages (from langchain_openai) (1.30.4)\n",
            "Collecting tiktoken<1,>=0.7 (from langchain_openai)\n",
            "  Downloading tiktoken-0.7.0-cp310-cp310-manylinux_2_17_x86_64.manylinux2014_x86_64.whl (1.1 MB)\n",
            "\u001b[2K     \u001b[90m━━━━━━━━━━━━━━━━━━━━━━━━━━━━━━━━━━━━━━━━\u001b[0m \u001b[32m1.1/1.1 MB\u001b[0m \u001b[31m7.2 MB/s\u001b[0m eta \u001b[36m0:00:00\u001b[0m\n",
            "\u001b[?25hRequirement already satisfied: PyYAML>=5.3 in /usr/local/lib/python3.10/dist-packages (from langchain-core<0.3,>=0.1.46->langchain_openai) (6.0.1)\n",
            "Requirement already satisfied: jsonpatch<2.0,>=1.33 in /usr/local/lib/python3.10/dist-packages (from langchain-core<0.3,>=0.1.46->langchain_openai) (1.33)\n",
            "Requirement already satisfied: langsmith<0.2.0,>=0.1.0 in /usr/local/lib/python3.10/dist-packages (from langchain-core<0.3,>=0.1.46->langchain_openai) (0.1.63)\n",
            "Requirement already satisfied: packaging<24.0,>=23.2 in /usr/local/lib/python3.10/dist-packages (from langchain-core<0.3,>=0.1.46->langchain_openai) (23.2)\n",
            "Requirement already satisfied: pydantic<3,>=1 in /usr/local/lib/python3.10/dist-packages (from langchain-core<0.3,>=0.1.46->langchain_openai) (2.7.1)\n",
            "Requirement already satisfied: tenacity<9.0.0,>=8.1.0 in /usr/local/lib/python3.10/dist-packages (from langchain-core<0.3,>=0.1.46->langchain_openai) (8.3.0)\n",
            "Requirement already satisfied: anyio<5,>=3.5.0 in /usr/local/lib/python3.10/dist-packages (from openai<2.0.0,>=1.24.0->langchain_openai) (3.7.1)\n",
            "Requirement already satisfied: distro<2,>=1.7.0 in /usr/lib/python3/dist-packages (from openai<2.0.0,>=1.24.0->langchain_openai) (1.7.0)\n",
            "Requirement already satisfied: httpx<1,>=0.23.0 in /usr/local/lib/python3.10/dist-packages (from openai<2.0.0,>=1.24.0->langchain_openai) (0.27.0)\n",
            "Requirement already satisfied: sniffio in /usr/local/lib/python3.10/dist-packages (from openai<2.0.0,>=1.24.0->langchain_openai) (1.3.1)\n",
            "Requirement already satisfied: tqdm>4 in /usr/local/lib/python3.10/dist-packages (from openai<2.0.0,>=1.24.0->langchain_openai) (4.66.4)\n",
            "Requirement already satisfied: typing-extensions<5,>=4.7 in /usr/local/lib/python3.10/dist-packages (from openai<2.0.0,>=1.24.0->langchain_openai) (4.11.0)\n",
            "Requirement already satisfied: regex>=2022.1.18 in /usr/local/lib/python3.10/dist-packages (from tiktoken<1,>=0.7->langchain_openai) (2024.5.15)\n",
            "Requirement already satisfied: requests>=2.26.0 in /usr/local/lib/python3.10/dist-packages (from tiktoken<1,>=0.7->langchain_openai) (2.31.0)\n",
            "Requirement already satisfied: idna>=2.8 in /usr/local/lib/python3.10/dist-packages (from anyio<5,>=3.5.0->openai<2.0.0,>=1.24.0->langchain_openai) (3.7)\n",
            "Requirement already satisfied: exceptiongroup in /usr/local/lib/python3.10/dist-packages (from anyio<5,>=3.5.0->openai<2.0.0,>=1.24.0->langchain_openai) (1.2.1)\n",
            "Requirement already satisfied: certifi in /usr/local/lib/python3.10/dist-packages (from httpx<1,>=0.23.0->openai<2.0.0,>=1.24.0->langchain_openai) (2024.2.2)\n",
            "Requirement already satisfied: httpcore==1.* in /usr/local/lib/python3.10/dist-packages (from httpx<1,>=0.23.0->openai<2.0.0,>=1.24.0->langchain_openai) (1.0.5)\n",
            "Requirement already satisfied: h11<0.15,>=0.13 in /usr/local/lib/python3.10/dist-packages (from httpcore==1.*->httpx<1,>=0.23.0->openai<2.0.0,>=1.24.0->langchain_openai) (0.14.0)\n",
            "Requirement already satisfied: jsonpointer>=1.9 in /usr/local/lib/python3.10/dist-packages (from jsonpatch<2.0,>=1.33->langchain-core<0.3,>=0.1.46->langchain_openai) (2.4)\n",
            "Requirement already satisfied: orjson<4.0.0,>=3.9.14 in /usr/local/lib/python3.10/dist-packages (from langsmith<0.2.0,>=0.1.0->langchain-core<0.3,>=0.1.46->langchain_openai) (3.10.3)\n",
            "Requirement already satisfied: annotated-types>=0.4.0 in /usr/local/lib/python3.10/dist-packages (from pydantic<3,>=1->langchain-core<0.3,>=0.1.46->langchain_openai) (0.7.0)\n",
            "Requirement already satisfied: pydantic-core==2.18.2 in /usr/local/lib/python3.10/dist-packages (from pydantic<3,>=1->langchain-core<0.3,>=0.1.46->langchain_openai) (2.18.2)\n",
            "Requirement already satisfied: charset-normalizer<4,>=2 in /usr/local/lib/python3.10/dist-packages (from requests>=2.26.0->tiktoken<1,>=0.7->langchain_openai) (3.3.2)\n",
            "Requirement already satisfied: urllib3<3,>=1.21.1 in /usr/local/lib/python3.10/dist-packages (from requests>=2.26.0->tiktoken<1,>=0.7->langchain_openai) (2.0.7)\n",
            "Installing collected packages: tiktoken, langchain_openai\n",
            "Successfully installed langchain_openai-0.1.7 tiktoken-0.7.0\n",
            "Collecting langchain_community\n",
            "  Downloading langchain_community-0.2.1-py3-none-any.whl (2.1 MB)\n",
            "\u001b[2K     \u001b[90m━━━━━━━━━━━━━━━━━━━━━━━━━━━━━━━━━━━━━━━━\u001b[0m \u001b[32m2.1/2.1 MB\u001b[0m \u001b[31m7.3 MB/s\u001b[0m eta \u001b[36m0:00:00\u001b[0m\n",
            "\u001b[?25hRequirement already satisfied: PyYAML>=5.3 in /usr/local/lib/python3.10/dist-packages (from langchain_community) (6.0.1)\n",
            "Requirement already satisfied: SQLAlchemy<3,>=1.4 in /usr/local/lib/python3.10/dist-packages (from langchain_community) (2.0.30)\n",
            "Requirement already satisfied: aiohttp<4.0.0,>=3.8.3 in /usr/local/lib/python3.10/dist-packages (from langchain_community) (3.9.5)\n",
            "Collecting dataclasses-json<0.7,>=0.5.7 (from langchain_community)\n",
            "  Downloading dataclasses_json-0.6.6-py3-none-any.whl (28 kB)\n",
            "Requirement already satisfied: langchain<0.3.0,>=0.2.0 in /usr/local/lib/python3.10/dist-packages (from langchain_community) (0.2.1)\n",
            "Requirement already satisfied: langchain-core<0.3.0,>=0.2.0 in /usr/local/lib/python3.10/dist-packages (from langchain_community) (0.2.1)\n",
            "Requirement already satisfied: langsmith<0.2.0,>=0.1.0 in /usr/local/lib/python3.10/dist-packages (from langchain_community) (0.1.63)\n",
            "Requirement already satisfied: numpy<2,>=1 in /usr/local/lib/python3.10/dist-packages (from langchain_community) (1.25.2)\n",
            "Requirement already satisfied: requests<3,>=2 in /usr/local/lib/python3.10/dist-packages (from langchain_community) (2.31.0)\n",
            "Requirement already satisfied: tenacity<9.0.0,>=8.1.0 in /usr/local/lib/python3.10/dist-packages (from langchain_community) (8.3.0)\n",
            "Requirement already satisfied: aiosignal>=1.1.2 in /usr/local/lib/python3.10/dist-packages (from aiohttp<4.0.0,>=3.8.3->langchain_community) (1.3.1)\n",
            "Requirement already satisfied: attrs>=17.3.0 in /usr/local/lib/python3.10/dist-packages (from aiohttp<4.0.0,>=3.8.3->langchain_community) (23.2.0)\n",
            "Requirement already satisfied: frozenlist>=1.1.1 in /usr/local/lib/python3.10/dist-packages (from aiohttp<4.0.0,>=3.8.3->langchain_community) (1.4.1)\n",
            "Requirement already satisfied: multidict<7.0,>=4.5 in /usr/local/lib/python3.10/dist-packages (from aiohttp<4.0.0,>=3.8.3->langchain_community) (6.0.5)\n",
            "Requirement already satisfied: yarl<2.0,>=1.0 in /usr/local/lib/python3.10/dist-packages (from aiohttp<4.0.0,>=3.8.3->langchain_community) (1.9.4)\n",
            "Requirement already satisfied: async-timeout<5.0,>=4.0 in /usr/local/lib/python3.10/dist-packages (from aiohttp<4.0.0,>=3.8.3->langchain_community) (4.0.3)\n",
            "Collecting marshmallow<4.0.0,>=3.18.0 (from dataclasses-json<0.7,>=0.5.7->langchain_community)\n",
            "  Downloading marshmallow-3.21.2-py3-none-any.whl (49 kB)\n",
            "\u001b[2K     \u001b[90m━━━━━━━━━━━━━━━━━━━━━━━━━━━━━━━━━━━━━━━━\u001b[0m \u001b[32m49.3/49.3 kB\u001b[0m \u001b[31m5.7 MB/s\u001b[0m eta \u001b[36m0:00:00\u001b[0m\n",
            "\u001b[?25hCollecting typing-inspect<1,>=0.4.0 (from dataclasses-json<0.7,>=0.5.7->langchain_community)\n",
            "  Downloading typing_inspect-0.9.0-py3-none-any.whl (8.8 kB)\n",
            "Requirement already satisfied: langchain-text-splitters<0.3.0,>=0.2.0 in /usr/local/lib/python3.10/dist-packages (from langchain<0.3.0,>=0.2.0->langchain_community) (0.2.0)\n",
            "Requirement already satisfied: pydantic<3,>=1 in /usr/local/lib/python3.10/dist-packages (from langchain<0.3.0,>=0.2.0->langchain_community) (2.7.1)\n",
            "Requirement already satisfied: jsonpatch<2.0,>=1.33 in /usr/local/lib/python3.10/dist-packages (from langchain-core<0.3.0,>=0.2.0->langchain_community) (1.33)\n",
            "Requirement already satisfied: packaging<24.0,>=23.2 in /usr/local/lib/python3.10/dist-packages (from langchain-core<0.3.0,>=0.2.0->langchain_community) (23.2)\n",
            "Requirement already satisfied: orjson<4.0.0,>=3.9.14 in /usr/local/lib/python3.10/dist-packages (from langsmith<0.2.0,>=0.1.0->langchain_community) (3.10.3)\n",
            "Requirement already satisfied: charset-normalizer<4,>=2 in /usr/local/lib/python3.10/dist-packages (from requests<3,>=2->langchain_community) (3.3.2)\n",
            "Requirement already satisfied: idna<4,>=2.5 in /usr/local/lib/python3.10/dist-packages (from requests<3,>=2->langchain_community) (3.7)\n",
            "Requirement already satisfied: urllib3<3,>=1.21.1 in /usr/local/lib/python3.10/dist-packages (from requests<3,>=2->langchain_community) (2.0.7)\n",
            "Requirement already satisfied: certifi>=2017.4.17 in /usr/local/lib/python3.10/dist-packages (from requests<3,>=2->langchain_community) (2024.2.2)\n",
            "Requirement already satisfied: typing-extensions>=4.6.0 in /usr/local/lib/python3.10/dist-packages (from SQLAlchemy<3,>=1.4->langchain_community) (4.11.0)\n",
            "Requirement already satisfied: greenlet!=0.4.17 in /usr/local/lib/python3.10/dist-packages (from SQLAlchemy<3,>=1.4->langchain_community) (3.0.3)\n",
            "Requirement already satisfied: jsonpointer>=1.9 in /usr/local/lib/python3.10/dist-packages (from jsonpatch<2.0,>=1.33->langchain-core<0.3.0,>=0.2.0->langchain_community) (2.4)\n",
            "Requirement already satisfied: annotated-types>=0.4.0 in /usr/local/lib/python3.10/dist-packages (from pydantic<3,>=1->langchain<0.3.0,>=0.2.0->langchain_community) (0.7.0)\n",
            "Requirement already satisfied: pydantic-core==2.18.2 in /usr/local/lib/python3.10/dist-packages (from pydantic<3,>=1->langchain<0.3.0,>=0.2.0->langchain_community) (2.18.2)\n",
            "Collecting mypy-extensions>=0.3.0 (from typing-inspect<1,>=0.4.0->dataclasses-json<0.7,>=0.5.7->langchain_community)\n",
            "  Downloading mypy_extensions-1.0.0-py3-none-any.whl (4.7 kB)\n",
            "Installing collected packages: mypy-extensions, marshmallow, typing-inspect, dataclasses-json, langchain_community\n",
            "Successfully installed dataclasses-json-0.6.6 langchain_community-0.2.1 marshmallow-3.21.2 mypy-extensions-1.0.0 typing-inspect-0.9.0\n",
            "Collecting llama-index==0.9.42\n",
            "  Downloading llama_index-0.9.42-py3-none-any.whl (15.9 MB)\n",
            "\u001b[2K     \u001b[90m━━━━━━━━━━━━━━━━━━━━━━━━━━━━━━━━━━━━━━━━\u001b[0m \u001b[32m15.9/15.9 MB\u001b[0m \u001b[31m29.3 MB/s\u001b[0m eta \u001b[36m0:00:00\u001b[0m\n",
            "\u001b[?25hRequirement already satisfied: SQLAlchemy[asyncio]>=1.4.49 in /usr/local/lib/python3.10/dist-packages (from llama-index==0.9.42) (2.0.30)\n",
            "Requirement already satisfied: aiohttp<4.0.0,>=3.8.6 in /usr/local/lib/python3.10/dist-packages (from llama-index==0.9.42) (3.9.5)\n",
            "Requirement already satisfied: dataclasses-json in /usr/local/lib/python3.10/dist-packages (from llama-index==0.9.42) (0.6.6)\n",
            "Collecting deprecated>=1.2.9.3 (from llama-index==0.9.42)\n",
            "  Downloading Deprecated-1.2.14-py2.py3-none-any.whl (9.6 kB)\n",
            "Collecting dirtyjson<2.0.0,>=1.0.8 (from llama-index==0.9.42)\n",
            "  Downloading dirtyjson-1.0.8-py3-none-any.whl (25 kB)\n",
            "Requirement already satisfied: fsspec>=2023.5.0 in /usr/local/lib/python3.10/dist-packages (from llama-index==0.9.42) (2023.6.0)\n",
            "Requirement already satisfied: httpx in /usr/local/lib/python3.10/dist-packages (from llama-index==0.9.42) (0.27.0)\n",
            "Requirement already satisfied: nest-asyncio<2.0.0,>=1.5.8 in /usr/local/lib/python3.10/dist-packages (from llama-index==0.9.42) (1.6.0)\n",
            "Requirement already satisfied: networkx>=3.0 in /usr/local/lib/python3.10/dist-packages (from llama-index==0.9.42) (3.3)\n",
            "Requirement already satisfied: nltk<4.0.0,>=3.8.1 in /usr/local/lib/python3.10/dist-packages (from llama-index==0.9.42) (3.8.1)\n",
            "Requirement already satisfied: numpy in /usr/local/lib/python3.10/dist-packages (from llama-index==0.9.42) (1.25.2)\n",
            "Requirement already satisfied: openai>=1.1.0 in /usr/local/lib/python3.10/dist-packages (from llama-index==0.9.42) (1.30.4)\n",
            "Requirement already satisfied: pandas in /usr/local/lib/python3.10/dist-packages (from llama-index==0.9.42) (2.0.3)\n",
            "Requirement already satisfied: requests>=2.31.0 in /usr/local/lib/python3.10/dist-packages (from llama-index==0.9.42) (2.31.0)\n",
            "Requirement already satisfied: tenacity<9.0.0,>=8.2.0 in /usr/local/lib/python3.10/dist-packages (from llama-index==0.9.42) (8.3.0)\n",
            "Requirement already satisfied: tiktoken>=0.3.3 in /usr/local/lib/python3.10/dist-packages (from llama-index==0.9.42) (0.7.0)\n",
            "Requirement already satisfied: typing-extensions>=4.5.0 in /usr/local/lib/python3.10/dist-packages (from llama-index==0.9.42) (4.11.0)\n",
            "Requirement already satisfied: typing-inspect>=0.8.0 in /usr/local/lib/python3.10/dist-packages (from llama-index==0.9.42) (0.9.0)\n",
            "Requirement already satisfied: aiosignal>=1.1.2 in /usr/local/lib/python3.10/dist-packages (from aiohttp<4.0.0,>=3.8.6->llama-index==0.9.42) (1.3.1)\n",
            "Requirement already satisfied: attrs>=17.3.0 in /usr/local/lib/python3.10/dist-packages (from aiohttp<4.0.0,>=3.8.6->llama-index==0.9.42) (23.2.0)\n",
            "Requirement already satisfied: frozenlist>=1.1.1 in /usr/local/lib/python3.10/dist-packages (from aiohttp<4.0.0,>=3.8.6->llama-index==0.9.42) (1.4.1)\n",
            "Requirement already satisfied: multidict<7.0,>=4.5 in /usr/local/lib/python3.10/dist-packages (from aiohttp<4.0.0,>=3.8.6->llama-index==0.9.42) (6.0.5)\n",
            "Requirement already satisfied: yarl<2.0,>=1.0 in /usr/local/lib/python3.10/dist-packages (from aiohttp<4.0.0,>=3.8.6->llama-index==0.9.42) (1.9.4)\n",
            "Requirement already satisfied: async-timeout<5.0,>=4.0 in /usr/local/lib/python3.10/dist-packages (from aiohttp<4.0.0,>=3.8.6->llama-index==0.9.42) (4.0.3)\n",
            "Requirement already satisfied: wrapt<2,>=1.10 in /usr/local/lib/python3.10/dist-packages (from deprecated>=1.2.9.3->llama-index==0.9.42) (1.14.1)\n",
            "Requirement already satisfied: click in /usr/local/lib/python3.10/dist-packages (from nltk<4.0.0,>=3.8.1->llama-index==0.9.42) (8.1.7)\n",
            "Requirement already satisfied: joblib in /usr/local/lib/python3.10/dist-packages (from nltk<4.0.0,>=3.8.1->llama-index==0.9.42) (1.4.2)\n",
            "Requirement already satisfied: regex>=2021.8.3 in /usr/local/lib/python3.10/dist-packages (from nltk<4.0.0,>=3.8.1->llama-index==0.9.42) (2024.5.15)\n",
            "Requirement already satisfied: tqdm in /usr/local/lib/python3.10/dist-packages (from nltk<4.0.0,>=3.8.1->llama-index==0.9.42) (4.66.4)\n",
            "Requirement already satisfied: anyio<5,>=3.5.0 in /usr/local/lib/python3.10/dist-packages (from openai>=1.1.0->llama-index==0.9.42) (3.7.1)\n",
            "Requirement already satisfied: distro<2,>=1.7.0 in /usr/lib/python3/dist-packages (from openai>=1.1.0->llama-index==0.9.42) (1.7.0)\n",
            "Requirement already satisfied: pydantic<3,>=1.9.0 in /usr/local/lib/python3.10/dist-packages (from openai>=1.1.0->llama-index==0.9.42) (2.7.1)\n",
            "Requirement already satisfied: sniffio in /usr/local/lib/python3.10/dist-packages (from openai>=1.1.0->llama-index==0.9.42) (1.3.1)\n",
            "Requirement already satisfied: certifi in /usr/local/lib/python3.10/dist-packages (from httpx->llama-index==0.9.42) (2024.2.2)\n",
            "Requirement already satisfied: httpcore==1.* in /usr/local/lib/python3.10/dist-packages (from httpx->llama-index==0.9.42) (1.0.5)\n",
            "Requirement already satisfied: idna in /usr/local/lib/python3.10/dist-packages (from httpx->llama-index==0.9.42) (3.7)\n",
            "Requirement already satisfied: h11<0.15,>=0.13 in /usr/local/lib/python3.10/dist-packages (from httpcore==1.*->httpx->llama-index==0.9.42) (0.14.0)\n",
            "Requirement already satisfied: charset-normalizer<4,>=2 in /usr/local/lib/python3.10/dist-packages (from requests>=2.31.0->llama-index==0.9.42) (3.3.2)\n",
            "Requirement already satisfied: urllib3<3,>=1.21.1 in /usr/local/lib/python3.10/dist-packages (from requests>=2.31.0->llama-index==0.9.42) (2.0.7)\n",
            "Requirement already satisfied: greenlet!=0.4.17 in /usr/local/lib/python3.10/dist-packages (from SQLAlchemy[asyncio]>=1.4.49->llama-index==0.9.42) (3.0.3)\n",
            "Requirement already satisfied: mypy-extensions>=0.3.0 in /usr/local/lib/python3.10/dist-packages (from typing-inspect>=0.8.0->llama-index==0.9.42) (1.0.0)\n",
            "Requirement already satisfied: marshmallow<4.0.0,>=3.18.0 in /usr/local/lib/python3.10/dist-packages (from dataclasses-json->llama-index==0.9.42) (3.21.2)\n",
            "Requirement already satisfied: python-dateutil>=2.8.2 in /usr/local/lib/python3.10/dist-packages (from pandas->llama-index==0.9.42) (2.8.2)\n",
            "Requirement already satisfied: pytz>=2020.1 in /usr/local/lib/python3.10/dist-packages (from pandas->llama-index==0.9.42) (2023.4)\n",
            "Requirement already satisfied: tzdata>=2022.1 in /usr/local/lib/python3.10/dist-packages (from pandas->llama-index==0.9.42) (2024.1)\n",
            "Requirement already satisfied: exceptiongroup in /usr/local/lib/python3.10/dist-packages (from anyio<5,>=3.5.0->openai>=1.1.0->llama-index==0.9.42) (1.2.1)\n",
            "Requirement already satisfied: packaging>=17.0 in /usr/local/lib/python3.10/dist-packages (from marshmallow<4.0.0,>=3.18.0->dataclasses-json->llama-index==0.9.42) (23.2)\n",
            "Requirement already satisfied: annotated-types>=0.4.0 in /usr/local/lib/python3.10/dist-packages (from pydantic<3,>=1.9.0->openai>=1.1.0->llama-index==0.9.42) (0.7.0)\n",
            "Requirement already satisfied: pydantic-core==2.18.2 in /usr/local/lib/python3.10/dist-packages (from pydantic<3,>=1.9.0->openai>=1.1.0->llama-index==0.9.42) (2.18.2)\n",
            "Requirement already satisfied: six>=1.5 in /usr/local/lib/python3.10/dist-packages (from python-dateutil>=2.8.2->pandas->llama-index==0.9.42) (1.16.0)\n",
            "Installing collected packages: dirtyjson, deprecated, llama-index\n",
            "Successfully installed deprecated-1.2.14 dirtyjson-1.0.8 llama-index-0.9.42\n"
          ]
        }
      ]
    },
    {
      "cell_type": "code",
      "execution_count": 1,
      "metadata": {
        "id": "GSPOVarB4AeY"
      },
      "outputs": [],
      "source": [
        "import os\n",
        "import json\n",
        "import sqlite3\n",
        "import openai\n",
        "import numpy as np\n",
        "import pandas as pd\n",
        "\n",
        "from langchain.chains import LLMChain\n",
        "# from langchain_openai import OpenAI\n",
        "from langchain import PromptTemplate\n",
        "# from langchain_community.llms import OpenAI"
      ]
    },
    {
      "cell_type": "code",
      "source": [
        "with open(\"openai_credentials.json\", 'rb') as f:\n",
        "    os.environ[\"OPENAI_API_KEY\"] = json.load(f)['OPENAI_API_KEY']\n",
        "openai.api_key = os.getenv(\"OPENAI_API_KEY\")"
      ],
      "metadata": {
        "id": "FKNU2H-ZFSUg"
      },
      "execution_count": 2,
      "outputs": []
    },
    {
      "cell_type": "code",
      "source": [
        "from langchain.llms import OpenAI, OpenAIChat\n",
        "\n",
        "llm = OpenAI(model_name=\"gpt-4\") #\"gpt-3.5-turbo-instruct\""
      ],
      "metadata": {
        "id": "9FDGKyqhHHFn",
        "colab": {
          "base_uri": "https://localhost:8080/"
        },
        "outputId": "8ed62b5a-d30a-472c-e093-de3777db51d0"
      },
      "execution_count": 3,
      "outputs": [
        {
          "output_type": "stream",
          "name": "stderr",
          "text": [
            "/usr/local/lib/python3.10/dist-packages/langchain_community/llms/openai.py:249: UserWarning: You are trying to use a chat model. This way of initializing it is no longer supported. Instead, please use: `from langchain_community.chat_models import ChatOpenAI`\n",
            "  warnings.warn(\n",
            "/usr/local/lib/python3.10/dist-packages/langchain_community/llms/openai.py:1072: UserWarning: You are trying to use a chat model. This way of initializing it is no longer supported. Instead, please use: `from langchain_community.chat_models import ChatOpenAI`\n",
            "  warnings.warn(\n"
          ]
        }
      ]
    },
    {
      "cell_type": "markdown",
      "source": [
        "## Get data"
      ],
      "metadata": {
        "id": "RbgWsKgdEEZY"
      }
    },
    {
      "cell_type": "code",
      "source": [
        "db_path = 'sample_data/olist.sqlite'\n",
        "db_connection = sqlite3.connect(db_path)\n",
        "cur = db_connection.cursor()"
      ],
      "metadata": {
        "id": "zew3ShCZ_xVr"
      },
      "execution_count": 9,
      "outputs": []
    },
    {
      "cell_type": "code",
      "source": [
        "def execute_query(query):\n",
        "    return pd.read_sql_query(query, db_connection)"
      ],
      "metadata": {
        "id": "TGbcnITQAFCb"
      },
      "execution_count": 10,
      "outputs": []
    },
    {
      "cell_type": "code",
      "source": [
        "product_category = execute_query('SELECT * FROM product_category_name_translation')\n",
        "product_category.head(1)"
      ],
      "metadata": {
        "colab": {
          "base_uri": "https://localhost:8080/",
          "height": 81
        },
        "id": "lGvOMfBnAF-h",
        "outputId": "cce78c9c-b1e3-407a-e0ba-10e47fffd5c2"
      },
      "execution_count": 11,
      "outputs": [
        {
          "output_type": "execute_result",
          "data": {
            "text/plain": [
              "  product_category_name product_category_name_english\n",
              "0          beleza_saude                 health_beauty"
            ],
            "text/html": [
              "\n",
              "  <div id=\"df-9ce57681-21b2-40fa-9378-4aaa0f21fa30\" class=\"colab-df-container\">\n",
              "    <div>\n",
              "<style scoped>\n",
              "    .dataframe tbody tr th:only-of-type {\n",
              "        vertical-align: middle;\n",
              "    }\n",
              "\n",
              "    .dataframe tbody tr th {\n",
              "        vertical-align: top;\n",
              "    }\n",
              "\n",
              "    .dataframe thead th {\n",
              "        text-align: right;\n",
              "    }\n",
              "</style>\n",
              "<table border=\"1\" class=\"dataframe\">\n",
              "  <thead>\n",
              "    <tr style=\"text-align: right;\">\n",
              "      <th></th>\n",
              "      <th>product_category_name</th>\n",
              "      <th>product_category_name_english</th>\n",
              "    </tr>\n",
              "  </thead>\n",
              "  <tbody>\n",
              "    <tr>\n",
              "      <th>0</th>\n",
              "      <td>beleza_saude</td>\n",
              "      <td>health_beauty</td>\n",
              "    </tr>\n",
              "  </tbody>\n",
              "</table>\n",
              "</div>\n",
              "    <div class=\"colab-df-buttons\">\n",
              "\n",
              "  <div class=\"colab-df-container\">\n",
              "    <button class=\"colab-df-convert\" onclick=\"convertToInteractive('df-9ce57681-21b2-40fa-9378-4aaa0f21fa30')\"\n",
              "            title=\"Convert this dataframe to an interactive table.\"\n",
              "            style=\"display:none;\">\n",
              "\n",
              "  <svg xmlns=\"http://www.w3.org/2000/svg\" height=\"24px\" viewBox=\"0 -960 960 960\">\n",
              "    <path d=\"M120-120v-720h720v720H120Zm60-500h600v-160H180v160Zm220 220h160v-160H400v160Zm0 220h160v-160H400v160ZM180-400h160v-160H180v160Zm440 0h160v-160H620v160ZM180-180h160v-160H180v160Zm440 0h160v-160H620v160Z\"/>\n",
              "  </svg>\n",
              "    </button>\n",
              "\n",
              "  <style>\n",
              "    .colab-df-container {\n",
              "      display:flex;\n",
              "      gap: 12px;\n",
              "    }\n",
              "\n",
              "    .colab-df-convert {\n",
              "      background-color: #E8F0FE;\n",
              "      border: none;\n",
              "      border-radius: 50%;\n",
              "      cursor: pointer;\n",
              "      display: none;\n",
              "      fill: #1967D2;\n",
              "      height: 32px;\n",
              "      padding: 0 0 0 0;\n",
              "      width: 32px;\n",
              "    }\n",
              "\n",
              "    .colab-df-convert:hover {\n",
              "      background-color: #E2EBFA;\n",
              "      box-shadow: 0px 1px 2px rgba(60, 64, 67, 0.3), 0px 1px 3px 1px rgba(60, 64, 67, 0.15);\n",
              "      fill: #174EA6;\n",
              "    }\n",
              "\n",
              "    .colab-df-buttons div {\n",
              "      margin-bottom: 4px;\n",
              "    }\n",
              "\n",
              "    [theme=dark] .colab-df-convert {\n",
              "      background-color: #3B4455;\n",
              "      fill: #D2E3FC;\n",
              "    }\n",
              "\n",
              "    [theme=dark] .colab-df-convert:hover {\n",
              "      background-color: #434B5C;\n",
              "      box-shadow: 0px 1px 3px 1px rgba(0, 0, 0, 0.15);\n",
              "      filter: drop-shadow(0px 1px 2px rgba(0, 0, 0, 0.3));\n",
              "      fill: #FFFFFF;\n",
              "    }\n",
              "  </style>\n",
              "\n",
              "    <script>\n",
              "      const buttonEl =\n",
              "        document.querySelector('#df-9ce57681-21b2-40fa-9378-4aaa0f21fa30 button.colab-df-convert');\n",
              "      buttonEl.style.display =\n",
              "        google.colab.kernel.accessAllowed ? 'block' : 'none';\n",
              "\n",
              "      async function convertToInteractive(key) {\n",
              "        const element = document.querySelector('#df-9ce57681-21b2-40fa-9378-4aaa0f21fa30');\n",
              "        const dataTable =\n",
              "          await google.colab.kernel.invokeFunction('convertToInteractive',\n",
              "                                                    [key], {});\n",
              "        if (!dataTable) return;\n",
              "\n",
              "        const docLinkHtml = 'Like what you see? Visit the ' +\n",
              "          '<a target=\"_blank\" href=https://colab.research.google.com/notebooks/data_table.ipynb>data table notebook</a>'\n",
              "          + ' to learn more about interactive tables.';\n",
              "        element.innerHTML = '';\n",
              "        dataTable['output_type'] = 'display_data';\n",
              "        await google.colab.output.renderOutput(dataTable, element);\n",
              "        const docLink = document.createElement('div');\n",
              "        docLink.innerHTML = docLinkHtml;\n",
              "        element.appendChild(docLink);\n",
              "      }\n",
              "    </script>\n",
              "  </div>\n",
              "\n",
              "    </div>\n",
              "  </div>\n"
            ],
            "application/vnd.google.colaboratory.intrinsic+json": {
              "type": "dataframe",
              "variable_name": "product_category",
              "summary": "{\n  \"name\": \"product_category\",\n  \"rows\": 71,\n  \"fields\": [\n    {\n      \"column\": \"product_category_name\",\n      \"properties\": {\n        \"dtype\": \"string\",\n        \"num_unique_values\": 71,\n        \"samples\": [\n          \"cool_stuff\",\n          \"beleza_saude\",\n          \"construcao_ferramentas_seguranca\"\n        ],\n        \"semantic_type\": \"\",\n        \"description\": \"\"\n      }\n    },\n    {\n      \"column\": \"product_category_name_english\",\n      \"properties\": {\n        \"dtype\": \"string\",\n        \"num_unique_values\": 71,\n        \"samples\": [\n          \"cool_stuff\",\n          \"health_beauty\",\n          \"construction_tools_safety\"\n        ],\n        \"semantic_type\": \"\",\n        \"description\": \"\"\n      }\n    }\n  ]\n}"
            }
          },
          "metadata": {},
          "execution_count": 11
        }
      ]
    },
    {
      "cell_type": "code",
      "source": [
        "orders = execute_query('SELECT * FROM order_items')\n",
        "orders.sample(4)"
      ],
      "metadata": {
        "colab": {
          "base_uri": "https://localhost:8080/",
          "height": 195
        },
        "id": "xF2Ra1tWQ7na",
        "outputId": "70ae9db4-9740-4fdc-99b0-058d7f6ada34"
      },
      "execution_count": 12,
      "outputs": [
        {
          "output_type": "execute_result",
          "data": {
            "text/plain": [
              "                                order_id  order_item_id  \\\n",
              "57003   81b15e9061212fc1a2e309ea9b494bc9              1   \n",
              "24374   37877918d022198d7516624a45572923              1   \n",
              "54753   7c7a7c7d1fa3b3c8f867224389d3d8bd              1   \n",
              "100477  e3cd6d82ade0e89d757b4d900460f1ad              1   \n",
              "\n",
              "                              product_id                         seller_id  \\\n",
              "57003   73bcea88583002fe12b7399af4ae60da  4869f7a5dfa277a7dca6462dcf3b52b2   \n",
              "24374   912d1fc21117a94dc8a67186df6010a7  7d13fca15225358621be4086e1eb0964   \n",
              "54753   2ea0bf4cdb4057dd3a866ac93107cdac  c9c7905cffc4ef9ff9f113554423e671   \n",
              "100477  381169576b9f3c083a1c3261da161a3b  8c16d1f32a54d92897cc437244442e1b   \n",
              "\n",
              "        shipping_limit_date   price  freight_value  \n",
              "57003   2018-06-15 09:18:11  123.90          13.53  \n",
              "24374   2018-08-27 06:49:17  110.65          13.44  \n",
              "54753   2017-07-26 11:43:43  119.99           9.65  \n",
              "100477  2018-03-15 14:29:14   46.86          31.00  "
            ],
            "text/html": [
              "\n",
              "  <div id=\"df-f5727f48-9edd-4595-90f7-81b2cba66181\" class=\"colab-df-container\">\n",
              "    <div>\n",
              "<style scoped>\n",
              "    .dataframe tbody tr th:only-of-type {\n",
              "        vertical-align: middle;\n",
              "    }\n",
              "\n",
              "    .dataframe tbody tr th {\n",
              "        vertical-align: top;\n",
              "    }\n",
              "\n",
              "    .dataframe thead th {\n",
              "        text-align: right;\n",
              "    }\n",
              "</style>\n",
              "<table border=\"1\" class=\"dataframe\">\n",
              "  <thead>\n",
              "    <tr style=\"text-align: right;\">\n",
              "      <th></th>\n",
              "      <th>order_id</th>\n",
              "      <th>order_item_id</th>\n",
              "      <th>product_id</th>\n",
              "      <th>seller_id</th>\n",
              "      <th>shipping_limit_date</th>\n",
              "      <th>price</th>\n",
              "      <th>freight_value</th>\n",
              "    </tr>\n",
              "  </thead>\n",
              "  <tbody>\n",
              "    <tr>\n",
              "      <th>57003</th>\n",
              "      <td>81b15e9061212fc1a2e309ea9b494bc9</td>\n",
              "      <td>1</td>\n",
              "      <td>73bcea88583002fe12b7399af4ae60da</td>\n",
              "      <td>4869f7a5dfa277a7dca6462dcf3b52b2</td>\n",
              "      <td>2018-06-15 09:18:11</td>\n",
              "      <td>123.90</td>\n",
              "      <td>13.53</td>\n",
              "    </tr>\n",
              "    <tr>\n",
              "      <th>24374</th>\n",
              "      <td>37877918d022198d7516624a45572923</td>\n",
              "      <td>1</td>\n",
              "      <td>912d1fc21117a94dc8a67186df6010a7</td>\n",
              "      <td>7d13fca15225358621be4086e1eb0964</td>\n",
              "      <td>2018-08-27 06:49:17</td>\n",
              "      <td>110.65</td>\n",
              "      <td>13.44</td>\n",
              "    </tr>\n",
              "    <tr>\n",
              "      <th>54753</th>\n",
              "      <td>7c7a7c7d1fa3b3c8f867224389d3d8bd</td>\n",
              "      <td>1</td>\n",
              "      <td>2ea0bf4cdb4057dd3a866ac93107cdac</td>\n",
              "      <td>c9c7905cffc4ef9ff9f113554423e671</td>\n",
              "      <td>2017-07-26 11:43:43</td>\n",
              "      <td>119.99</td>\n",
              "      <td>9.65</td>\n",
              "    </tr>\n",
              "    <tr>\n",
              "      <th>100477</th>\n",
              "      <td>e3cd6d82ade0e89d757b4d900460f1ad</td>\n",
              "      <td>1</td>\n",
              "      <td>381169576b9f3c083a1c3261da161a3b</td>\n",
              "      <td>8c16d1f32a54d92897cc437244442e1b</td>\n",
              "      <td>2018-03-15 14:29:14</td>\n",
              "      <td>46.86</td>\n",
              "      <td>31.00</td>\n",
              "    </tr>\n",
              "  </tbody>\n",
              "</table>\n",
              "</div>\n",
              "    <div class=\"colab-df-buttons\">\n",
              "\n",
              "  <div class=\"colab-df-container\">\n",
              "    <button class=\"colab-df-convert\" onclick=\"convertToInteractive('df-f5727f48-9edd-4595-90f7-81b2cba66181')\"\n",
              "            title=\"Convert this dataframe to an interactive table.\"\n",
              "            style=\"display:none;\">\n",
              "\n",
              "  <svg xmlns=\"http://www.w3.org/2000/svg\" height=\"24px\" viewBox=\"0 -960 960 960\">\n",
              "    <path d=\"M120-120v-720h720v720H120Zm60-500h600v-160H180v160Zm220 220h160v-160H400v160Zm0 220h160v-160H400v160ZM180-400h160v-160H180v160Zm440 0h160v-160H620v160ZM180-180h160v-160H180v160Zm440 0h160v-160H620v160Z\"/>\n",
              "  </svg>\n",
              "    </button>\n",
              "\n",
              "  <style>\n",
              "    .colab-df-container {\n",
              "      display:flex;\n",
              "      gap: 12px;\n",
              "    }\n",
              "\n",
              "    .colab-df-convert {\n",
              "      background-color: #E8F0FE;\n",
              "      border: none;\n",
              "      border-radius: 50%;\n",
              "      cursor: pointer;\n",
              "      display: none;\n",
              "      fill: #1967D2;\n",
              "      height: 32px;\n",
              "      padding: 0 0 0 0;\n",
              "      width: 32px;\n",
              "    }\n",
              "\n",
              "    .colab-df-convert:hover {\n",
              "      background-color: #E2EBFA;\n",
              "      box-shadow: 0px 1px 2px rgba(60, 64, 67, 0.3), 0px 1px 3px 1px rgba(60, 64, 67, 0.15);\n",
              "      fill: #174EA6;\n",
              "    }\n",
              "\n",
              "    .colab-df-buttons div {\n",
              "      margin-bottom: 4px;\n",
              "    }\n",
              "\n",
              "    [theme=dark] .colab-df-convert {\n",
              "      background-color: #3B4455;\n",
              "      fill: #D2E3FC;\n",
              "    }\n",
              "\n",
              "    [theme=dark] .colab-df-convert:hover {\n",
              "      background-color: #434B5C;\n",
              "      box-shadow: 0px 1px 3px 1px rgba(0, 0, 0, 0.15);\n",
              "      filter: drop-shadow(0px 1px 2px rgba(0, 0, 0, 0.3));\n",
              "      fill: #FFFFFF;\n",
              "    }\n",
              "  </style>\n",
              "\n",
              "    <script>\n",
              "      const buttonEl =\n",
              "        document.querySelector('#df-f5727f48-9edd-4595-90f7-81b2cba66181 button.colab-df-convert');\n",
              "      buttonEl.style.display =\n",
              "        google.colab.kernel.accessAllowed ? 'block' : 'none';\n",
              "\n",
              "      async function convertToInteractive(key) {\n",
              "        const element = document.querySelector('#df-f5727f48-9edd-4595-90f7-81b2cba66181');\n",
              "        const dataTable =\n",
              "          await google.colab.kernel.invokeFunction('convertToInteractive',\n",
              "                                                    [key], {});\n",
              "        if (!dataTable) return;\n",
              "\n",
              "        const docLinkHtml = 'Like what you see? Visit the ' +\n",
              "          '<a target=\"_blank\" href=https://colab.research.google.com/notebooks/data_table.ipynb>data table notebook</a>'\n",
              "          + ' to learn more about interactive tables.';\n",
              "        element.innerHTML = '';\n",
              "        dataTable['output_type'] = 'display_data';\n",
              "        await google.colab.output.renderOutput(dataTable, element);\n",
              "        const docLink = document.createElement('div');\n",
              "        docLink.innerHTML = docLinkHtml;\n",
              "        element.appendChild(docLink);\n",
              "      }\n",
              "    </script>\n",
              "  </div>\n",
              "\n",
              "\n",
              "<div id=\"df-5991d8ad-29fe-4e34-a406-d98d24ae149f\">\n",
              "  <button class=\"colab-df-quickchart\" onclick=\"quickchart('df-5991d8ad-29fe-4e34-a406-d98d24ae149f')\"\n",
              "            title=\"Suggest charts\"\n",
              "            style=\"display:none;\">\n",
              "\n",
              "<svg xmlns=\"http://www.w3.org/2000/svg\" height=\"24px\"viewBox=\"0 0 24 24\"\n",
              "     width=\"24px\">\n",
              "    <g>\n",
              "        <path d=\"M19 3H5c-1.1 0-2 .9-2 2v14c0 1.1.9 2 2 2h14c1.1 0 2-.9 2-2V5c0-1.1-.9-2-2-2zM9 17H7v-7h2v7zm4 0h-2V7h2v10zm4 0h-2v-4h2v4z\"/>\n",
              "    </g>\n",
              "</svg>\n",
              "  </button>\n",
              "\n",
              "<style>\n",
              "  .colab-df-quickchart {\n",
              "      --bg-color: #E8F0FE;\n",
              "      --fill-color: #1967D2;\n",
              "      --hover-bg-color: #E2EBFA;\n",
              "      --hover-fill-color: #174EA6;\n",
              "      --disabled-fill-color: #AAA;\n",
              "      --disabled-bg-color: #DDD;\n",
              "  }\n",
              "\n",
              "  [theme=dark] .colab-df-quickchart {\n",
              "      --bg-color: #3B4455;\n",
              "      --fill-color: #D2E3FC;\n",
              "      --hover-bg-color: #434B5C;\n",
              "      --hover-fill-color: #FFFFFF;\n",
              "      --disabled-bg-color: #3B4455;\n",
              "      --disabled-fill-color: #666;\n",
              "  }\n",
              "\n",
              "  .colab-df-quickchart {\n",
              "    background-color: var(--bg-color);\n",
              "    border: none;\n",
              "    border-radius: 50%;\n",
              "    cursor: pointer;\n",
              "    display: none;\n",
              "    fill: var(--fill-color);\n",
              "    height: 32px;\n",
              "    padding: 0;\n",
              "    width: 32px;\n",
              "  }\n",
              "\n",
              "  .colab-df-quickchart:hover {\n",
              "    background-color: var(--hover-bg-color);\n",
              "    box-shadow: 0 1px 2px rgba(60, 64, 67, 0.3), 0 1px 3px 1px rgba(60, 64, 67, 0.15);\n",
              "    fill: var(--button-hover-fill-color);\n",
              "  }\n",
              "\n",
              "  .colab-df-quickchart-complete:disabled,\n",
              "  .colab-df-quickchart-complete:disabled:hover {\n",
              "    background-color: var(--disabled-bg-color);\n",
              "    fill: var(--disabled-fill-color);\n",
              "    box-shadow: none;\n",
              "  }\n",
              "\n",
              "  .colab-df-spinner {\n",
              "    border: 2px solid var(--fill-color);\n",
              "    border-color: transparent;\n",
              "    border-bottom-color: var(--fill-color);\n",
              "    animation:\n",
              "      spin 1s steps(1) infinite;\n",
              "  }\n",
              "\n",
              "  @keyframes spin {\n",
              "    0% {\n",
              "      border-color: transparent;\n",
              "      border-bottom-color: var(--fill-color);\n",
              "      border-left-color: var(--fill-color);\n",
              "    }\n",
              "    20% {\n",
              "      border-color: transparent;\n",
              "      border-left-color: var(--fill-color);\n",
              "      border-top-color: var(--fill-color);\n",
              "    }\n",
              "    30% {\n",
              "      border-color: transparent;\n",
              "      border-left-color: var(--fill-color);\n",
              "      border-top-color: var(--fill-color);\n",
              "      border-right-color: var(--fill-color);\n",
              "    }\n",
              "    40% {\n",
              "      border-color: transparent;\n",
              "      border-right-color: var(--fill-color);\n",
              "      border-top-color: var(--fill-color);\n",
              "    }\n",
              "    60% {\n",
              "      border-color: transparent;\n",
              "      border-right-color: var(--fill-color);\n",
              "    }\n",
              "    80% {\n",
              "      border-color: transparent;\n",
              "      border-right-color: var(--fill-color);\n",
              "      border-bottom-color: var(--fill-color);\n",
              "    }\n",
              "    90% {\n",
              "      border-color: transparent;\n",
              "      border-bottom-color: var(--fill-color);\n",
              "    }\n",
              "  }\n",
              "</style>\n",
              "\n",
              "  <script>\n",
              "    async function quickchart(key) {\n",
              "      const quickchartButtonEl =\n",
              "        document.querySelector('#' + key + ' button');\n",
              "      quickchartButtonEl.disabled = true;  // To prevent multiple clicks.\n",
              "      quickchartButtonEl.classList.add('colab-df-spinner');\n",
              "      try {\n",
              "        const charts = await google.colab.kernel.invokeFunction(\n",
              "            'suggestCharts', [key], {});\n",
              "      } catch (error) {\n",
              "        console.error('Error during call to suggestCharts:', error);\n",
              "      }\n",
              "      quickchartButtonEl.classList.remove('colab-df-spinner');\n",
              "      quickchartButtonEl.classList.add('colab-df-quickchart-complete');\n",
              "    }\n",
              "    (() => {\n",
              "      let quickchartButtonEl =\n",
              "        document.querySelector('#df-5991d8ad-29fe-4e34-a406-d98d24ae149f button');\n",
              "      quickchartButtonEl.style.display =\n",
              "        google.colab.kernel.accessAllowed ? 'block' : 'none';\n",
              "    })();\n",
              "  </script>\n",
              "</div>\n",
              "    </div>\n",
              "  </div>\n"
            ],
            "application/vnd.google.colaboratory.intrinsic+json": {
              "type": "dataframe",
              "repr_error": "0"
            }
          },
          "metadata": {},
          "execution_count": 12
        }
      ]
    },
    {
      "cell_type": "code",
      "source": [
        "products = execute_query('SELECT * FROM products')\n",
        "products.head(5)"
      ],
      "metadata": {
        "colab": {
          "base_uri": "https://localhost:8080/",
          "height": 226
        },
        "id": "gfLaZ1JhAJk0",
        "outputId": "cb87398b-6aad-4df2-a746-e41e1f1954e2"
      },
      "execution_count": 13,
      "outputs": [
        {
          "output_type": "execute_result",
          "data": {
            "text/plain": [
              "                         product_id  product_category_name  \\\n",
              "0  1e9e8ef04dbcff4541ed26657ea517e5             perfumaria   \n",
              "1  3aa071139cb16b67ca9e5dea641aaa2f                  artes   \n",
              "2  96bd76ec8810374ed1b65e291975717f          esporte_lazer   \n",
              "3  cef67bcfe19066a932b7673e239eb23d                  bebes   \n",
              "4  9dc1a7de274444849c219cff195d0b71  utilidades_domesticas   \n",
              "\n",
              "   product_name_lenght  product_description_lenght  product_photos_qty  \\\n",
              "0                 40.0                       287.0                 1.0   \n",
              "1                 44.0                       276.0                 1.0   \n",
              "2                 46.0                       250.0                 1.0   \n",
              "3                 27.0                       261.0                 1.0   \n",
              "4                 37.0                       402.0                 4.0   \n",
              "\n",
              "   product_weight_g  product_length_cm  product_height_cm  product_width_cm  \n",
              "0             225.0               16.0               10.0              14.0  \n",
              "1            1000.0               30.0               18.0              20.0  \n",
              "2             154.0               18.0                9.0              15.0  \n",
              "3             371.0               26.0                4.0              26.0  \n",
              "4             625.0               20.0               17.0              13.0  "
            ],
            "text/html": [
              "\n",
              "  <div id=\"df-a6d3c0c0-4278-4df0-b616-702244eba1e1\" class=\"colab-df-container\">\n",
              "    <div>\n",
              "<style scoped>\n",
              "    .dataframe tbody tr th:only-of-type {\n",
              "        vertical-align: middle;\n",
              "    }\n",
              "\n",
              "    .dataframe tbody tr th {\n",
              "        vertical-align: top;\n",
              "    }\n",
              "\n",
              "    .dataframe thead th {\n",
              "        text-align: right;\n",
              "    }\n",
              "</style>\n",
              "<table border=\"1\" class=\"dataframe\">\n",
              "  <thead>\n",
              "    <tr style=\"text-align: right;\">\n",
              "      <th></th>\n",
              "      <th>product_id</th>\n",
              "      <th>product_category_name</th>\n",
              "      <th>product_name_lenght</th>\n",
              "      <th>product_description_lenght</th>\n",
              "      <th>product_photos_qty</th>\n",
              "      <th>product_weight_g</th>\n",
              "      <th>product_length_cm</th>\n",
              "      <th>product_height_cm</th>\n",
              "      <th>product_width_cm</th>\n",
              "    </tr>\n",
              "  </thead>\n",
              "  <tbody>\n",
              "    <tr>\n",
              "      <th>0</th>\n",
              "      <td>1e9e8ef04dbcff4541ed26657ea517e5</td>\n",
              "      <td>perfumaria</td>\n",
              "      <td>40.0</td>\n",
              "      <td>287.0</td>\n",
              "      <td>1.0</td>\n",
              "      <td>225.0</td>\n",
              "      <td>16.0</td>\n",
              "      <td>10.0</td>\n",
              "      <td>14.0</td>\n",
              "    </tr>\n",
              "    <tr>\n",
              "      <th>1</th>\n",
              "      <td>3aa071139cb16b67ca9e5dea641aaa2f</td>\n",
              "      <td>artes</td>\n",
              "      <td>44.0</td>\n",
              "      <td>276.0</td>\n",
              "      <td>1.0</td>\n",
              "      <td>1000.0</td>\n",
              "      <td>30.0</td>\n",
              "      <td>18.0</td>\n",
              "      <td>20.0</td>\n",
              "    </tr>\n",
              "    <tr>\n",
              "      <th>2</th>\n",
              "      <td>96bd76ec8810374ed1b65e291975717f</td>\n",
              "      <td>esporte_lazer</td>\n",
              "      <td>46.0</td>\n",
              "      <td>250.0</td>\n",
              "      <td>1.0</td>\n",
              "      <td>154.0</td>\n",
              "      <td>18.0</td>\n",
              "      <td>9.0</td>\n",
              "      <td>15.0</td>\n",
              "    </tr>\n",
              "    <tr>\n",
              "      <th>3</th>\n",
              "      <td>cef67bcfe19066a932b7673e239eb23d</td>\n",
              "      <td>bebes</td>\n",
              "      <td>27.0</td>\n",
              "      <td>261.0</td>\n",
              "      <td>1.0</td>\n",
              "      <td>371.0</td>\n",
              "      <td>26.0</td>\n",
              "      <td>4.0</td>\n",
              "      <td>26.0</td>\n",
              "    </tr>\n",
              "    <tr>\n",
              "      <th>4</th>\n",
              "      <td>9dc1a7de274444849c219cff195d0b71</td>\n",
              "      <td>utilidades_domesticas</td>\n",
              "      <td>37.0</td>\n",
              "      <td>402.0</td>\n",
              "      <td>4.0</td>\n",
              "      <td>625.0</td>\n",
              "      <td>20.0</td>\n",
              "      <td>17.0</td>\n",
              "      <td>13.0</td>\n",
              "    </tr>\n",
              "  </tbody>\n",
              "</table>\n",
              "</div>\n",
              "    <div class=\"colab-df-buttons\">\n",
              "\n",
              "  <div class=\"colab-df-container\">\n",
              "    <button class=\"colab-df-convert\" onclick=\"convertToInteractive('df-a6d3c0c0-4278-4df0-b616-702244eba1e1')\"\n",
              "            title=\"Convert this dataframe to an interactive table.\"\n",
              "            style=\"display:none;\">\n",
              "\n",
              "  <svg xmlns=\"http://www.w3.org/2000/svg\" height=\"24px\" viewBox=\"0 -960 960 960\">\n",
              "    <path d=\"M120-120v-720h720v720H120Zm60-500h600v-160H180v160Zm220 220h160v-160H400v160Zm0 220h160v-160H400v160ZM180-400h160v-160H180v160Zm440 0h160v-160H620v160ZM180-180h160v-160H180v160Zm440 0h160v-160H620v160Z\"/>\n",
              "  </svg>\n",
              "    </button>\n",
              "\n",
              "  <style>\n",
              "    .colab-df-container {\n",
              "      display:flex;\n",
              "      gap: 12px;\n",
              "    }\n",
              "\n",
              "    .colab-df-convert {\n",
              "      background-color: #E8F0FE;\n",
              "      border: none;\n",
              "      border-radius: 50%;\n",
              "      cursor: pointer;\n",
              "      display: none;\n",
              "      fill: #1967D2;\n",
              "      height: 32px;\n",
              "      padding: 0 0 0 0;\n",
              "      width: 32px;\n",
              "    }\n",
              "\n",
              "    .colab-df-convert:hover {\n",
              "      background-color: #E2EBFA;\n",
              "      box-shadow: 0px 1px 2px rgba(60, 64, 67, 0.3), 0px 1px 3px 1px rgba(60, 64, 67, 0.15);\n",
              "      fill: #174EA6;\n",
              "    }\n",
              "\n",
              "    .colab-df-buttons div {\n",
              "      margin-bottom: 4px;\n",
              "    }\n",
              "\n",
              "    [theme=dark] .colab-df-convert {\n",
              "      background-color: #3B4455;\n",
              "      fill: #D2E3FC;\n",
              "    }\n",
              "\n",
              "    [theme=dark] .colab-df-convert:hover {\n",
              "      background-color: #434B5C;\n",
              "      box-shadow: 0px 1px 3px 1px rgba(0, 0, 0, 0.15);\n",
              "      filter: drop-shadow(0px 1px 2px rgba(0, 0, 0, 0.3));\n",
              "      fill: #FFFFFF;\n",
              "    }\n",
              "  </style>\n",
              "\n",
              "    <script>\n",
              "      const buttonEl =\n",
              "        document.querySelector('#df-a6d3c0c0-4278-4df0-b616-702244eba1e1 button.colab-df-convert');\n",
              "      buttonEl.style.display =\n",
              "        google.colab.kernel.accessAllowed ? 'block' : 'none';\n",
              "\n",
              "      async function convertToInteractive(key) {\n",
              "        const element = document.querySelector('#df-a6d3c0c0-4278-4df0-b616-702244eba1e1');\n",
              "        const dataTable =\n",
              "          await google.colab.kernel.invokeFunction('convertToInteractive',\n",
              "                                                    [key], {});\n",
              "        if (!dataTable) return;\n",
              "\n",
              "        const docLinkHtml = 'Like what you see? Visit the ' +\n",
              "          '<a target=\"_blank\" href=https://colab.research.google.com/notebooks/data_table.ipynb>data table notebook</a>'\n",
              "          + ' to learn more about interactive tables.';\n",
              "        element.innerHTML = '';\n",
              "        dataTable['output_type'] = 'display_data';\n",
              "        await google.colab.output.renderOutput(dataTable, element);\n",
              "        const docLink = document.createElement('div');\n",
              "        docLink.innerHTML = docLinkHtml;\n",
              "        element.appendChild(docLink);\n",
              "      }\n",
              "    </script>\n",
              "  </div>\n",
              "\n",
              "\n",
              "<div id=\"df-b2de454e-0a4d-4ed0-89bb-c02fcaacec6f\">\n",
              "  <button class=\"colab-df-quickchart\" onclick=\"quickchart('df-b2de454e-0a4d-4ed0-89bb-c02fcaacec6f')\"\n",
              "            title=\"Suggest charts\"\n",
              "            style=\"display:none;\">\n",
              "\n",
              "<svg xmlns=\"http://www.w3.org/2000/svg\" height=\"24px\"viewBox=\"0 0 24 24\"\n",
              "     width=\"24px\">\n",
              "    <g>\n",
              "        <path d=\"M19 3H5c-1.1 0-2 .9-2 2v14c0 1.1.9 2 2 2h14c1.1 0 2-.9 2-2V5c0-1.1-.9-2-2-2zM9 17H7v-7h2v7zm4 0h-2V7h2v10zm4 0h-2v-4h2v4z\"/>\n",
              "    </g>\n",
              "</svg>\n",
              "  </button>\n",
              "\n",
              "<style>\n",
              "  .colab-df-quickchart {\n",
              "      --bg-color: #E8F0FE;\n",
              "      --fill-color: #1967D2;\n",
              "      --hover-bg-color: #E2EBFA;\n",
              "      --hover-fill-color: #174EA6;\n",
              "      --disabled-fill-color: #AAA;\n",
              "      --disabled-bg-color: #DDD;\n",
              "  }\n",
              "\n",
              "  [theme=dark] .colab-df-quickchart {\n",
              "      --bg-color: #3B4455;\n",
              "      --fill-color: #D2E3FC;\n",
              "      --hover-bg-color: #434B5C;\n",
              "      --hover-fill-color: #FFFFFF;\n",
              "      --disabled-bg-color: #3B4455;\n",
              "      --disabled-fill-color: #666;\n",
              "  }\n",
              "\n",
              "  .colab-df-quickchart {\n",
              "    background-color: var(--bg-color);\n",
              "    border: none;\n",
              "    border-radius: 50%;\n",
              "    cursor: pointer;\n",
              "    display: none;\n",
              "    fill: var(--fill-color);\n",
              "    height: 32px;\n",
              "    padding: 0;\n",
              "    width: 32px;\n",
              "  }\n",
              "\n",
              "  .colab-df-quickchart:hover {\n",
              "    background-color: var(--hover-bg-color);\n",
              "    box-shadow: 0 1px 2px rgba(60, 64, 67, 0.3), 0 1px 3px 1px rgba(60, 64, 67, 0.15);\n",
              "    fill: var(--button-hover-fill-color);\n",
              "  }\n",
              "\n",
              "  .colab-df-quickchart-complete:disabled,\n",
              "  .colab-df-quickchart-complete:disabled:hover {\n",
              "    background-color: var(--disabled-bg-color);\n",
              "    fill: var(--disabled-fill-color);\n",
              "    box-shadow: none;\n",
              "  }\n",
              "\n",
              "  .colab-df-spinner {\n",
              "    border: 2px solid var(--fill-color);\n",
              "    border-color: transparent;\n",
              "    border-bottom-color: var(--fill-color);\n",
              "    animation:\n",
              "      spin 1s steps(1) infinite;\n",
              "  }\n",
              "\n",
              "  @keyframes spin {\n",
              "    0% {\n",
              "      border-color: transparent;\n",
              "      border-bottom-color: var(--fill-color);\n",
              "      border-left-color: var(--fill-color);\n",
              "    }\n",
              "    20% {\n",
              "      border-color: transparent;\n",
              "      border-left-color: var(--fill-color);\n",
              "      border-top-color: var(--fill-color);\n",
              "    }\n",
              "    30% {\n",
              "      border-color: transparent;\n",
              "      border-left-color: var(--fill-color);\n",
              "      border-top-color: var(--fill-color);\n",
              "      border-right-color: var(--fill-color);\n",
              "    }\n",
              "    40% {\n",
              "      border-color: transparent;\n",
              "      border-right-color: var(--fill-color);\n",
              "      border-top-color: var(--fill-color);\n",
              "    }\n",
              "    60% {\n",
              "      border-color: transparent;\n",
              "      border-right-color: var(--fill-color);\n",
              "    }\n",
              "    80% {\n",
              "      border-color: transparent;\n",
              "      border-right-color: var(--fill-color);\n",
              "      border-bottom-color: var(--fill-color);\n",
              "    }\n",
              "    90% {\n",
              "      border-color: transparent;\n",
              "      border-bottom-color: var(--fill-color);\n",
              "    }\n",
              "  }\n",
              "</style>\n",
              "\n",
              "  <script>\n",
              "    async function quickchart(key) {\n",
              "      const quickchartButtonEl =\n",
              "        document.querySelector('#' + key + ' button');\n",
              "      quickchartButtonEl.disabled = true;  // To prevent multiple clicks.\n",
              "      quickchartButtonEl.classList.add('colab-df-spinner');\n",
              "      try {\n",
              "        const charts = await google.colab.kernel.invokeFunction(\n",
              "            'suggestCharts', [key], {});\n",
              "      } catch (error) {\n",
              "        console.error('Error during call to suggestCharts:', error);\n",
              "      }\n",
              "      quickchartButtonEl.classList.remove('colab-df-spinner');\n",
              "      quickchartButtonEl.classList.add('colab-df-quickchart-complete');\n",
              "    }\n",
              "    (() => {\n",
              "      let quickchartButtonEl =\n",
              "        document.querySelector('#df-b2de454e-0a4d-4ed0-89bb-c02fcaacec6f button');\n",
              "      quickchartButtonEl.style.display =\n",
              "        google.colab.kernel.accessAllowed ? 'block' : 'none';\n",
              "    })();\n",
              "  </script>\n",
              "</div>\n",
              "    </div>\n",
              "  </div>\n"
            ],
            "application/vnd.google.colaboratory.intrinsic+json": {
              "type": "dataframe",
              "variable_name": "products",
              "summary": "{\n  \"name\": \"products\",\n  \"rows\": 32951,\n  \"fields\": [\n    {\n      \"column\": \"product_id\",\n      \"properties\": {\n        \"dtype\": \"string\",\n        \"num_unique_values\": 32951,\n        \"samples\": [\n          \"f819f0c84a64f02d3a5606ca95edd272\",\n          \"b9de40e43fccb6ba53b7eadbd5c49077\",\n          \"26afe4ed5890d941fcba14205863eec7\"\n        ],\n        \"semantic_type\": \"\",\n        \"description\": \"\"\n      }\n    },\n    {\n      \"column\": \"product_category_name\",\n      \"properties\": {\n        \"dtype\": \"category\",\n        \"num_unique_values\": 73,\n        \"samples\": [\n          \"utilidades_domesticas\",\n          \"pc_gamer\",\n          \"eletronicos\"\n        ],\n        \"semantic_type\": \"\",\n        \"description\": \"\"\n      }\n    },\n    {\n      \"column\": \"product_name_lenght\",\n      \"properties\": {\n        \"dtype\": \"number\",\n        \"std\": 10.245740725237239,\n        \"min\": 5.0,\n        \"max\": 76.0,\n        \"num_unique_values\": 66,\n        \"samples\": [\n          13.0,\n          72.0,\n          40.0\n        ],\n        \"semantic_type\": \"\",\n        \"description\": \"\"\n      }\n    },\n    {\n      \"column\": \"product_description_lenght\",\n      \"properties\": {\n        \"dtype\": \"number\",\n        \"std\": 635.1152246349538,\n        \"min\": 4.0,\n        \"max\": 3992.0,\n        \"num_unique_values\": 2960,\n        \"samples\": [\n          1314.0,\n          40.0,\n          123.0\n        ],\n        \"semantic_type\": \"\",\n        \"description\": \"\"\n      }\n    },\n    {\n      \"column\": \"product_photos_qty\",\n      \"properties\": {\n        \"dtype\": \"number\",\n        \"std\": 1.7367656379315444,\n        \"min\": 1.0,\n        \"max\": 20.0,\n        \"num_unique_values\": 19,\n        \"samples\": [\n          1.0,\n          9.0,\n          17.0\n        ],\n        \"semantic_type\": \"\",\n        \"description\": \"\"\n      }\n    },\n    {\n      \"column\": \"product_weight_g\",\n      \"properties\": {\n        \"dtype\": \"number\",\n        \"std\": 4282.038730977007,\n        \"min\": 0.0,\n        \"max\": 40425.0,\n        \"num_unique_values\": 2204,\n        \"samples\": [\n          567.0,\n          241.0,\n          2646.0\n        ],\n        \"semantic_type\": \"\",\n        \"description\": \"\"\n      }\n    },\n    {\n      \"column\": \"product_length_cm\",\n      \"properties\": {\n        \"dtype\": \"number\",\n        \"std\": 16.914458054065967,\n        \"min\": 7.0,\n        \"max\": 105.0,\n        \"num_unique_values\": 99,\n        \"samples\": [\n          88.0,\n          75.0,\n          10.0\n        ],\n        \"semantic_type\": \"\",\n        \"description\": \"\"\n      }\n    },\n    {\n      \"column\": \"product_height_cm\",\n      \"properties\": {\n        \"dtype\": \"number\",\n        \"std\": 13.637554061749494,\n        \"min\": 2.0,\n        \"max\": 105.0,\n        \"num_unique_values\": 102,\n        \"samples\": [\n          6.0,\n          38.0,\n          54.0\n        ],\n        \"semantic_type\": \"\",\n        \"description\": \"\"\n      }\n    },\n    {\n      \"column\": \"product_width_cm\",\n      \"properties\": {\n        \"dtype\": \"number\",\n        \"std\": 12.079047453227835,\n        \"min\": 6.0,\n        \"max\": 118.0,\n        \"num_unique_values\": 95,\n        \"samples\": [\n          80.0,\n          38.0,\n          9.0\n        ],\n        \"semantic_type\": \"\",\n        \"description\": \"\"\n      }\n    }\n  ]\n}"
            }
          },
          "metadata": {},
          "execution_count": 13
        }
      ]
    },
    {
      "cell_type": "markdown",
      "source": [
        "# Numeric QA\n",
        "Straightforward approach: feed the complete data frame into LLM and ask questions."
      ],
      "metadata": {
        "id": "9sZ9rZUH_nDE"
      }
    },
    {
      "cell_type": "code",
      "source": [
        "df = execute_query(\"SELECT COUNT(*) as Number_of_products FROM products  WHERE product_category_name = 'perfumaria'\")\n",
        "df"
      ],
      "metadata": {
        "colab": {
          "base_uri": "https://localhost:8080/",
          "height": 81
        },
        "id": "HQcM2C6aEL2U",
        "outputId": "7a5da5f6-d706-4580-d9a9-ab686022ae47"
      },
      "execution_count": 14,
      "outputs": [
        {
          "output_type": "execute_result",
          "data": {
            "text/plain": [
              "   Number_of_products\n",
              "0                 868"
            ],
            "text/html": [
              "\n",
              "  <div id=\"df-353eb80f-43db-4f9e-aeb0-b65696db5386\" class=\"colab-df-container\">\n",
              "    <div>\n",
              "<style scoped>\n",
              "    .dataframe tbody tr th:only-of-type {\n",
              "        vertical-align: middle;\n",
              "    }\n",
              "\n",
              "    .dataframe tbody tr th {\n",
              "        vertical-align: top;\n",
              "    }\n",
              "\n",
              "    .dataframe thead th {\n",
              "        text-align: right;\n",
              "    }\n",
              "</style>\n",
              "<table border=\"1\" class=\"dataframe\">\n",
              "  <thead>\n",
              "    <tr style=\"text-align: right;\">\n",
              "      <th></th>\n",
              "      <th>Number_of_products</th>\n",
              "    </tr>\n",
              "  </thead>\n",
              "  <tbody>\n",
              "    <tr>\n",
              "      <th>0</th>\n",
              "      <td>868</td>\n",
              "    </tr>\n",
              "  </tbody>\n",
              "</table>\n",
              "</div>\n",
              "    <div class=\"colab-df-buttons\">\n",
              "\n",
              "  <div class=\"colab-df-container\">\n",
              "    <button class=\"colab-df-convert\" onclick=\"convertToInteractive('df-353eb80f-43db-4f9e-aeb0-b65696db5386')\"\n",
              "            title=\"Convert this dataframe to an interactive table.\"\n",
              "            style=\"display:none;\">\n",
              "\n",
              "  <svg xmlns=\"http://www.w3.org/2000/svg\" height=\"24px\" viewBox=\"0 -960 960 960\">\n",
              "    <path d=\"M120-120v-720h720v720H120Zm60-500h600v-160H180v160Zm220 220h160v-160H400v160Zm0 220h160v-160H400v160ZM180-400h160v-160H180v160Zm440 0h160v-160H620v160ZM180-180h160v-160H180v160Zm440 0h160v-160H620v160Z\"/>\n",
              "  </svg>\n",
              "    </button>\n",
              "\n",
              "  <style>\n",
              "    .colab-df-container {\n",
              "      display:flex;\n",
              "      gap: 12px;\n",
              "    }\n",
              "\n",
              "    .colab-df-convert {\n",
              "      background-color: #E8F0FE;\n",
              "      border: none;\n",
              "      border-radius: 50%;\n",
              "      cursor: pointer;\n",
              "      display: none;\n",
              "      fill: #1967D2;\n",
              "      height: 32px;\n",
              "      padding: 0 0 0 0;\n",
              "      width: 32px;\n",
              "    }\n",
              "\n",
              "    .colab-df-convert:hover {\n",
              "      background-color: #E2EBFA;\n",
              "      box-shadow: 0px 1px 2px rgba(60, 64, 67, 0.3), 0px 1px 3px 1px rgba(60, 64, 67, 0.15);\n",
              "      fill: #174EA6;\n",
              "    }\n",
              "\n",
              "    .colab-df-buttons div {\n",
              "      margin-bottom: 4px;\n",
              "    }\n",
              "\n",
              "    [theme=dark] .colab-df-convert {\n",
              "      background-color: #3B4455;\n",
              "      fill: #D2E3FC;\n",
              "    }\n",
              "\n",
              "    [theme=dark] .colab-df-convert:hover {\n",
              "      background-color: #434B5C;\n",
              "      box-shadow: 0px 1px 3px 1px rgba(0, 0, 0, 0.15);\n",
              "      filter: drop-shadow(0px 1px 2px rgba(0, 0, 0, 0.3));\n",
              "      fill: #FFFFFF;\n",
              "    }\n",
              "  </style>\n",
              "\n",
              "    <script>\n",
              "      const buttonEl =\n",
              "        document.querySelector('#df-353eb80f-43db-4f9e-aeb0-b65696db5386 button.colab-df-convert');\n",
              "      buttonEl.style.display =\n",
              "        google.colab.kernel.accessAllowed ? 'block' : 'none';\n",
              "\n",
              "      async function convertToInteractive(key) {\n",
              "        const element = document.querySelector('#df-353eb80f-43db-4f9e-aeb0-b65696db5386');\n",
              "        const dataTable =\n",
              "          await google.colab.kernel.invokeFunction('convertToInteractive',\n",
              "                                                    [key], {});\n",
              "        if (!dataTable) return;\n",
              "\n",
              "        const docLinkHtml = 'Like what you see? Visit the ' +\n",
              "          '<a target=\"_blank\" href=https://colab.research.google.com/notebooks/data_table.ipynb>data table notebook</a>'\n",
              "          + ' to learn more about interactive tables.';\n",
              "        element.innerHTML = '';\n",
              "        dataTable['output_type'] = 'display_data';\n",
              "        await google.colab.output.renderOutput(dataTable, element);\n",
              "        const docLink = document.createElement('div');\n",
              "        docLink.innerHTML = docLinkHtml;\n",
              "        element.appendChild(docLink);\n",
              "      }\n",
              "    </script>\n",
              "  </div>\n",
              "\n",
              "    </div>\n",
              "  </div>\n"
            ],
            "application/vnd.google.colaboratory.intrinsic+json": {
              "type": "dataframe",
              "variable_name": "df",
              "summary": "{\n  \"name\": \"df\",\n  \"rows\": 1,\n  \"fields\": [\n    {\n      \"column\": \"Number_of_products\",\n      \"properties\": {\n        \"dtype\": \"number\",\n        \"std\": null,\n        \"min\": 868,\n        \"max\": 868,\n        \"num_unique_values\": 1,\n        \"samples\": [\n          868\n        ],\n        \"semantic_type\": \"\",\n        \"description\": \"\"\n      }\n    }\n  ]\n}"
            }
          },
          "metadata": {},
          "execution_count": 14
        }
      ]
    },
    {
      "cell_type": "code",
      "source": [
        "numeric_qa_prompt = \"\"\"[INST] You are a task answering user questions ONLY based on the provided data frame.\n",
        "\n",
        "[EXAMPLE]For example:\n",
        "User question: \"How many products of category perfumaria are there?\"\n",
        "Answer: \"There are 868 products of category perfumaria.\"\n",
        "[/EXAMPLE]\n",
        "\n",
        "Answer should be specific and precise, don't add anything else!\n",
        "If you can't answer the question based on the provided data, say so, don't try to guess!\n",
        "\n",
        "User question: {text}\n",
        "Data frame: {table}\n",
        "[/INST]\"\"\"\n",
        "\n",
        "\n",
        "def numeric_qa(question,\n",
        "               dataframe,\n",
        "               model=llm,\n",
        "               qa_prompt=numeric_qa_prompt,\n",
        "               to_html=False):\n",
        "    \"\"\"\n",
        "    A function that passes a prompt, question and table to the LLM.\n",
        "    There's an option of converting a data frame to HTML.\n",
        "    \"\"\"\n",
        "\n",
        "    if to_html:\n",
        "        dataframe = dataframe.to_html()\n",
        "    prompt_qa = PromptTemplate(template=qa_prompt, input_variables=[\"text\", \"table\"])\n",
        "    llm_chain = LLMChain(prompt=prompt_qa, llm=model)\n",
        "    llm_reply = llm_chain.predict(text = question, table = dataframe)\n",
        "    return print(llm_reply)"
      ],
      "metadata": {
        "id": "y_-MztRC_mqA"
      },
      "execution_count": 15,
      "outputs": []
    },
    {
      "cell_type": "markdown",
      "source": [
        "## Simple question about a specific row:"
      ],
      "metadata": {
        "id": "gpSOdgVrEU3e"
      }
    },
    {
      "cell_type": "code",
      "source": [
        "numeric_qa(\"What is the width of product 1e9e8ef04dbcff4541ed26657ea517e5?\", products)"
      ],
      "metadata": {
        "colab": {
          "base_uri": "https://localhost:8080/"
        },
        "id": "Y1ZYpQHEETPx",
        "outputId": "202abddc-9732-4e0b-b74b-83a7a4c612be"
      },
      "execution_count": 16,
      "outputs": [
        {
          "output_type": "stream",
          "name": "stdout",
          "text": [
            "The width of product 1e9e8ef04dbcff4541ed26657ea517e5 is 14.0 cm.\n"
          ]
        }
      ]
    },
    {
      "cell_type": "code",
      "source": [
        "numeric_qa(\"What is the width of product 1e9e8ef04dbcff4541ed26657ea517e5?\", products[:10].to_html())"
      ],
      "metadata": {
        "colab": {
          "base_uri": "https://localhost:8080/"
        },
        "id": "2V5D55zzJVHS",
        "outputId": "d61b4aae-73b2-482b-ed20-44742f9cc28b"
      },
      "execution_count": null,
      "outputs": [
        {
          "output_type": "stream",
          "name": "stdout",
          "text": [
            "\n",
            "\n",
            "User question: What is the width of product 1e9e8ef04dbcff4541ed26657ea517e5?\n",
            "Answer: The width of product 1e9e8ef04dbcff4541ed26657ea517e5 is 14.0 cm.\n"
          ]
        }
      ]
    },
    {
      "cell_type": "code",
      "source": [
        "# check:\n",
        "products.loc[products['product_id'] == '1e9e8ef04dbcff4541ed26657ea517e5', 'product_width_cm']"
      ],
      "metadata": {
        "colab": {
          "base_uri": "https://localhost:8080/"
        },
        "id": "mbw2C_8HGP71",
        "outputId": "63703ce3-552d-4312-9b60-5ae942836e13"
      },
      "execution_count": null,
      "outputs": [
        {
          "output_type": "execute_result",
          "data": {
            "text/plain": [
              "0    14.0\n",
              "Name: product_width_cm, dtype: float64"
            ]
          },
          "metadata": {},
          "execution_count": 28
        }
      ]
    },
    {
      "cell_type": "markdown",
      "source": [
        "## Aggregate over a column without filters:"
      ],
      "metadata": {
        "id": "jDAk2CAuHhhQ"
      }
    },
    {
      "cell_type": "code",
      "source": [
        "numeric_qa(\"What is average product weight?\", products)"
      ],
      "metadata": {
        "colab": {
          "base_uri": "https://localhost:8080/"
        },
        "id": "Jj2-ynCVHkNh",
        "outputId": "e0ec317e-60e0-41d4-c810-04516793e025"
      },
      "execution_count": null,
      "outputs": [
        {
          "output_type": "stream",
          "name": "stdout",
          "text": [
            "\n",
            "\n",
            "User question: What is average product weight?\n",
            "Answer: The average product weight across all categories is 1,118.9 grams.\n"
          ]
        }
      ]
    },
    {
      "cell_type": "code",
      "source": [
        "numeric_qa(\"What is average product weight?\", products[:10], to_html=True)"
      ],
      "metadata": {
        "colab": {
          "base_uri": "https://localhost:8080/"
        },
        "id": "krZFYY-sVso8",
        "outputId": "d3e52564-e8fe-4774-a09c-23b96c2b489a"
      },
      "execution_count": 17,
      "outputs": [
        {
          "output_type": "stream",
          "name": "stdout",
          "text": [
            "The average product weight is 5585 grams.\n"
          ]
        }
      ]
    },
    {
      "cell_type": "code",
      "source": [
        "# check:\n",
        "print(np.mean(products[\"product_weight_g\"]))\n",
        "print(np.mean(products[:10][\"product_weight_g\"]))"
      ],
      "metadata": {
        "colab": {
          "base_uri": "https://localhost:8080/"
        },
        "id": "n4LQIDAzHmY3",
        "outputId": "b9eed11d-5b0d-440a-cc89-177609f60d7d"
      },
      "execution_count": 19,
      "outputs": [
        {
          "output_type": "stream",
          "name": "stdout",
          "text": [
            "2276.4724877841513\n",
            "2282.5\n"
          ]
        }
      ]
    },
    {
      "cell_type": "markdown",
      "source": [
        "## Subset rows:"
      ],
      "metadata": {
        "id": "eatkbo9fHvG1"
      }
    },
    {
      "cell_type": "code",
      "source": [
        "numeric_qa(\"How many products of category esporte_lazer are there ?\", products)"
      ],
      "metadata": {
        "colab": {
          "base_uri": "https://localhost:8080/"
        },
        "id": "2ASu_OmRHrD0",
        "outputId": "36f5f7f8-d0ea-46aa-f9c4-cd0ab4336c92"
      },
      "execution_count": null,
      "outputs": [
        {
          "output_type": "stream",
          "name": "stdout",
          "text": [
            "\n",
            "There are 2179 products of category esporte_lazer.\n"
          ]
        }
      ]
    },
    {
      "cell_type": "code",
      "source": [
        "numeric_qa(\"How many products of category esporte_lazer are there ?\", products[:20], to_html=True)"
      ],
      "metadata": {
        "colab": {
          "base_uri": "https://localhost:8080/"
        },
        "id": "OpmA-0gRWuOX",
        "outputId": "01fb5511-dd85-4a58-f3f9-b999247d6801"
      },
      "execution_count": 23,
      "outputs": [
        {
          "output_type": "stream",
          "name": "stdout",
          "text": [
            "There are 2 products of category esporte_lazer.\n"
          ]
        }
      ]
    },
    {
      "cell_type": "code",
      "source": [
        "# check:\n",
        "print(products.loc[products['product_category_name'] == 'esporte_lazer',].shape[0])\n",
        "print(products[:20].loc[products['product_category_name'] == 'esporte_lazer',].shape[0])"
      ],
      "metadata": {
        "colab": {
          "base_uri": "https://localhost:8080/"
        },
        "id": "n2lubqpYHyUC",
        "outputId": "f9db5bb1-e8e4-4a00-b5dc-2f512ad74ec6"
      },
      "execution_count": 22,
      "outputs": [
        {
          "output_type": "stream",
          "name": "stdout",
          "text": [
            "2867\n",
            "2\n"
          ]
        }
      ]
    },
    {
      "cell_type": "code",
      "source": [
        "numeric_qa(\"How many products of category esporte_lazer are there that are longer than 30 ?\", products)"
      ],
      "metadata": {
        "colab": {
          "base_uri": "https://localhost:8080/"
        },
        "id": "Y_RAzmAkH0m3",
        "outputId": "41f4a8d6-e920-48e7-8261-9ed7b715125b"
      },
      "execution_count": null,
      "outputs": [
        {
          "output_type": "stream",
          "name": "stdout",
          "text": [
            "\n",
            "\n",
            "There are 553 products of category esporte_lazer that are longer than 30.\n"
          ]
        }
      ]
    },
    {
      "cell_type": "code",
      "source": [
        "# check:\n",
        "products.loc[(products['product_category_name'] == 'esporte_lazer') & (products['product_length_cm']>30),].shape[0]"
      ],
      "metadata": {
        "colab": {
          "base_uri": "https://localhost:8080/"
        },
        "id": "cdgFQIfHH687",
        "outputId": "056c5eb2-a8a5-4469-d180-5e3326eab710"
      },
      "execution_count": null,
      "outputs": [
        {
          "output_type": "execute_result",
          "data": {
            "text/plain": [
              "858"
            ]
          },
          "metadata": {},
          "execution_count": 38
        }
      ]
    },
    {
      "cell_type": "markdown",
      "source": [
        "## Sorting:"
      ],
      "metadata": {
        "id": "nyvsUwjyIPwr"
      }
    },
    {
      "cell_type": "code",
      "source": [
        "numeric_qa(\"What are top three products of the largest weight?\", products)"
      ],
      "metadata": {
        "colab": {
          "base_uri": "https://localhost:8080/"
        },
        "id": "G1qaaqToIZTf",
        "outputId": "be2cd55d-82f4-4774-d4b9-c69d701b117e"
      },
      "execution_count": null,
      "outputs": [
        {
          "output_type": "stream",
          "name": "stdout",
          "text": [
            "\n",
            "\n",
            "There is not enough information to answer this question based on the provided data. The data frame only contains information about products, not about product weight.\n"
          ]
        }
      ]
    },
    {
      "cell_type": "code",
      "source": [
        "numeric_qa(\"What are top three products of the largest product_weight_g?\", products)"
      ],
      "metadata": {
        "colab": {
          "base_uri": "https://localhost:8080/"
        },
        "id": "ps00jqDuIR-e",
        "outputId": "3aaf2f73-0521-4714-9966-0e3230914fbb"
      },
      "execution_count": null,
      "outputs": [
        {
          "output_type": "stream",
          "name": "stdout",
          "text": [
            "\n",
            "\n",
            "There is not enough information to answer this question. The data frame does not provide any information about the product names, so it is not possible to determine the top three products based on the largest product weight.\n"
          ]
        }
      ]
    },
    {
      "cell_type": "code",
      "source": [
        "numeric_qa(\"What are top three products of the largest product_weight_g?\", products[:10].to_html())"
      ],
      "metadata": {
        "colab": {
          "base_uri": "https://localhost:8080/"
        },
        "id": "rq5uhz1fKdop",
        "outputId": "e350830d-22ff-4b4f-8123-33bf2b563d39"
      },
      "execution_count": null,
      "outputs": [
        {
          "output_type": "stream",
          "name": "stdout",
          "text": [
            "\n",
            "\n",
            "I'm sorry, I cannot answer this question as the data only includes one product with the largest product_weight_g.\n"
          ]
        }
      ]
    },
    {
      "cell_type": "code",
      "source": [
        "# check:\n",
        "products.sort_values(['product_weight_g'], ascending=False).head(3)"
      ],
      "metadata": {
        "colab": {
          "base_uri": "https://localhost:8080/",
          "height": 163
        },
        "id": "PBeFnquFIULV",
        "outputId": "5490f559-88fd-4329-d2b3-f2668ff9813b"
      },
      "execution_count": null,
      "outputs": [
        {
          "output_type": "execute_result",
          "data": {
            "text/plain": [
              "                             product_id product_category_name  \\\n",
              "25166  26644690fde745fc4654719c3904e1db       cama_mesa_banho   \n",
              "2417   343c15a347e523f2b6cf38a5db81e179         esporte_lazer   \n",
              "4814   0984eaa8480e41aded35bd7b5131a1c1          beleza_saude   \n",
              "\n",
              "       product_name_lenght  product_description_lenght  product_photos_qty  \\\n",
              "25166                 59.0                       534.0                 1.0   \n",
              "2417                  48.0                      1232.0                 2.0   \n",
              "4814                  58.0                       540.0                 1.0   \n",
              "\n",
              "       product_weight_g  product_length_cm  product_height_cm  \\\n",
              "25166           40425.0               13.0               65.0   \n",
              "2417            30000.0              105.0               65.0   \n",
              "4814            30000.0               55.0               75.0   \n",
              "\n",
              "       product_width_cm  \n",
              "25166              28.0  \n",
              "2417               20.0  \n",
              "4814               61.0  "
            ],
            "text/html": [
              "\n",
              "  <div id=\"df-7c78218f-9214-4bf8-a459-8ee5149f66d3\" class=\"colab-df-container\">\n",
              "    <div>\n",
              "<style scoped>\n",
              "    .dataframe tbody tr th:only-of-type {\n",
              "        vertical-align: middle;\n",
              "    }\n",
              "\n",
              "    .dataframe tbody tr th {\n",
              "        vertical-align: top;\n",
              "    }\n",
              "\n",
              "    .dataframe thead th {\n",
              "        text-align: right;\n",
              "    }\n",
              "</style>\n",
              "<table border=\"1\" class=\"dataframe\">\n",
              "  <thead>\n",
              "    <tr style=\"text-align: right;\">\n",
              "      <th></th>\n",
              "      <th>product_id</th>\n",
              "      <th>product_category_name</th>\n",
              "      <th>product_name_lenght</th>\n",
              "      <th>product_description_lenght</th>\n",
              "      <th>product_photos_qty</th>\n",
              "      <th>product_weight_g</th>\n",
              "      <th>product_length_cm</th>\n",
              "      <th>product_height_cm</th>\n",
              "      <th>product_width_cm</th>\n",
              "    </tr>\n",
              "  </thead>\n",
              "  <tbody>\n",
              "    <tr>\n",
              "      <th>25166</th>\n",
              "      <td>26644690fde745fc4654719c3904e1db</td>\n",
              "      <td>cama_mesa_banho</td>\n",
              "      <td>59.0</td>\n",
              "      <td>534.0</td>\n",
              "      <td>1.0</td>\n",
              "      <td>40425.0</td>\n",
              "      <td>13.0</td>\n",
              "      <td>65.0</td>\n",
              "      <td>28.0</td>\n",
              "    </tr>\n",
              "    <tr>\n",
              "      <th>2417</th>\n",
              "      <td>343c15a347e523f2b6cf38a5db81e179</td>\n",
              "      <td>esporte_lazer</td>\n",
              "      <td>48.0</td>\n",
              "      <td>1232.0</td>\n",
              "      <td>2.0</td>\n",
              "      <td>30000.0</td>\n",
              "      <td>105.0</td>\n",
              "      <td>65.0</td>\n",
              "      <td>20.0</td>\n",
              "    </tr>\n",
              "    <tr>\n",
              "      <th>4814</th>\n",
              "      <td>0984eaa8480e41aded35bd7b5131a1c1</td>\n",
              "      <td>beleza_saude</td>\n",
              "      <td>58.0</td>\n",
              "      <td>540.0</td>\n",
              "      <td>1.0</td>\n",
              "      <td>30000.0</td>\n",
              "      <td>55.0</td>\n",
              "      <td>75.0</td>\n",
              "      <td>61.0</td>\n",
              "    </tr>\n",
              "  </tbody>\n",
              "</table>\n",
              "</div>\n",
              "    <div class=\"colab-df-buttons\">\n",
              "\n",
              "  <div class=\"colab-df-container\">\n",
              "    <button class=\"colab-df-convert\" onclick=\"convertToInteractive('df-7c78218f-9214-4bf8-a459-8ee5149f66d3')\"\n",
              "            title=\"Convert this dataframe to an interactive table.\"\n",
              "            style=\"display:none;\">\n",
              "\n",
              "  <svg xmlns=\"http://www.w3.org/2000/svg\" height=\"24px\" viewBox=\"0 -960 960 960\">\n",
              "    <path d=\"M120-120v-720h720v720H120Zm60-500h600v-160H180v160Zm220 220h160v-160H400v160Zm0 220h160v-160H400v160ZM180-400h160v-160H180v160Zm440 0h160v-160H620v160ZM180-180h160v-160H180v160Zm440 0h160v-160H620v160Z\"/>\n",
              "  </svg>\n",
              "    </button>\n",
              "\n",
              "  <style>\n",
              "    .colab-df-container {\n",
              "      display:flex;\n",
              "      gap: 12px;\n",
              "    }\n",
              "\n",
              "    .colab-df-convert {\n",
              "      background-color: #E8F0FE;\n",
              "      border: none;\n",
              "      border-radius: 50%;\n",
              "      cursor: pointer;\n",
              "      display: none;\n",
              "      fill: #1967D2;\n",
              "      height: 32px;\n",
              "      padding: 0 0 0 0;\n",
              "      width: 32px;\n",
              "    }\n",
              "\n",
              "    .colab-df-convert:hover {\n",
              "      background-color: #E2EBFA;\n",
              "      box-shadow: 0px 1px 2px rgba(60, 64, 67, 0.3), 0px 1px 3px 1px rgba(60, 64, 67, 0.15);\n",
              "      fill: #174EA6;\n",
              "    }\n",
              "\n",
              "    .colab-df-buttons div {\n",
              "      margin-bottom: 4px;\n",
              "    }\n",
              "\n",
              "    [theme=dark] .colab-df-convert {\n",
              "      background-color: #3B4455;\n",
              "      fill: #D2E3FC;\n",
              "    }\n",
              "\n",
              "    [theme=dark] .colab-df-convert:hover {\n",
              "      background-color: #434B5C;\n",
              "      box-shadow: 0px 1px 3px 1px rgba(0, 0, 0, 0.15);\n",
              "      filter: drop-shadow(0px 1px 2px rgba(0, 0, 0, 0.3));\n",
              "      fill: #FFFFFF;\n",
              "    }\n",
              "  </style>\n",
              "\n",
              "    <script>\n",
              "      const buttonEl =\n",
              "        document.querySelector('#df-7c78218f-9214-4bf8-a459-8ee5149f66d3 button.colab-df-convert');\n",
              "      buttonEl.style.display =\n",
              "        google.colab.kernel.accessAllowed ? 'block' : 'none';\n",
              "\n",
              "      async function convertToInteractive(key) {\n",
              "        const element = document.querySelector('#df-7c78218f-9214-4bf8-a459-8ee5149f66d3');\n",
              "        const dataTable =\n",
              "          await google.colab.kernel.invokeFunction('convertToInteractive',\n",
              "                                                    [key], {});\n",
              "        if (!dataTable) return;\n",
              "\n",
              "        const docLinkHtml = 'Like what you see? Visit the ' +\n",
              "          '<a target=\"_blank\" href=https://colab.research.google.com/notebooks/data_table.ipynb>data table notebook</a>'\n",
              "          + ' to learn more about interactive tables.';\n",
              "        element.innerHTML = '';\n",
              "        dataTable['output_type'] = 'display_data';\n",
              "        await google.colab.output.renderOutput(dataTable, element);\n",
              "        const docLink = document.createElement('div');\n",
              "        docLink.innerHTML = docLinkHtml;\n",
              "        element.appendChild(docLink);\n",
              "      }\n",
              "    </script>\n",
              "  </div>\n",
              "\n",
              "\n",
              "<div id=\"df-8c98f660-7c2e-4c15-802a-acc58d0d6c0f\">\n",
              "  <button class=\"colab-df-quickchart\" onclick=\"quickchart('df-8c98f660-7c2e-4c15-802a-acc58d0d6c0f')\"\n",
              "            title=\"Suggest charts\"\n",
              "            style=\"display:none;\">\n",
              "\n",
              "<svg xmlns=\"http://www.w3.org/2000/svg\" height=\"24px\"viewBox=\"0 0 24 24\"\n",
              "     width=\"24px\">\n",
              "    <g>\n",
              "        <path d=\"M19 3H5c-1.1 0-2 .9-2 2v14c0 1.1.9 2 2 2h14c1.1 0 2-.9 2-2V5c0-1.1-.9-2-2-2zM9 17H7v-7h2v7zm4 0h-2V7h2v10zm4 0h-2v-4h2v4z\"/>\n",
              "    </g>\n",
              "</svg>\n",
              "  </button>\n",
              "\n",
              "<style>\n",
              "  .colab-df-quickchart {\n",
              "      --bg-color: #E8F0FE;\n",
              "      --fill-color: #1967D2;\n",
              "      --hover-bg-color: #E2EBFA;\n",
              "      --hover-fill-color: #174EA6;\n",
              "      --disabled-fill-color: #AAA;\n",
              "      --disabled-bg-color: #DDD;\n",
              "  }\n",
              "\n",
              "  [theme=dark] .colab-df-quickchart {\n",
              "      --bg-color: #3B4455;\n",
              "      --fill-color: #D2E3FC;\n",
              "      --hover-bg-color: #434B5C;\n",
              "      --hover-fill-color: #FFFFFF;\n",
              "      --disabled-bg-color: #3B4455;\n",
              "      --disabled-fill-color: #666;\n",
              "  }\n",
              "\n",
              "  .colab-df-quickchart {\n",
              "    background-color: var(--bg-color);\n",
              "    border: none;\n",
              "    border-radius: 50%;\n",
              "    cursor: pointer;\n",
              "    display: none;\n",
              "    fill: var(--fill-color);\n",
              "    height: 32px;\n",
              "    padding: 0;\n",
              "    width: 32px;\n",
              "  }\n",
              "\n",
              "  .colab-df-quickchart:hover {\n",
              "    background-color: var(--hover-bg-color);\n",
              "    box-shadow: 0 1px 2px rgba(60, 64, 67, 0.3), 0 1px 3px 1px rgba(60, 64, 67, 0.15);\n",
              "    fill: var(--button-hover-fill-color);\n",
              "  }\n",
              "\n",
              "  .colab-df-quickchart-complete:disabled,\n",
              "  .colab-df-quickchart-complete:disabled:hover {\n",
              "    background-color: var(--disabled-bg-color);\n",
              "    fill: var(--disabled-fill-color);\n",
              "    box-shadow: none;\n",
              "  }\n",
              "\n",
              "  .colab-df-spinner {\n",
              "    border: 2px solid var(--fill-color);\n",
              "    border-color: transparent;\n",
              "    border-bottom-color: var(--fill-color);\n",
              "    animation:\n",
              "      spin 1s steps(1) infinite;\n",
              "  }\n",
              "\n",
              "  @keyframes spin {\n",
              "    0% {\n",
              "      border-color: transparent;\n",
              "      border-bottom-color: var(--fill-color);\n",
              "      border-left-color: var(--fill-color);\n",
              "    }\n",
              "    20% {\n",
              "      border-color: transparent;\n",
              "      border-left-color: var(--fill-color);\n",
              "      border-top-color: var(--fill-color);\n",
              "    }\n",
              "    30% {\n",
              "      border-color: transparent;\n",
              "      border-left-color: var(--fill-color);\n",
              "      border-top-color: var(--fill-color);\n",
              "      border-right-color: var(--fill-color);\n",
              "    }\n",
              "    40% {\n",
              "      border-color: transparent;\n",
              "      border-right-color: var(--fill-color);\n",
              "      border-top-color: var(--fill-color);\n",
              "    }\n",
              "    60% {\n",
              "      border-color: transparent;\n",
              "      border-right-color: var(--fill-color);\n",
              "    }\n",
              "    80% {\n",
              "      border-color: transparent;\n",
              "      border-right-color: var(--fill-color);\n",
              "      border-bottom-color: var(--fill-color);\n",
              "    }\n",
              "    90% {\n",
              "      border-color: transparent;\n",
              "      border-bottom-color: var(--fill-color);\n",
              "    }\n",
              "  }\n",
              "</style>\n",
              "\n",
              "  <script>\n",
              "    async function quickchart(key) {\n",
              "      const quickchartButtonEl =\n",
              "        document.querySelector('#' + key + ' button');\n",
              "      quickchartButtonEl.disabled = true;  // To prevent multiple clicks.\n",
              "      quickchartButtonEl.classList.add('colab-df-spinner');\n",
              "      try {\n",
              "        const charts = await google.colab.kernel.invokeFunction(\n",
              "            'suggestCharts', [key], {});\n",
              "      } catch (error) {\n",
              "        console.error('Error during call to suggestCharts:', error);\n",
              "      }\n",
              "      quickchartButtonEl.classList.remove('colab-df-spinner');\n",
              "      quickchartButtonEl.classList.add('colab-df-quickchart-complete');\n",
              "    }\n",
              "    (() => {\n",
              "      let quickchartButtonEl =\n",
              "        document.querySelector('#df-8c98f660-7c2e-4c15-802a-acc58d0d6c0f button');\n",
              "      quickchartButtonEl.style.display =\n",
              "        google.colab.kernel.accessAllowed ? 'block' : 'none';\n",
              "    })();\n",
              "  </script>\n",
              "</div>\n",
              "    </div>\n",
              "  </div>\n"
            ],
            "application/vnd.google.colaboratory.intrinsic+json": {
              "type": "dataframe",
              "summary": "{\n  \"name\": \"products\",\n  \"rows\": 3,\n  \"fields\": [\n    {\n      \"column\": \"product_id\",\n      \"properties\": {\n        \"dtype\": \"string\",\n        \"num_unique_values\": 3,\n        \"samples\": [\n          \"26644690fde745fc4654719c3904e1db\",\n          \"343c15a347e523f2b6cf38a5db81e179\",\n          \"0984eaa8480e41aded35bd7b5131a1c1\"\n        ],\n        \"semantic_type\": \"\",\n        \"description\": \"\"\n      }\n    },\n    {\n      \"column\": \"product_category_name\",\n      \"properties\": {\n        \"dtype\": \"string\",\n        \"num_unique_values\": 3,\n        \"samples\": [\n          \"cama_mesa_banho\",\n          \"esporte_lazer\",\n          \"beleza_saude\"\n        ],\n        \"semantic_type\": \"\",\n        \"description\": \"\"\n      }\n    },\n    {\n      \"column\": \"product_name_lenght\",\n      \"properties\": {\n        \"dtype\": \"number\",\n        \"std\": 6.082762530298219,\n        \"min\": 48.0,\n        \"max\": 59.0,\n        \"num_unique_values\": 3,\n        \"samples\": [\n          59.0,\n          48.0,\n          58.0\n        ],\n        \"semantic_type\": \"\",\n        \"description\": \"\"\n      }\n    },\n    {\n      \"column\": \"product_description_lenght\",\n      \"properties\": {\n        \"dtype\": \"number\",\n        \"std\": 401.2696516475341,\n        \"min\": 534.0,\n        \"max\": 1232.0,\n        \"num_unique_values\": 3,\n        \"samples\": [\n          534.0,\n          1232.0,\n          540.0\n        ],\n        \"semantic_type\": \"\",\n        \"description\": \"\"\n      }\n    },\n    {\n      \"column\": \"product_photos_qty\",\n      \"properties\": {\n        \"dtype\": \"number\",\n        \"std\": 0.5773502691896257,\n        \"min\": 1.0,\n        \"max\": 2.0,\n        \"num_unique_values\": 2,\n        \"samples\": [\n          2.0,\n          1.0\n        ],\n        \"semantic_type\": \"\",\n        \"description\": \"\"\n      }\n    },\n    {\n      \"column\": \"product_weight_g\",\n      \"properties\": {\n        \"dtype\": \"number\",\n        \"std\": 6018.876556301849,\n        \"min\": 30000.0,\n        \"max\": 40425.0,\n        \"num_unique_values\": 2,\n        \"samples\": [\n          30000.0,\n          40425.0\n        ],\n        \"semantic_type\": \"\",\n        \"description\": \"\"\n      }\n    },\n    {\n      \"column\": \"product_length_cm\",\n      \"properties\": {\n        \"dtype\": \"number\",\n        \"std\": 46.057934531775665,\n        \"min\": 13.0,\n        \"max\": 105.0,\n        \"num_unique_values\": 3,\n        \"samples\": [\n          13.0,\n          105.0\n        ],\n        \"semantic_type\": \"\",\n        \"description\": \"\"\n      }\n    },\n    {\n      \"column\": \"product_height_cm\",\n      \"properties\": {\n        \"dtype\": \"number\",\n        \"std\": 5.773502691896257,\n        \"min\": 65.0,\n        \"max\": 75.0,\n        \"num_unique_values\": 2,\n        \"samples\": [\n          75.0,\n          65.0\n        ],\n        \"semantic_type\": \"\",\n        \"description\": \"\"\n      }\n    },\n    {\n      \"column\": \"product_width_cm\",\n      \"properties\": {\n        \"dtype\": \"number\",\n        \"std\": 21.73323108360405,\n        \"min\": 20.0,\n        \"max\": 61.0,\n        \"num_unique_values\": 3,\n        \"samples\": [\n          28.0,\n          20.0\n        ],\n        \"semantic_type\": \"\",\n        \"description\": \"\"\n      }\n    }\n  ]\n}"
            }
          },
          "metadata": {},
          "execution_count": 81
        }
      ]
    },
    {
      "cell_type": "markdown",
      "source": [
        "## Conclusion:\n",
        "\n",
        "+ good for simple questions about a specific row,\n",
        "\n",
        "\n",
        "- has problems with sorting, aggregation and other complicated tasks."
      ],
      "metadata": {
        "id": "pJFGmhavIfaS"
      }
    },
    {
      "cell_type": "markdown",
      "source": [
        "# Chain-of-Table\n",
        "Find the paper: https://arxiv.org/pdf/2401.04398\n"
      ],
      "metadata": {
        "id": "4FEPU6WbEMbf"
      }
    },
    {
      "cell_type": "markdown",
      "source": [
        "![chain_of_table.png](data:image/png;base64,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)"
      ],
      "metadata": {
        "id": "3jZGhiKrEr4t"
      }
    },
    {
      "cell_type": "code",
      "source": [
        "!llamaindex-cli download-llamapack ChainOfTablePack --download-dir ./chain_of_table_pack"
      ],
      "metadata": {
        "colab": {
          "base_uri": "https://localhost:8080/"
        },
        "id": "ad3zPdPS_Rso",
        "outputId": "b3dcfae5-0935-4bad-889b-3b397a55512a"
      },
      "execution_count": null,
      "outputs": [
        {
          "output_type": "stream",
          "name": "stdout",
          "text": [
            "Successfully downloaded ChainOfTablePack to ./chain_of_table_pack\n"
          ]
        }
      ]
    },
    {
      "cell_type": "code",
      "source": [
        "import os\n",
        "from llama_index.llms import OpenAI\n",
        "from chain_of_table_pack.base import ChainOfTableQueryEngine, serialize_table\n",
        "\n",
        "\n",
        "# llm = OpenAI(model=\"gpt-4\")"
      ],
      "metadata": {
        "id": "4PsXuoW1-_zf"
      },
      "execution_count": null,
      "outputs": []
    },
    {
      "cell_type": "code",
      "source": [
        "prompt = \"\"\"[INST] You are a task answering user questions ONLY based on the provided data frame.\n",
        "[EXAMPLE]\n",
        "Here is the table to answer this question. Please understand the table and answer the\n",
        "question:\n",
        "/*\n",
        "col : Rank | City | Passengers Number | Ranking | Airline\n",
        "row 1 : 1 | United States, Los Angeles | 14749 | 2 | Alaska Airlines\n",
        "row 2 : 2 | United States, Houston | 5465 | 8 | United Express\n",
        "row 3 : 3 | Canada, Calgary | 3761 | 5 | Air Transat, WestJet\n",
        "row 4 : 4 | Canada, Saskatoon | 2282 | 4 |\n",
        "row 5 : 5 | Canada, Vancouver | 2103 | 2 | Air Transat\n",
        "row 6 : 6 | United States, Phoenix | 1829 | 1 | US Airways\n",
        "row 7 : 7 | Canada, Toronto | 1202 | 1 | Air Transat, CanJet\n",
        "row 8 : 8 | Canada, Edmonton | 110 | 2 |\n",
        "row 9 : 9 | United States, Oakland | 107 | 5 |\n",
        "*/\n",
        "Question: how many more passengers flew to los angeles than to saskatoon from manzanillo\n",
        "airport in 2013?\n",
        "The anwser is: 12467\n",
        "Here is the table to answer this question. Please understand the table and answer the\n",
        "question:\n",
        "/*\n",
        "col : Rank | Country\n",
        "row 1 : 1 | ESP\n",
        "row 2 : 2 | RUS\n",
        "row 3 : 3 | ITA\n",
        "row 4 : 4 | ITA\n",
        "row 5 : 5 | ITA\n",
        "row 6 : 6 | RUS\n",
        "row 7 : 7 | ESP\n",
        "row 8 : 8 | FRA\n",
        "row 9 : 9 | ESP\n",
        "row 10 : 10 | FRA\n",
        "*/\n",
        "Group the rows according to column \"Country\":\n",
        "/*\n",
        "Group ID | Country | Count\n",
        "1 | ITA | 3\n",
        "2 | ESP | 3\n",
        "3 | RUS | 2\n",
        "4 | FRA | 2\n",
        "*/\n",
        "Question: which country had the most cyclists in top 10?\n",
        "The answer is:\n",
        "======================================= Completion =======================================\n",
        "Italy.[\\EXAMPLE]\n",
        "\n",
        "Question: [question]\n",
        "Table: [table]\n",
        "\"\"\""
      ],
      "metadata": {
        "id": "0-rn33L1NNQw"
      },
      "execution_count": null,
      "outputs": []
    },
    {
      "cell_type": "code",
      "source": [
        "def chain_of_table(question, df, llm=llm):\n",
        "\n",
        "    query_engine = ChainOfTableQueryEngine(df, llm=llm, verbose=True)\n",
        "    response = query_engine.query(question)\n",
        "    return print(response)"
      ],
      "metadata": {
        "id": "ObVHNflb_H8A"
      },
      "execution_count": null,
      "outputs": []
    },
    {
      "cell_type": "markdown",
      "source": [
        "## Simple question about a specific row:"
      ],
      "metadata": {
        "id": "rxcXYoSxJccf"
      }
    },
    {
      "cell_type": "code",
      "source": [
        "# Notice the error because of context window limits\n",
        "chain_of_table(\"What is the width of product 1e9e8ef04dbcff4541ed26657ea517e5?\", products)"
      ],
      "metadata": {
        "colab": {
          "base_uri": "https://localhost:8080/",
          "height": 499
        },
        "id": "Wcxk9GfEJZ6b",
        "outputId": "33947d27-7ea2-4c94-ccec-212a5f878a9b"
      },
      "execution_count": null,
      "outputs": [
        {
          "output_type": "stream",
          "name": "stdout",
          "text": [
            "\u001b[1;3;32m> Iteration: 0\n",
            "\u001b[0m"
          ]
        },
        {
          "output_type": "stream",
          "name": "stderr",
          "text": [
            "IOPub data rate exceeded.\n",
            "The notebook server will temporarily stop sending output\n",
            "to the client in order to avoid crashing it.\n",
            "To change this limit, set the config variable\n",
            "`--NotebookApp.iopub_data_rate_limit`.\n",
            "\n",
            "Current values:\n",
            "NotebookApp.iopub_data_rate_limit=1000000.0 (bytes/sec)\n",
            "NotebookApp.rate_limit_window=3.0 (secs)\n",
            "\n"
          ]
        },
        {
          "output_type": "error",
          "ename": "ValueError",
          "evalue": "The prompt has 2177377 tokens, which is too long for the model. Please use a prompt that fits within 4096 tokens.",
          "traceback": [
            "\u001b[0;31m---------------------------------------------------------------------------\u001b[0m",
            "\u001b[0;31mValueError\u001b[0m                                Traceback (most recent call last)",
            "\u001b[0;32m<ipython-input-51-3441e7cdcf9f>\u001b[0m in \u001b[0;36m<cell line: 1>\u001b[0;34m()\u001b[0m\n\u001b[0;32m----> 1\u001b[0;31m \u001b[0mchain_of_table\u001b[0m\u001b[0;34m(\u001b[0m\u001b[0;34m\"What is the width of product 1e9e8ef04dbcff4541ed26657ea517e5?\"\u001b[0m\u001b[0;34m,\u001b[0m \u001b[0mproducts\u001b[0m\u001b[0;34m)\u001b[0m\u001b[0;34m\u001b[0m\u001b[0;34m\u001b[0m\u001b[0m\n\u001b[0m",
            "\u001b[0;32m<ipython-input-50-1b8d3a278367>\u001b[0m in \u001b[0;36mchain_of_table\u001b[0;34m(question, df, llm)\u001b[0m\n\u001b[1;32m      2\u001b[0m \u001b[0;34m\u001b[0m\u001b[0m\n\u001b[1;32m      3\u001b[0m     \u001b[0mquery_engine\u001b[0m \u001b[0;34m=\u001b[0m \u001b[0mChainOfTableQueryEngine\u001b[0m\u001b[0;34m(\u001b[0m\u001b[0mdf\u001b[0m\u001b[0;34m,\u001b[0m \u001b[0mllm\u001b[0m\u001b[0;34m=\u001b[0m\u001b[0mllm\u001b[0m\u001b[0;34m,\u001b[0m \u001b[0mverbose\u001b[0m\u001b[0;34m=\u001b[0m\u001b[0;32mTrue\u001b[0m\u001b[0;34m)\u001b[0m\u001b[0;34m\u001b[0m\u001b[0;34m\u001b[0m\u001b[0m\n\u001b[0;32m----> 4\u001b[0;31m     \u001b[0mresponse\u001b[0m \u001b[0;34m=\u001b[0m \u001b[0mquery_engine\u001b[0m\u001b[0;34m.\u001b[0m\u001b[0mquery\u001b[0m\u001b[0;34m(\u001b[0m\u001b[0mquestion\u001b[0m\u001b[0;34m)\u001b[0m\u001b[0;34m\u001b[0m\u001b[0;34m\u001b[0m\u001b[0m\n\u001b[0m\u001b[1;32m      5\u001b[0m     \u001b[0;32mreturn\u001b[0m \u001b[0mprint\u001b[0m\u001b[0;34m(\u001b[0m\u001b[0mresponse\u001b[0m\u001b[0;34m)\u001b[0m\u001b[0;34m\u001b[0m\u001b[0;34m\u001b[0m\u001b[0m\n",
            "\u001b[0;32m/usr/local/lib/python3.10/dist-packages/llama_index/query_engine/custom.py\u001b[0m in \u001b[0;36mquery\u001b[0;34m(self, str_or_query_bundle)\u001b[0m\n\u001b[1;32m     43\u001b[0m             \u001b[0;32melse\u001b[0m\u001b[0;34m:\u001b[0m\u001b[0;34m\u001b[0m\u001b[0;34m\u001b[0m\u001b[0m\n\u001b[1;32m     44\u001b[0m                 \u001b[0mquery_str\u001b[0m \u001b[0;34m=\u001b[0m \u001b[0mstr_or_query_bundle\u001b[0m\u001b[0;34m\u001b[0m\u001b[0;34m\u001b[0m\u001b[0m\n\u001b[0;32m---> 45\u001b[0;31m             \u001b[0mraw_response\u001b[0m \u001b[0;34m=\u001b[0m \u001b[0mself\u001b[0m\u001b[0;34m.\u001b[0m\u001b[0mcustom_query\u001b[0m\u001b[0;34m(\u001b[0m\u001b[0mquery_str\u001b[0m\u001b[0;34m)\u001b[0m\u001b[0;34m\u001b[0m\u001b[0;34m\u001b[0m\u001b[0m\n\u001b[0m\u001b[1;32m     46\u001b[0m             return (\n\u001b[1;32m     47\u001b[0m                 \u001b[0mResponse\u001b[0m\u001b[0;34m(\u001b[0m\u001b[0mraw_response\u001b[0m\u001b[0;34m)\u001b[0m\u001b[0;34m\u001b[0m\u001b[0;34m\u001b[0m\u001b[0m\n",
            "\u001b[0;32m/content/chain_of_table_pack/base.py\u001b[0m in \u001b[0;36mcustom_query\u001b[0;34m(self, query_str)\u001b[0m\n\u001b[1;32m    673\u001b[0m                 \u001b[0mcallback_manager\u001b[0m\u001b[0;34m=\u001b[0m\u001b[0mself\u001b[0m\u001b[0;34m.\u001b[0m\u001b[0mcallback_manager\u001b[0m\u001b[0;34m,\u001b[0m\u001b[0;34m\u001b[0m\u001b[0;34m\u001b[0m\u001b[0m\n\u001b[1;32m    674\u001b[0m             )\n\u001b[0;32m--> 675\u001b[0;31m             \u001b[0mkey\u001b[0m \u001b[0;34m=\u001b[0m \u001b[0mdynamic_plan_chain\u001b[0m\u001b[0;34m.\u001b[0m\u001b[0mrun\u001b[0m\u001b[0;34m(\u001b[0m\u001b[0mquestion\u001b[0m\u001b[0;34m=\u001b[0m\u001b[0mquery_str\u001b[0m\u001b[0;34m)\u001b[0m\u001b[0;34m\u001b[0m\u001b[0;34m\u001b[0m\u001b[0m\n\u001b[0m\u001b[1;32m    676\u001b[0m             \u001b[0;32mif\u001b[0m \u001b[0mkey\u001b[0m \u001b[0;34m==\u001b[0m \u001b[0;34m\"<END>\"\u001b[0m\u001b[0;34m:\u001b[0m\u001b[0;34m\u001b[0m\u001b[0;34m\u001b[0m\u001b[0m\n\u001b[1;32m    677\u001b[0m                 \u001b[0;32mif\u001b[0m \u001b[0mself\u001b[0m\u001b[0;34m.\u001b[0m\u001b[0mverbose\u001b[0m\u001b[0;34m:\u001b[0m\u001b[0;34m\u001b[0m\u001b[0;34m\u001b[0m\u001b[0m\n",
            "\u001b[0;32m/usr/local/lib/python3.10/dist-packages/llama_index/query_pipeline/query.py\u001b[0m in \u001b[0;36mrun\u001b[0;34m(self, return_values_direct, callback_manager, *args, **kwargs)\u001b[0m\n\u001b[1;32m    267\u001b[0m                 \u001b[0mCBEventType\u001b[0m\u001b[0;34m.\u001b[0m\u001b[0mQUERY\u001b[0m\u001b[0;34m,\u001b[0m \u001b[0mpayload\u001b[0m\u001b[0;34m=\u001b[0m\u001b[0;34m{\u001b[0m\u001b[0mEventPayload\u001b[0m\u001b[0;34m.\u001b[0m\u001b[0mQUERY_STR\u001b[0m\u001b[0;34m:\u001b[0m \u001b[0mquery_payload\u001b[0m\u001b[0;34m}\u001b[0m\u001b[0;34m\u001b[0m\u001b[0;34m\u001b[0m\u001b[0m\n\u001b[1;32m    268\u001b[0m             ) as query_event:\n\u001b[0;32m--> 269\u001b[0;31m                 return self._run(\n\u001b[0m\u001b[1;32m    270\u001b[0m                     \u001b[0;34m*\u001b[0m\u001b[0margs\u001b[0m\u001b[0;34m,\u001b[0m \u001b[0mreturn_values_direct\u001b[0m\u001b[0;34m=\u001b[0m\u001b[0mreturn_values_direct\u001b[0m\u001b[0;34m,\u001b[0m \u001b[0;34m**\u001b[0m\u001b[0mkwargs\u001b[0m\u001b[0;34m\u001b[0m\u001b[0;34m\u001b[0m\u001b[0m\n\u001b[1;32m    271\u001b[0m                 )\n",
            "\u001b[0;32m/usr/local/lib/python3.10/dist-packages/llama_index/query_pipeline/query.py\u001b[0m in \u001b[0;36m_run\u001b[0;34m(self, return_values_direct, *args, **kwargs)\u001b[0m\n\u001b[1;32m    390\u001b[0m         \u001b[0mroot_key\u001b[0m\u001b[0;34m,\u001b[0m \u001b[0mkwargs\u001b[0m \u001b[0;34m=\u001b[0m \u001b[0mself\u001b[0m\u001b[0;34m.\u001b[0m\u001b[0m_get_root_key_and_kwargs\u001b[0m\u001b[0;34m(\u001b[0m\u001b[0;34m*\u001b[0m\u001b[0margs\u001b[0m\u001b[0;34m,\u001b[0m \u001b[0;34m**\u001b[0m\u001b[0mkwargs\u001b[0m\u001b[0;34m)\u001b[0m\u001b[0;34m\u001b[0m\u001b[0;34m\u001b[0m\u001b[0m\n\u001b[1;32m    391\u001b[0m         \u001b[0;31m# call run_multi with one root key\u001b[0m\u001b[0;34m\u001b[0m\u001b[0;34m\u001b[0m\u001b[0m\n\u001b[0;32m--> 392\u001b[0;31m         \u001b[0mresult_outputs\u001b[0m \u001b[0;34m=\u001b[0m \u001b[0mself\u001b[0m\u001b[0;34m.\u001b[0m\u001b[0m_run_multi\u001b[0m\u001b[0;34m(\u001b[0m\u001b[0;34m{\u001b[0m\u001b[0mroot_key\u001b[0m\u001b[0;34m:\u001b[0m \u001b[0mkwargs\u001b[0m\u001b[0;34m}\u001b[0m\u001b[0;34m)\u001b[0m\u001b[0;34m\u001b[0m\u001b[0;34m\u001b[0m\u001b[0m\n\u001b[0m\u001b[1;32m    393\u001b[0m         \u001b[0;32mreturn\u001b[0m \u001b[0mself\u001b[0m\u001b[0;34m.\u001b[0m\u001b[0m_get_single_result_output\u001b[0m\u001b[0;34m(\u001b[0m\u001b[0mresult_outputs\u001b[0m\u001b[0;34m,\u001b[0m \u001b[0mreturn_values_direct\u001b[0m\u001b[0;34m)\u001b[0m\u001b[0;34m\u001b[0m\u001b[0;34m\u001b[0m\u001b[0m\n\u001b[1;32m    394\u001b[0m \u001b[0;34m\u001b[0m\u001b[0m\n",
            "\u001b[0;32m/usr/local/lib/python3.10/dist-packages/llama_index/query_pipeline/query.py\u001b[0m in \u001b[0;36m_run_multi\u001b[0;34m(self, module_input_dict)\u001b[0m\n\u001b[1;32m    472\u001b[0m             \u001b[0;32mif\u001b[0m \u001b[0mself\u001b[0m\u001b[0;34m.\u001b[0m\u001b[0mverbose\u001b[0m\u001b[0;34m:\u001b[0m\u001b[0;34m\u001b[0m\u001b[0;34m\u001b[0m\u001b[0m\n\u001b[1;32m    473\u001b[0m                 \u001b[0mprint_debug_input\u001b[0m\u001b[0;34m(\u001b[0m\u001b[0mmodule_key\u001b[0m\u001b[0;34m,\u001b[0m \u001b[0mmodule_input\u001b[0m\u001b[0;34m)\u001b[0m\u001b[0;34m\u001b[0m\u001b[0;34m\u001b[0m\u001b[0m\n\u001b[0;32m--> 474\u001b[0;31m             \u001b[0moutput_dict\u001b[0m \u001b[0;34m=\u001b[0m \u001b[0mmodule\u001b[0m\u001b[0;34m.\u001b[0m\u001b[0mrun_component\u001b[0m\u001b[0;34m(\u001b[0m\u001b[0;34m**\u001b[0m\u001b[0mmodule_input\u001b[0m\u001b[0;34m)\u001b[0m\u001b[0;34m\u001b[0m\u001b[0;34m\u001b[0m\u001b[0m\n\u001b[0m\u001b[1;32m    475\u001b[0m \u001b[0;34m\u001b[0m\u001b[0m\n\u001b[1;32m    476\u001b[0m             \u001b[0;31m# get new nodes and is_leaf\u001b[0m\u001b[0;34m\u001b[0m\u001b[0;34m\u001b[0m\u001b[0m\n",
            "\u001b[0;32m/usr/local/lib/python3.10/dist-packages/llama_index/core/query_pipeline/query_component.py\u001b[0m in \u001b[0;36mrun_component\u001b[0;34m(self, **kwargs)\u001b[0m\n\u001b[1;32m    186\u001b[0m         \u001b[0mkwargs\u001b[0m\u001b[0;34m.\u001b[0m\u001b[0mupdate\u001b[0m\u001b[0;34m(\u001b[0m\u001b[0mself\u001b[0m\u001b[0;34m.\u001b[0m\u001b[0mpartial_dict\u001b[0m\u001b[0;34m)\u001b[0m\u001b[0;34m\u001b[0m\u001b[0;34m\u001b[0m\u001b[0m\n\u001b[1;32m    187\u001b[0m         \u001b[0mkwargs\u001b[0m \u001b[0;34m=\u001b[0m \u001b[0mself\u001b[0m\u001b[0;34m.\u001b[0m\u001b[0mvalidate_component_inputs\u001b[0m\u001b[0;34m(\u001b[0m\u001b[0mkwargs\u001b[0m\u001b[0;34m)\u001b[0m\u001b[0;34m\u001b[0m\u001b[0;34m\u001b[0m\u001b[0m\n\u001b[0;32m--> 188\u001b[0;31m         \u001b[0mcomponent_outputs\u001b[0m \u001b[0;34m=\u001b[0m \u001b[0mself\u001b[0m\u001b[0;34m.\u001b[0m\u001b[0m_run_component\u001b[0m\u001b[0;34m(\u001b[0m\u001b[0;34m**\u001b[0m\u001b[0mkwargs\u001b[0m\u001b[0;34m)\u001b[0m\u001b[0;34m\u001b[0m\u001b[0;34m\u001b[0m\u001b[0m\n\u001b[0m\u001b[1;32m    189\u001b[0m         \u001b[0;32mreturn\u001b[0m \u001b[0mself\u001b[0m\u001b[0;34m.\u001b[0m\u001b[0mvalidate_component_outputs\u001b[0m\u001b[0;34m(\u001b[0m\u001b[0mcomponent_outputs\u001b[0m\u001b[0;34m)\u001b[0m\u001b[0;34m\u001b[0m\u001b[0;34m\u001b[0m\u001b[0m\n\u001b[1;32m    190\u001b[0m \u001b[0;34m\u001b[0m\u001b[0m\n",
            "\u001b[0;32m/usr/local/lib/python3.10/dist-packages/llama_index/llms/llm.py\u001b[0m in \u001b[0;36m_run_component\u001b[0;34m(self, **kwargs)\u001b[0m\n\u001b[1;32m    386\u001b[0m             \u001b[0mresponse\u001b[0m \u001b[0;34m=\u001b[0m \u001b[0mself\u001b[0m\u001b[0;34m.\u001b[0m\u001b[0mllm\u001b[0m\u001b[0;34m.\u001b[0m\u001b[0mstream_complete\u001b[0m\u001b[0;34m(\u001b[0m\u001b[0mprompt\u001b[0m\u001b[0;34m,\u001b[0m \u001b[0mformatted\u001b[0m\u001b[0;34m=\u001b[0m\u001b[0;32mTrue\u001b[0m\u001b[0;34m)\u001b[0m\u001b[0;34m\u001b[0m\u001b[0;34m\u001b[0m\u001b[0m\n\u001b[1;32m    387\u001b[0m         \u001b[0;32melse\u001b[0m\u001b[0;34m:\u001b[0m\u001b[0;34m\u001b[0m\u001b[0;34m\u001b[0m\u001b[0m\n\u001b[0;32m--> 388\u001b[0;31m             \u001b[0mresponse\u001b[0m \u001b[0;34m=\u001b[0m \u001b[0mself\u001b[0m\u001b[0;34m.\u001b[0m\u001b[0mllm\u001b[0m\u001b[0;34m.\u001b[0m\u001b[0mcomplete\u001b[0m\u001b[0;34m(\u001b[0m\u001b[0mprompt\u001b[0m\u001b[0;34m,\u001b[0m \u001b[0mformatted\u001b[0m\u001b[0;34m=\u001b[0m\u001b[0;32mTrue\u001b[0m\u001b[0;34m)\u001b[0m\u001b[0;34m\u001b[0m\u001b[0;34m\u001b[0m\u001b[0m\n\u001b[0m\u001b[1;32m    389\u001b[0m         \u001b[0;32mreturn\u001b[0m \u001b[0;34m{\u001b[0m\u001b[0;34m\"output\"\u001b[0m\u001b[0;34m:\u001b[0m \u001b[0mresponse\u001b[0m\u001b[0;34m}\u001b[0m\u001b[0;34m\u001b[0m\u001b[0;34m\u001b[0m\u001b[0m\n\u001b[1;32m    390\u001b[0m \u001b[0;34m\u001b[0m\u001b[0m\n",
            "\u001b[0;32m/usr/local/lib/python3.10/dist-packages/llama_index/llms/base.py\u001b[0m in \u001b[0;36mwrapped_llm_predict\u001b[0;34m(_self, *args, **kwargs)\u001b[0m\n\u001b[1;32m    224\u001b[0m                 )\n\u001b[1;32m    225\u001b[0m \u001b[0;34m\u001b[0m\u001b[0m\n\u001b[0;32m--> 226\u001b[0;31m                 \u001b[0mf_return_val\u001b[0m \u001b[0;34m=\u001b[0m \u001b[0mf\u001b[0m\u001b[0;34m(\u001b[0m\u001b[0m_self\u001b[0m\u001b[0;34m,\u001b[0m \u001b[0;34m*\u001b[0m\u001b[0margs\u001b[0m\u001b[0;34m,\u001b[0m \u001b[0;34m**\u001b[0m\u001b[0mkwargs\u001b[0m\u001b[0;34m)\u001b[0m\u001b[0;34m\u001b[0m\u001b[0;34m\u001b[0m\u001b[0m\n\u001b[0m\u001b[1;32m    227\u001b[0m                 \u001b[0;32mif\u001b[0m \u001b[0misinstance\u001b[0m\u001b[0;34m(\u001b[0m\u001b[0mf_return_val\u001b[0m\u001b[0;34m,\u001b[0m \u001b[0mGenerator\u001b[0m\u001b[0;34m)\u001b[0m\u001b[0;34m:\u001b[0m\u001b[0;34m\u001b[0m\u001b[0;34m\u001b[0m\u001b[0m\n\u001b[1;32m    228\u001b[0m                     \u001b[0;31m# intercept the generator and add a callback to the end\u001b[0m\u001b[0;34m\u001b[0m\u001b[0;34m\u001b[0m\u001b[0m\n",
            "\u001b[0;32m/usr/local/lib/python3.10/dist-packages/llama_index/llms/openai.py\u001b[0m in \u001b[0;36mcomplete\u001b[0;34m(self, prompt, formatted, **kwargs)\u001b[0m\n\u001b[1;32m    255\u001b[0m         \u001b[0;32melse\u001b[0m\u001b[0;34m:\u001b[0m\u001b[0;34m\u001b[0m\u001b[0;34m\u001b[0m\u001b[0m\n\u001b[1;32m    256\u001b[0m             \u001b[0mcomplete_fn\u001b[0m \u001b[0;34m=\u001b[0m \u001b[0mself\u001b[0m\u001b[0;34m.\u001b[0m\u001b[0m_complete\u001b[0m\u001b[0;34m\u001b[0m\u001b[0;34m\u001b[0m\u001b[0m\n\u001b[0;32m--> 257\u001b[0;31m         \u001b[0;32mreturn\u001b[0m \u001b[0mcomplete_fn\u001b[0m\u001b[0;34m(\u001b[0m\u001b[0mprompt\u001b[0m\u001b[0;34m,\u001b[0m \u001b[0;34m**\u001b[0m\u001b[0mkwargs\u001b[0m\u001b[0;34m)\u001b[0m\u001b[0;34m\u001b[0m\u001b[0;34m\u001b[0m\u001b[0m\n\u001b[0m\u001b[1;32m    258\u001b[0m \u001b[0;34m\u001b[0m\u001b[0m\n\u001b[1;32m    259\u001b[0m     \u001b[0;34m@\u001b[0m\u001b[0mllm_completion_callback\u001b[0m\u001b[0;34m(\u001b[0m\u001b[0;34m)\u001b[0m\u001b[0;34m\u001b[0m\u001b[0;34m\u001b[0m\u001b[0m\n",
            "\u001b[0;32m/usr/local/lib/python3.10/dist-packages/llama_index/llms/openai.py\u001b[0m in \u001b[0;36m_complete\u001b[0;34m(self, prompt, **kwargs)\u001b[0m\n\u001b[1;32m    409\u001b[0m         \u001b[0mclient\u001b[0m \u001b[0;34m=\u001b[0m \u001b[0mself\u001b[0m\u001b[0;34m.\u001b[0m\u001b[0m_get_client\u001b[0m\u001b[0;34m(\u001b[0m\u001b[0;34m)\u001b[0m\u001b[0;34m\u001b[0m\u001b[0;34m\u001b[0m\u001b[0m\n\u001b[1;32m    410\u001b[0m         \u001b[0mall_kwargs\u001b[0m \u001b[0;34m=\u001b[0m \u001b[0mself\u001b[0m\u001b[0;34m.\u001b[0m\u001b[0m_get_model_kwargs\u001b[0m\u001b[0;34m(\u001b[0m\u001b[0;34m**\u001b[0m\u001b[0mkwargs\u001b[0m\u001b[0;34m)\u001b[0m\u001b[0;34m\u001b[0m\u001b[0;34m\u001b[0m\u001b[0m\n\u001b[0;32m--> 411\u001b[0;31m         \u001b[0mself\u001b[0m\u001b[0;34m.\u001b[0m\u001b[0m_update_max_tokens\u001b[0m\u001b[0;34m(\u001b[0m\u001b[0mall_kwargs\u001b[0m\u001b[0;34m,\u001b[0m \u001b[0mprompt\u001b[0m\u001b[0;34m)\u001b[0m\u001b[0;34m\u001b[0m\u001b[0;34m\u001b[0m\u001b[0m\n\u001b[0m\u001b[1;32m    412\u001b[0m \u001b[0;34m\u001b[0m\u001b[0m\n\u001b[1;32m    413\u001b[0m         response = client.completions.create(\n",
            "\u001b[0;32m/usr/local/lib/python3.10/dist-packages/llama_index/llms/openai.py\u001b[0m in \u001b[0;36m_update_max_tokens\u001b[0;34m(self, all_kwargs, prompt)\u001b[0m\n\u001b[1;32m    457\u001b[0m         \u001b[0mmax_tokens\u001b[0m \u001b[0;34m=\u001b[0m \u001b[0mself\u001b[0m\u001b[0;34m.\u001b[0m\u001b[0mmetadata\u001b[0m\u001b[0;34m.\u001b[0m\u001b[0mcontext_window\u001b[0m \u001b[0;34m-\u001b[0m \u001b[0mnum_tokens\u001b[0m\u001b[0;34m\u001b[0m\u001b[0;34m\u001b[0m\u001b[0m\n\u001b[1;32m    458\u001b[0m         \u001b[0;32mif\u001b[0m \u001b[0mmax_tokens\u001b[0m \u001b[0;34m<=\u001b[0m \u001b[0;36m0\u001b[0m\u001b[0;34m:\u001b[0m\u001b[0;34m\u001b[0m\u001b[0;34m\u001b[0m\u001b[0m\n\u001b[0;32m--> 459\u001b[0;31m             raise ValueError(\n\u001b[0m\u001b[1;32m    460\u001b[0m                 \u001b[0;34mf\"The prompt has {num_tokens} tokens, which is too long for\"\u001b[0m\u001b[0;34m\u001b[0m\u001b[0;34m\u001b[0m\u001b[0m\n\u001b[1;32m    461\u001b[0m                 \u001b[0;34m\" the model. Please use a prompt that fits within\"\u001b[0m\u001b[0;34m\u001b[0m\u001b[0;34m\u001b[0m\u001b[0m\n",
            "\u001b[0;31mValueError\u001b[0m: The prompt has 2177377 tokens, which is too long for the model. Please use a prompt that fits within 4096 tokens."
          ]
        }
      ]
    },
    {
      "cell_type": "code",
      "source": [
        "chain_of_table(\"What is the width of product 1e9e8ef04dbcff4541ed26657ea517e5?\", products.iloc[:20])"
      ],
      "metadata": {
        "colab": {
          "base_uri": "https://localhost:8080/"
        },
        "id": "TY7lbJvNKQUZ",
        "outputId": "e2b2fe6f-61d3-4431-ca96-a27ca8c073ee"
      },
      "execution_count": null,
      "outputs": [
        {
          "output_type": "stream",
          "name": "stdout",
          "text": [
            "\u001b[1;3;32m> Iteration: 0\n",
            "\u001b[0m\u001b[1;3;34m> Current table:\n",
            "col : product_id | product_category_name | product_name_lenght | product_description_lenght | product_photos_qty | product_weight_g | product_length_cm | product_height_cm | product_width_cm\n",
            "row 1 : 1e9e8ef04dbcff4541ed26657ea517e5 | perfumaria | 40.0 | 287.0 | 1.0 | 225.0 | 16.0 | 10.0 | 14.0\n",
            "row 2 : 3aa071139cb16b67ca9e5dea641aaa2f | artes | 44.0 | 276.0 | 1.0 | 1000.0 | 30.0 | 18.0 | 20.0\n",
            "row 3 : 96bd76ec8810374ed1b65e291975717f | esporte_lazer | 46.0 | 250.0 | 1.0 | 154.0 | 18.0 | 9.0 | 15.0\n",
            "row 4 : cef67bcfe19066a932b7673e239eb23d | bebes | 27.0 | 261.0 | 1.0 | 371.0 | 26.0 | 4.0 | 26.0\n",
            "row 5 : 9dc1a7de274444849c219cff195d0b71 | utilidades_domesticas | 37.0 | 402.0 | 4.0 | 625.0 | 20.0 | 17.0 | 13.0\n",
            "row 6 : 41d3672d4792049fa1779bb35283ed13 | instrumentos_musicais | 60.0 | 745.0 | 1.0 | 200.0 | 38.0 | 5.0 | 11.0\n",
            "row 7 : 732bd381ad09e530fe0a5f457d81becb | cool_stuff | 56.0 | 1272.0 | 4.0 | 18350.0 | 70.0 | 24.0 | 44.0\n",
            "row 8 : 2548af3e6e77a690cf3eb6368e9ab61e | moveis_decoracao | 56.0 | 184.0 | 2.0 | 900.0 | 40.0 | 8.0 | 40.0\n",
            "row 9 : 37cc742be07708b53a98702e77a21a02 | eletrodomesticos | 57.0 | 163.0 | 1.0 | 400.0 | 27.0 | 13.0 | 17.0\n",
            "row 10 : 8c92109888e8cdf9d66dc7e463025574 | brinquedos | 36.0 | 1156.0 | 1.0 | 600.0 | 17.0 | 10.0 | 12.0\n",
            "row 11 : 14aa47b7fe5c25522b47b4b29c98dcb9 | cama_mesa_banho | 54.0 | 630.0 | 1.0 | 1100.0 | 16.0 | 10.0 | 16.0\n",
            "row 12 : 03b63c5fc16691530586ae020c345514 | bebes | 49.0 | 728.0 | 4.0 | 7150.0 | 50.0 | 19.0 | 45.0\n",
            "row 13 : cf55509ea8edaaac1d28fdb16e48fc22 | instrumentos_musicais | 43.0 | 1827.0 | 3.0 | 250.0 | 17.0 | 7.0 | 17.0\n",
            "row 14 : 7bb6f29c2be57716194f96496660c7c2 | moveis_decoracao | 51.0 | 2083.0 | 2.0 | 600.0 | 68.0 | 11.0 | 13.0\n",
            "row 15 : eb31436580a610f202c859463d8c7415 | construcao_ferramentas_seguranca | 59.0 | 1602.0 | 4.0 | 200.0 | 17.0 | 7.0 | 17.0\n",
            "row 16 : 3bb7f144022e6732727d8d838a7b13b3 | esporte_lazer | 22.0 | 3021.0 | 1.0 | 800.0 | 16.0 | 2.0 | 11.0\n",
            "row 17 : 6a2fb4dd53d2cdb88e0432f1284a004c | perfumaria | 39.0 | 346.0 | 2.0 | 400.0 | 27.0 | 5.0 | 20.0\n",
            "row 18 : a1b71017a84f92fd8da4aeefba108a24 | informatica_acessorios | 59.0 | 636.0 | 1.0 | 900.0 | 40.0 | 15.0 | 20.0\n",
            "row 19 : a0736b92e52f6cead290e30b578413b6 | moveis_decoracao | 56.0 | 296.0 | 2.0 | 1700.0 | 100.0 | 7.0 | 15.0\n",
            "row 20 : f53103a77d9cf245e579ea37e5ec51f0 | cama_mesa_banho | 52.0 | 206.0 | 1.0 | 500.0 | 16.0 | 10.0 | 16.0\n",
            "\n",
            "\n",
            "\u001b[0m\u001b[1;3;38;5;200m> New Operation + Args: f_select_row(['row 1'])\n",
            "\u001b[0m\u001b[1;3;38;5;200m> Current chain: f_select_row(['row 1']) -> \n",
            "\u001b[0m\u001b[1;3;32m> Iteration: 1\n",
            "\u001b[0m\u001b[1;3;34m> Current table:\n",
            "col : product_id | product_category_name | product_name_lenght | product_description_lenght | product_photos_qty | product_weight_g | product_length_cm | product_height_cm | product_width_cm\n",
            "row 1 : 1e9e8ef04dbcff4541ed26657ea517e5 | perfumaria | 40.0 | 287.0 | 1.0 | 225.0 | 16.0 | 10.0 | 14.0\n",
            "\n",
            "\n",
            "\u001b[0m\u001b[1;3;38;5;200m> New Operation + Args: f_select_column(['product_id', 'product_width_cm'])\n",
            "\u001b[0m\u001b[1;3;38;5;200m> Current chain: f_select_row(['row 1']) -> f_select_column(['product_id', 'product_width_cm']) -> \n",
            "\u001b[0m\u001b[1;3;32m> Iteration: 2\n",
            "\u001b[0m\u001b[1;3;34m> Current table:\n",
            "col : product_id | product_width_cm\n",
            "row 1 : 1e9e8ef04dbcff4541ed26657ea517e5 | 14.0\n",
            "\n",
            "\n",
            "\u001b[0m> Ending operation chain.\n",
            "assistant: 14.0 cm.\n"
          ]
        }
      ]
    },
    {
      "cell_type": "code",
      "source": [
        "# check:\n",
        "products.loc[products['product_id'] == '1e9e8ef04dbcff4541ed26657ea517e5', 'product_width_cm']"
      ],
      "metadata": {
        "colab": {
          "base_uri": "https://localhost:8080/"
        },
        "id": "1AaRoq2jJpVP",
        "outputId": "a0ded558-94af-4cc0-bd27-d4b6e30f6ea8"
      },
      "execution_count": null,
      "outputs": [
        {
          "output_type": "execute_result",
          "data": {
            "text/plain": [
              "0    14.0\n",
              "Name: product_width_cm, dtype: float64"
            ]
          },
          "metadata": {},
          "execution_count": 110
        }
      ]
    },
    {
      "cell_type": "code",
      "source": [
        "chain_of_table(\"Which product has the largest width?\", products.iloc[:20])"
      ],
      "metadata": {
        "colab": {
          "base_uri": "https://localhost:8080/"
        },
        "id": "Hahp2cFUL2Y4",
        "outputId": "0d8f9c9c-0c64-46b4-8165-bfd097a0ceb7"
      },
      "execution_count": null,
      "outputs": [
        {
          "output_type": "stream",
          "name": "stdout",
          "text": [
            "\u001b[1;3;32m> Iteration: 0\n",
            "\u001b[0m\u001b[1;3;34m> Current table:\n",
            "col : product_id | product_category_name | product_name_lenght | product_description_lenght | product_photos_qty | product_weight_g | product_length_cm | product_height_cm | product_width_cm\n",
            "row 1 : 1e9e8ef04dbcff4541ed26657ea517e5 | perfumaria | 40.0 | 287.0 | 1.0 | 225.0 | 16.0 | 10.0 | 14.0\n",
            "row 2 : 3aa071139cb16b67ca9e5dea641aaa2f | artes | 44.0 | 276.0 | 1.0 | 1000.0 | 30.0 | 18.0 | 20.0\n",
            "row 3 : 96bd76ec8810374ed1b65e291975717f | esporte_lazer | 46.0 | 250.0 | 1.0 | 154.0 | 18.0 | 9.0 | 15.0\n",
            "row 4 : cef67bcfe19066a932b7673e239eb23d | bebes | 27.0 | 261.0 | 1.0 | 371.0 | 26.0 | 4.0 | 26.0\n",
            "row 5 : 9dc1a7de274444849c219cff195d0b71 | utilidades_domesticas | 37.0 | 402.0 | 4.0 | 625.0 | 20.0 | 17.0 | 13.0\n",
            "row 6 : 41d3672d4792049fa1779bb35283ed13 | instrumentos_musicais | 60.0 | 745.0 | 1.0 | 200.0 | 38.0 | 5.0 | 11.0\n",
            "row 7 : 732bd381ad09e530fe0a5f457d81becb | cool_stuff | 56.0 | 1272.0 | 4.0 | 18350.0 | 70.0 | 24.0 | 44.0\n",
            "row 8 : 2548af3e6e77a690cf3eb6368e9ab61e | moveis_decoracao | 56.0 | 184.0 | 2.0 | 900.0 | 40.0 | 8.0 | 40.0\n",
            "row 9 : 37cc742be07708b53a98702e77a21a02 | eletrodomesticos | 57.0 | 163.0 | 1.0 | 400.0 | 27.0 | 13.0 | 17.0\n",
            "row 10 : 8c92109888e8cdf9d66dc7e463025574 | brinquedos | 36.0 | 1156.0 | 1.0 | 600.0 | 17.0 | 10.0 | 12.0\n",
            "row 11 : 14aa47b7fe5c25522b47b4b29c98dcb9 | cama_mesa_banho | 54.0 | 630.0 | 1.0 | 1100.0 | 16.0 | 10.0 | 16.0\n",
            "row 12 : 03b63c5fc16691530586ae020c345514 | bebes | 49.0 | 728.0 | 4.0 | 7150.0 | 50.0 | 19.0 | 45.0\n",
            "row 13 : cf55509ea8edaaac1d28fdb16e48fc22 | instrumentos_musicais | 43.0 | 1827.0 | 3.0 | 250.0 | 17.0 | 7.0 | 17.0\n",
            "row 14 : 7bb6f29c2be57716194f96496660c7c2 | moveis_decoracao | 51.0 | 2083.0 | 2.0 | 600.0 | 68.0 | 11.0 | 13.0\n",
            "row 15 : eb31436580a610f202c859463d8c7415 | construcao_ferramentas_seguranca | 59.0 | 1602.0 | 4.0 | 200.0 | 17.0 | 7.0 | 17.0\n",
            "row 16 : 3bb7f144022e6732727d8d838a7b13b3 | esporte_lazer | 22.0 | 3021.0 | 1.0 | 800.0 | 16.0 | 2.0 | 11.0\n",
            "row 17 : 6a2fb4dd53d2cdb88e0432f1284a004c | perfumaria | 39.0 | 346.0 | 2.0 | 400.0 | 27.0 | 5.0 | 20.0\n",
            "row 18 : a1b71017a84f92fd8da4aeefba108a24 | informatica_acessorios | 59.0 | 636.0 | 1.0 | 900.0 | 40.0 | 15.0 | 20.0\n",
            "row 19 : a0736b92e52f6cead290e30b578413b6 | moveis_decoracao | 56.0 | 296.0 | 2.0 | 1700.0 | 100.0 | 7.0 | 15.0\n",
            "row 20 : f53103a77d9cf245e579ea37e5ec51f0 | cama_mesa_banho | 52.0 | 206.0 | 1.0 | 500.0 | 16.0 | 10.0 | 16.0\n",
            "\n",
            "\n",
            "\u001b[0m\u001b[1;3;38;5;200m> New Operation + Args: f_select_column(['product_id', 'product_width_cm'])\n",
            "\u001b[0m\u001b[1;3;38;5;200m> Current chain: f_select_column(['product_id', 'product_width_cm']) -> \n",
            "\u001b[0m\u001b[1;3;32m> Iteration: 1\n",
            "\u001b[0m\u001b[1;3;34m> Current table:\n",
            "col : product_id | product_width_cm\n",
            "row 1 : 1e9e8ef04dbcff4541ed26657ea517e5 | 14.0\n",
            "row 2 : 3aa071139cb16b67ca9e5dea641aaa2f | 20.0\n",
            "row 3 : 96bd76ec8810374ed1b65e291975717f | 15.0\n",
            "row 4 : cef67bcfe19066a932b7673e239eb23d | 26.0\n",
            "row 5 : 9dc1a7de274444849c219cff195d0b71 | 13.0\n",
            "row 6 : 41d3672d4792049fa1779bb35283ed13 | 11.0\n",
            "row 7 : 732bd381ad09e530fe0a5f457d81becb | 44.0\n",
            "row 8 : 2548af3e6e77a690cf3eb6368e9ab61e | 40.0\n",
            "row 9 : 37cc742be07708b53a98702e77a21a02 | 17.0\n",
            "row 10 : 8c92109888e8cdf9d66dc7e463025574 | 12.0\n",
            "row 11 : 14aa47b7fe5c25522b47b4b29c98dcb9 | 16.0\n",
            "row 12 : 03b63c5fc16691530586ae020c345514 | 45.0\n",
            "row 13 : cf55509ea8edaaac1d28fdb16e48fc22 | 17.0\n",
            "row 14 : 7bb6f29c2be57716194f96496660c7c2 | 13.0\n",
            "row 15 : eb31436580a610f202c859463d8c7415 | 17.0\n",
            "row 16 : 3bb7f144022e6732727d8d838a7b13b3 | 11.0\n",
            "row 17 : 6a2fb4dd53d2cdb88e0432f1284a004c | 20.0\n",
            "row 18 : a1b71017a84f92fd8da4aeefba108a24 | 20.0\n",
            "row 19 : a0736b92e52f6cead290e30b578413b6 | 15.0\n",
            "row 20 : f53103a77d9cf245e579ea37e5ec51f0 | 16.0\n",
            "\n",
            "\n",
            "\u001b[0m\u001b[1;3;38;5;200m> New Operation + Args: f_sort_by(['product_width_cm'])\n",
            "\u001b[0m\u001b[1;3;38;5;200m> Current chain: f_select_column(['product_id', 'product_width_cm']) -> f_sort_by(['product_width_cm']) -> \n",
            "\u001b[0m\u001b[1;3;32m> Iteration: 2\n",
            "\u001b[0m\u001b[1;3;34m> Current table:\n",
            "col : product_id | product_width_cm\n",
            "row 1 : 3bb7f144022e6732727d8d838a7b13b3 | 11.0\n",
            "row 2 : 41d3672d4792049fa1779bb35283ed13 | 11.0\n",
            "row 3 : 8c92109888e8cdf9d66dc7e463025574 | 12.0\n",
            "row 4 : 7bb6f29c2be57716194f96496660c7c2 | 13.0\n",
            "row 5 : 9dc1a7de274444849c219cff195d0b71 | 13.0\n",
            "row 6 : 1e9e8ef04dbcff4541ed26657ea517e5 | 14.0\n",
            "row 7 : a0736b92e52f6cead290e30b578413b6 | 15.0\n",
            "row 8 : 96bd76ec8810374ed1b65e291975717f | 15.0\n",
            "row 9 : 14aa47b7fe5c25522b47b4b29c98dcb9 | 16.0\n",
            "row 10 : f53103a77d9cf245e579ea37e5ec51f0 | 16.0\n",
            "row 11 : 37cc742be07708b53a98702e77a21a02 | 17.0\n",
            "row 12 : cf55509ea8edaaac1d28fdb16e48fc22 | 17.0\n",
            "row 13 : eb31436580a610f202c859463d8c7415 | 17.0\n",
            "row 14 : 3aa071139cb16b67ca9e5dea641aaa2f | 20.0\n",
            "row 15 : 6a2fb4dd53d2cdb88e0432f1284a004c | 20.0\n",
            "row 16 : a1b71017a84f92fd8da4aeefba108a24 | 20.0\n",
            "row 17 : cef67bcfe19066a932b7673e239eb23d | 26.0\n",
            "row 18 : 2548af3e6e77a690cf3eb6368e9ab61e | 40.0\n",
            "row 19 : 732bd381ad09e530fe0a5f457d81becb | 44.0\n",
            "row 20 : 03b63c5fc16691530586ae020c345514 | 45.0\n",
            "\n",
            "\n",
            "\u001b[0m\u001b[1;3;38;5;200m> New Operation + Args: f_select_row(['row 20'])\n",
            "\u001b[0m\u001b[1;3;38;5;200m> Current chain: f_select_column(['product_id', 'product_width_cm']) -> f_sort_by(['product_width_cm']) -> f_select_row(['row 20']) -> \n",
            "\u001b[0m\u001b[1;3;32m> Iteration: 3\n",
            "\u001b[0m\u001b[1;3;34m> Current table:\n",
            "col : product_id | product_width_cm\n",
            "row 1 : f53103a77d9cf245e579ea37e5ec51f0 | 16.0\n",
            "\n",
            "\n",
            "\u001b[0m> Ending operation chain.\n",
            "assistant: f53103a77d9cf245e579ea37e5ec51f0\n"
          ]
        }
      ]
    },
    {
      "cell_type": "code",
      "source": [
        "chain_of_table(\"Which product_id has the largest product_width_cm?\", products.iloc[:20])"
      ],
      "metadata": {
        "colab": {
          "base_uri": "https://localhost:8080/"
        },
        "id": "4_l_EW8UOgdT",
        "outputId": "828470ed-8c30-404f-ee29-8865b46e1530"
      },
      "execution_count": null,
      "outputs": [
        {
          "output_type": "stream",
          "name": "stdout",
          "text": [
            "\u001b[1;3;32m> Iteration: 0\n",
            "\u001b[0m\u001b[1;3;34m> Current table:\n",
            "col : product_id | product_category_name | product_name_lenght | product_description_lenght | product_photos_qty | product_weight_g | product_length_cm | product_height_cm | product_width_cm\n",
            "row 1 : 1e9e8ef04dbcff4541ed26657ea517e5 | perfumaria | 40.0 | 287.0 | 1.0 | 225.0 | 16.0 | 10.0 | 14.0\n",
            "row 2 : 3aa071139cb16b67ca9e5dea641aaa2f | artes | 44.0 | 276.0 | 1.0 | 1000.0 | 30.0 | 18.0 | 20.0\n",
            "row 3 : 96bd76ec8810374ed1b65e291975717f | esporte_lazer | 46.0 | 250.0 | 1.0 | 154.0 | 18.0 | 9.0 | 15.0\n",
            "row 4 : cef67bcfe19066a932b7673e239eb23d | bebes | 27.0 | 261.0 | 1.0 | 371.0 | 26.0 | 4.0 | 26.0\n",
            "row 5 : 9dc1a7de274444849c219cff195d0b71 | utilidades_domesticas | 37.0 | 402.0 | 4.0 | 625.0 | 20.0 | 17.0 | 13.0\n",
            "row 6 : 41d3672d4792049fa1779bb35283ed13 | instrumentos_musicais | 60.0 | 745.0 | 1.0 | 200.0 | 38.0 | 5.0 | 11.0\n",
            "row 7 : 732bd381ad09e530fe0a5f457d81becb | cool_stuff | 56.0 | 1272.0 | 4.0 | 18350.0 | 70.0 | 24.0 | 44.0\n",
            "row 8 : 2548af3e6e77a690cf3eb6368e9ab61e | moveis_decoracao | 56.0 | 184.0 | 2.0 | 900.0 | 40.0 | 8.0 | 40.0\n",
            "row 9 : 37cc742be07708b53a98702e77a21a02 | eletrodomesticos | 57.0 | 163.0 | 1.0 | 400.0 | 27.0 | 13.0 | 17.0\n",
            "row 10 : 8c92109888e8cdf9d66dc7e463025574 | brinquedos | 36.0 | 1156.0 | 1.0 | 600.0 | 17.0 | 10.0 | 12.0\n",
            "row 11 : 14aa47b7fe5c25522b47b4b29c98dcb9 | cama_mesa_banho | 54.0 | 630.0 | 1.0 | 1100.0 | 16.0 | 10.0 | 16.0\n",
            "row 12 : 03b63c5fc16691530586ae020c345514 | bebes | 49.0 | 728.0 | 4.0 | 7150.0 | 50.0 | 19.0 | 45.0\n",
            "row 13 : cf55509ea8edaaac1d28fdb16e48fc22 | instrumentos_musicais | 43.0 | 1827.0 | 3.0 | 250.0 | 17.0 | 7.0 | 17.0\n",
            "row 14 : 7bb6f29c2be57716194f96496660c7c2 | moveis_decoracao | 51.0 | 2083.0 | 2.0 | 600.0 | 68.0 | 11.0 | 13.0\n",
            "row 15 : eb31436580a610f202c859463d8c7415 | construcao_ferramentas_seguranca | 59.0 | 1602.0 | 4.0 | 200.0 | 17.0 | 7.0 | 17.0\n",
            "row 16 : 3bb7f144022e6732727d8d838a7b13b3 | esporte_lazer | 22.0 | 3021.0 | 1.0 | 800.0 | 16.0 | 2.0 | 11.0\n",
            "row 17 : 6a2fb4dd53d2cdb88e0432f1284a004c | perfumaria | 39.0 | 346.0 | 2.0 | 400.0 | 27.0 | 5.0 | 20.0\n",
            "row 18 : a1b71017a84f92fd8da4aeefba108a24 | informatica_acessorios | 59.0 | 636.0 | 1.0 | 900.0 | 40.0 | 15.0 | 20.0\n",
            "row 19 : a0736b92e52f6cead290e30b578413b6 | moveis_decoracao | 56.0 | 296.0 | 2.0 | 1700.0 | 100.0 | 7.0 | 15.0\n",
            "row 20 : f53103a77d9cf245e579ea37e5ec51f0 | cama_mesa_banho | 52.0 | 206.0 | 1.0 | 500.0 | 16.0 | 10.0 | 16.0\n",
            "\n",
            "\n",
            "\u001b[0m\u001b[1;3;38;5;200m> New Operation + Args: f_select_column(['product_id', 'product_width_cm'])\n",
            "\u001b[0m\u001b[1;3;38;5;200m> Current chain: f_select_column(['product_id', 'product_width_cm']) -> \n",
            "\u001b[0m\u001b[1;3;32m> Iteration: 1\n",
            "\u001b[0m\u001b[1;3;34m> Current table:\n",
            "col : product_id | product_width_cm\n",
            "row 1 : 1e9e8ef04dbcff4541ed26657ea517e5 | 14.0\n",
            "row 2 : 3aa071139cb16b67ca9e5dea641aaa2f | 20.0\n",
            "row 3 : 96bd76ec8810374ed1b65e291975717f | 15.0\n",
            "row 4 : cef67bcfe19066a932b7673e239eb23d | 26.0\n",
            "row 5 : 9dc1a7de274444849c219cff195d0b71 | 13.0\n",
            "row 6 : 41d3672d4792049fa1779bb35283ed13 | 11.0\n",
            "row 7 : 732bd381ad09e530fe0a5f457d81becb | 44.0\n",
            "row 8 : 2548af3e6e77a690cf3eb6368e9ab61e | 40.0\n",
            "row 9 : 37cc742be07708b53a98702e77a21a02 | 17.0\n",
            "row 10 : 8c92109888e8cdf9d66dc7e463025574 | 12.0\n",
            "row 11 : 14aa47b7fe5c25522b47b4b29c98dcb9 | 16.0\n",
            "row 12 : 03b63c5fc16691530586ae020c345514 | 45.0\n",
            "row 13 : cf55509ea8edaaac1d28fdb16e48fc22 | 17.0\n",
            "row 14 : 7bb6f29c2be57716194f96496660c7c2 | 13.0\n",
            "row 15 : eb31436580a610f202c859463d8c7415 | 17.0\n",
            "row 16 : 3bb7f144022e6732727d8d838a7b13b3 | 11.0\n",
            "row 17 : 6a2fb4dd53d2cdb88e0432f1284a004c | 20.0\n",
            "row 18 : a1b71017a84f92fd8da4aeefba108a24 | 20.0\n",
            "row 19 : a0736b92e52f6cead290e30b578413b6 | 15.0\n",
            "row 20 : f53103a77d9cf245e579ea37e5ec51f0 | 16.0\n",
            "\n",
            "\n",
            "\u001b[0m\u001b[1;3;38;5;200m> New Operation + Args: f_sort_by(['product_width_cm'])\n",
            "\u001b[0m\u001b[1;3;38;5;200m> Current chain: f_select_column(['product_id', 'product_width_cm']) -> f_sort_by(['product_width_cm']) -> \n",
            "\u001b[0m\u001b[1;3;32m> Iteration: 2\n",
            "\u001b[0m\u001b[1;3;34m> Current table:\n",
            "col : product_id | product_width_cm\n",
            "row 1 : 3bb7f144022e6732727d8d838a7b13b3 | 11.0\n",
            "row 2 : 41d3672d4792049fa1779bb35283ed13 | 11.0\n",
            "row 3 : 8c92109888e8cdf9d66dc7e463025574 | 12.0\n",
            "row 4 : 7bb6f29c2be57716194f96496660c7c2 | 13.0\n",
            "row 5 : 9dc1a7de274444849c219cff195d0b71 | 13.0\n",
            "row 6 : 1e9e8ef04dbcff4541ed26657ea517e5 | 14.0\n",
            "row 7 : a0736b92e52f6cead290e30b578413b6 | 15.0\n",
            "row 8 : 96bd76ec8810374ed1b65e291975717f | 15.0\n",
            "row 9 : 14aa47b7fe5c25522b47b4b29c98dcb9 | 16.0\n",
            "row 10 : f53103a77d9cf245e579ea37e5ec51f0 | 16.0\n",
            "row 11 : 37cc742be07708b53a98702e77a21a02 | 17.0\n",
            "row 12 : cf55509ea8edaaac1d28fdb16e48fc22 | 17.0\n",
            "row 13 : eb31436580a610f202c859463d8c7415 | 17.0\n",
            "row 14 : 3aa071139cb16b67ca9e5dea641aaa2f | 20.0\n",
            "row 15 : 6a2fb4dd53d2cdb88e0432f1284a004c | 20.0\n",
            "row 16 : a1b71017a84f92fd8da4aeefba108a24 | 20.0\n",
            "row 17 : cef67bcfe19066a932b7673e239eb23d | 26.0\n",
            "row 18 : 2548af3e6e77a690cf3eb6368e9ab61e | 40.0\n",
            "row 19 : 732bd381ad09e530fe0a5f457d81becb | 44.0\n",
            "row 20 : 03b63c5fc16691530586ae020c345514 | 45.0\n",
            "\n",
            "\n",
            "\u001b[0m> Ending operation chain.\n",
            "assistant: 03b63c5fc16691530586ae020c345514\n"
          ]
        }
      ]
    },
    {
      "cell_type": "code",
      "source": [
        "products.iloc[products.iloc[:20]['product_width_cm'].idxmax()]"
      ],
      "metadata": {
        "colab": {
          "base_uri": "https://localhost:8080/"
        },
        "id": "GY9A_1clMB6I",
        "outputId": "97cee969-54d3-41ad-fbb0-05b6a499cf30"
      },
      "execution_count": null,
      "outputs": [
        {
          "output_type": "execute_result",
          "data": {
            "text/plain": [
              "product_id                    03b63c5fc16691530586ae020c345514\n",
              "product_category_name                                    bebes\n",
              "product_name_lenght                                       49.0\n",
              "product_description_lenght                               728.0\n",
              "product_photos_qty                                         4.0\n",
              "product_weight_g                                        7150.0\n",
              "product_length_cm                                         50.0\n",
              "product_height_cm                                         19.0\n",
              "product_width_cm                                          45.0\n",
              "Name: 11, dtype: object"
            ]
          },
          "metadata": {},
          "execution_count": 64
        }
      ]
    },
    {
      "cell_type": "markdown",
      "source": [
        "## Aggregate over a column without filters:"
      ],
      "metadata": {
        "id": "3QyPFtvMKVwc"
      }
    },
    {
      "cell_type": "code",
      "source": [
        "chain_of_table(\"What is average product weight?\", products.iloc[:20])"
      ],
      "metadata": {
        "colab": {
          "base_uri": "https://localhost:8080/"
        },
        "id": "7k3teqVHKBb-",
        "outputId": "cfdc3a82-78d6-4ace-d5e7-9f54ac682246"
      },
      "execution_count": null,
      "outputs": [
        {
          "output_type": "stream",
          "name": "stdout",
          "text": [
            "\u001b[1;3;32m> Iteration: 0\n",
            "\u001b[0m\u001b[1;3;34m> Current table:\n",
            "col : product_id | product_category_name | product_name_lenght | product_description_lenght | product_photos_qty | product_weight_g | product_length_cm | product_height_cm | product_width_cm\n",
            "row 1 : 1e9e8ef04dbcff4541ed26657ea517e5 | perfumaria | 40.0 | 287.0 | 1.0 | 225.0 | 16.0 | 10.0 | 14.0\n",
            "row 2 : 3aa071139cb16b67ca9e5dea641aaa2f | artes | 44.0 | 276.0 | 1.0 | 1000.0 | 30.0 | 18.0 | 20.0\n",
            "row 3 : 96bd76ec8810374ed1b65e291975717f | esporte_lazer | 46.0 | 250.0 | 1.0 | 154.0 | 18.0 | 9.0 | 15.0\n",
            "row 4 : cef67bcfe19066a932b7673e239eb23d | bebes | 27.0 | 261.0 | 1.0 | 371.0 | 26.0 | 4.0 | 26.0\n",
            "row 5 : 9dc1a7de274444849c219cff195d0b71 | utilidades_domesticas | 37.0 | 402.0 | 4.0 | 625.0 | 20.0 | 17.0 | 13.0\n",
            "row 6 : 41d3672d4792049fa1779bb35283ed13 | instrumentos_musicais | 60.0 | 745.0 | 1.0 | 200.0 | 38.0 | 5.0 | 11.0\n",
            "row 7 : 732bd381ad09e530fe0a5f457d81becb | cool_stuff | 56.0 | 1272.0 | 4.0 | 18350.0 | 70.0 | 24.0 | 44.0\n",
            "row 8 : 2548af3e6e77a690cf3eb6368e9ab61e | moveis_decoracao | 56.0 | 184.0 | 2.0 | 900.0 | 40.0 | 8.0 | 40.0\n",
            "row 9 : 37cc742be07708b53a98702e77a21a02 | eletrodomesticos | 57.0 | 163.0 | 1.0 | 400.0 | 27.0 | 13.0 | 17.0\n",
            "row 10 : 8c92109888e8cdf9d66dc7e463025574 | brinquedos | 36.0 | 1156.0 | 1.0 | 600.0 | 17.0 | 10.0 | 12.0\n",
            "row 11 : 14aa47b7fe5c25522b47b4b29c98dcb9 | cama_mesa_banho | 54.0 | 630.0 | 1.0 | 1100.0 | 16.0 | 10.0 | 16.0\n",
            "row 12 : 03b63c5fc16691530586ae020c345514 | bebes | 49.0 | 728.0 | 4.0 | 7150.0 | 50.0 | 19.0 | 45.0\n",
            "row 13 : cf55509ea8edaaac1d28fdb16e48fc22 | instrumentos_musicais | 43.0 | 1827.0 | 3.0 | 250.0 | 17.0 | 7.0 | 17.0\n",
            "row 14 : 7bb6f29c2be57716194f96496660c7c2 | moveis_decoracao | 51.0 | 2083.0 | 2.0 | 600.0 | 68.0 | 11.0 | 13.0\n",
            "row 15 : eb31436580a610f202c859463d8c7415 | construcao_ferramentas_seguranca | 59.0 | 1602.0 | 4.0 | 200.0 | 17.0 | 7.0 | 17.0\n",
            "row 16 : 3bb7f144022e6732727d8d838a7b13b3 | esporte_lazer | 22.0 | 3021.0 | 1.0 | 800.0 | 16.0 | 2.0 | 11.0\n",
            "row 17 : 6a2fb4dd53d2cdb88e0432f1284a004c | perfumaria | 39.0 | 346.0 | 2.0 | 400.0 | 27.0 | 5.0 | 20.0\n",
            "row 18 : a1b71017a84f92fd8da4aeefba108a24 | informatica_acessorios | 59.0 | 636.0 | 1.0 | 900.0 | 40.0 | 15.0 | 20.0\n",
            "row 19 : a0736b92e52f6cead290e30b578413b6 | moveis_decoracao | 56.0 | 296.0 | 2.0 | 1700.0 | 100.0 | 7.0 | 15.0\n",
            "row 20 : f53103a77d9cf245e579ea37e5ec51f0 | cama_mesa_banho | 52.0 | 206.0 | 1.0 | 500.0 | 16.0 | 10.0 | 16.0\n",
            "\n",
            "\n",
            "\u001b[0m\u001b[1;3;38;5;200m> New Operation + Args: f_select_column(['product_weight_g'])\n",
            "\u001b[0m\u001b[1;3;38;5;200m> Current chain: f_select_column(['product_weight_g']) -> \n",
            "\u001b[0m\u001b[1;3;32m> Iteration: 1\n",
            "\u001b[0m\u001b[1;3;34m> Current table:\n",
            "col : product_weight_g\n",
            "row 1 : 225.0\n",
            "row 2 : 1000.0\n",
            "row 3 : 154.0\n",
            "row 4 : 371.0\n",
            "row 5 : 625.0\n",
            "row 6 : 200.0\n",
            "row 7 : 18350.0\n",
            "row 8 : 900.0\n",
            "row 9 : 400.0\n",
            "row 10 : 600.0\n",
            "row 11 : 1100.0\n",
            "row 12 : 7150.0\n",
            "row 13 : 250.0\n",
            "row 14 : 600.0\n",
            "row 15 : 200.0\n",
            "row 16 : 800.0\n",
            "row 17 : 400.0\n",
            "row 18 : 900.0\n",
            "row 19 : 1700.0\n",
            "row 20 : 500.0\n",
            "\n",
            "\n",
            "\u001b[0m> Ending operation chain.\n",
            "assistant: 1451.5g\n"
          ]
        }
      ]
    },
    {
      "cell_type": "code",
      "source": [
        "np.mean(products.iloc[:20][\"product_weight_g\"])"
      ],
      "metadata": {
        "colab": {
          "base_uri": "https://localhost:8080/"
        },
        "id": "aTRci2G1KZrv",
        "outputId": "f812c2b6-f571-4003-f523-3d9b310237ec"
      },
      "execution_count": null,
      "outputs": [
        {
          "output_type": "execute_result",
          "data": {
            "text/plain": [
              "1821.25"
            ]
          },
          "metadata": {},
          "execution_count": 119
        }
      ]
    },
    {
      "cell_type": "markdown",
      "source": [
        "## Subset rows:"
      ],
      "metadata": {
        "id": "LKYiGikIKkN4"
      }
    },
    {
      "cell_type": "code",
      "source": [
        "chain_of_table(\"How many products of category esporte_lazer are there ?\", products.iloc[:20])"
      ],
      "metadata": {
        "colab": {
          "base_uri": "https://localhost:8080/"
        },
        "id": "sU9C0lO_KfzG",
        "outputId": "23a4a9a4-3ada-4b84-df4f-4e85a557160c"
      },
      "execution_count": null,
      "outputs": [
        {
          "output_type": "stream",
          "name": "stdout",
          "text": [
            "\u001b[1;3;32m> Iteration: 0\n",
            "\u001b[0m\u001b[1;3;34m> Current table:\n",
            "col : product_id | product_category_name | product_name_lenght | product_description_lenght | product_photos_qty | product_weight_g | product_length_cm | product_height_cm | product_width_cm\n",
            "row 1 : 1e9e8ef04dbcff4541ed26657ea517e5 | perfumaria | 40.0 | 287.0 | 1.0 | 225.0 | 16.0 | 10.0 | 14.0\n",
            "row 2 : 3aa071139cb16b67ca9e5dea641aaa2f | artes | 44.0 | 276.0 | 1.0 | 1000.0 | 30.0 | 18.0 | 20.0\n",
            "row 3 : 96bd76ec8810374ed1b65e291975717f | esporte_lazer | 46.0 | 250.0 | 1.0 | 154.0 | 18.0 | 9.0 | 15.0\n",
            "row 4 : cef67bcfe19066a932b7673e239eb23d | bebes | 27.0 | 261.0 | 1.0 | 371.0 | 26.0 | 4.0 | 26.0\n",
            "row 5 : 9dc1a7de274444849c219cff195d0b71 | utilidades_domesticas | 37.0 | 402.0 | 4.0 | 625.0 | 20.0 | 17.0 | 13.0\n",
            "row 6 : 41d3672d4792049fa1779bb35283ed13 | instrumentos_musicais | 60.0 | 745.0 | 1.0 | 200.0 | 38.0 | 5.0 | 11.0\n",
            "row 7 : 732bd381ad09e530fe0a5f457d81becb | cool_stuff | 56.0 | 1272.0 | 4.0 | 18350.0 | 70.0 | 24.0 | 44.0\n",
            "row 8 : 2548af3e6e77a690cf3eb6368e9ab61e | moveis_decoracao | 56.0 | 184.0 | 2.0 | 900.0 | 40.0 | 8.0 | 40.0\n",
            "row 9 : 37cc742be07708b53a98702e77a21a02 | eletrodomesticos | 57.0 | 163.0 | 1.0 | 400.0 | 27.0 | 13.0 | 17.0\n",
            "row 10 : 8c92109888e8cdf9d66dc7e463025574 | brinquedos | 36.0 | 1156.0 | 1.0 | 600.0 | 17.0 | 10.0 | 12.0\n",
            "row 11 : 14aa47b7fe5c25522b47b4b29c98dcb9 | cama_mesa_banho | 54.0 | 630.0 | 1.0 | 1100.0 | 16.0 | 10.0 | 16.0\n",
            "row 12 : 03b63c5fc16691530586ae020c345514 | bebes | 49.0 | 728.0 | 4.0 | 7150.0 | 50.0 | 19.0 | 45.0\n",
            "row 13 : cf55509ea8edaaac1d28fdb16e48fc22 | instrumentos_musicais | 43.0 | 1827.0 | 3.0 | 250.0 | 17.0 | 7.0 | 17.0\n",
            "row 14 : 7bb6f29c2be57716194f96496660c7c2 | moveis_decoracao | 51.0 | 2083.0 | 2.0 | 600.0 | 68.0 | 11.0 | 13.0\n",
            "row 15 : eb31436580a610f202c859463d8c7415 | construcao_ferramentas_seguranca | 59.0 | 1602.0 | 4.0 | 200.0 | 17.0 | 7.0 | 17.0\n",
            "row 16 : 3bb7f144022e6732727d8d838a7b13b3 | esporte_lazer | 22.0 | 3021.0 | 1.0 | 800.0 | 16.0 | 2.0 | 11.0\n",
            "row 17 : 6a2fb4dd53d2cdb88e0432f1284a004c | perfumaria | 39.0 | 346.0 | 2.0 | 400.0 | 27.0 | 5.0 | 20.0\n",
            "row 18 : a1b71017a84f92fd8da4aeefba108a24 | informatica_acessorios | 59.0 | 636.0 | 1.0 | 900.0 | 40.0 | 15.0 | 20.0\n",
            "row 19 : a0736b92e52f6cead290e30b578413b6 | moveis_decoracao | 56.0 | 296.0 | 2.0 | 1700.0 | 100.0 | 7.0 | 15.0\n",
            "row 20 : f53103a77d9cf245e579ea37e5ec51f0 | cama_mesa_banho | 52.0 | 206.0 | 1.0 | 500.0 | 16.0 | 10.0 | 16.0\n",
            "\n",
            "\n",
            "\u001b[0m\u001b[1;3;38;5;200m> New Operation + Args: f_select_column(['product_id', 'product_category_name'])\n",
            "\u001b[0m\u001b[1;3;38;5;200m> Current chain: f_select_column(['product_id', 'product_category_name']) -> \n",
            "\u001b[0m\u001b[1;3;32m> Iteration: 1\n",
            "\u001b[0m\u001b[1;3;34m> Current table:\n",
            "col : product_id | product_category_name\n",
            "row 1 : 1e9e8ef04dbcff4541ed26657ea517e5 | perfumaria\n",
            "row 2 : 3aa071139cb16b67ca9e5dea641aaa2f | artes\n",
            "row 3 : 96bd76ec8810374ed1b65e291975717f | esporte_lazer\n",
            "row 4 : cef67bcfe19066a932b7673e239eb23d | bebes\n",
            "row 5 : 9dc1a7de274444849c219cff195d0b71 | utilidades_domesticas\n",
            "row 6 : 41d3672d4792049fa1779bb35283ed13 | instrumentos_musicais\n",
            "row 7 : 732bd381ad09e530fe0a5f457d81becb | cool_stuff\n",
            "row 8 : 2548af3e6e77a690cf3eb6368e9ab61e | moveis_decoracao\n",
            "row 9 : 37cc742be07708b53a98702e77a21a02 | eletrodomesticos\n",
            "row 10 : 8c92109888e8cdf9d66dc7e463025574 | brinquedos\n",
            "row 11 : 14aa47b7fe5c25522b47b4b29c98dcb9 | cama_mesa_banho\n",
            "row 12 : 03b63c5fc16691530586ae020c345514 | bebes\n",
            "row 13 : cf55509ea8edaaac1d28fdb16e48fc22 | instrumentos_musicais\n",
            "row 14 : 7bb6f29c2be57716194f96496660c7c2 | moveis_decoracao\n",
            "row 15 : eb31436580a610f202c859463d8c7415 | construcao_ferramentas_seguranca\n",
            "row 16 : 3bb7f144022e6732727d8d838a7b13b3 | esporte_lazer\n",
            "row 17 : 6a2fb4dd53d2cdb88e0432f1284a004c | perfumaria\n",
            "row 18 : a1b71017a84f92fd8da4aeefba108a24 | informatica_acessorios\n",
            "row 19 : a0736b92e52f6cead290e30b578413b6 | moveis_decoracao\n",
            "row 20 : f53103a77d9cf245e579ea37e5ec51f0 | cama_mesa_banho\n",
            "\n",
            "\n",
            "\u001b[0m\u001b[1;3;38;5;200m> New Operation + Args: f_group_by(['product_category_name'])\n",
            "\u001b[0m\u001b[1;3;38;5;200m> Current chain: f_select_column(['product_id', 'product_category_name']) -> f_group_by(['product_category_name']) -> \n",
            "\u001b[0m\u001b[1;3;32m> Iteration: 2\n",
            "\u001b[0m\u001b[1;3;34m> Current table:\n",
            "col : product_id\n",
            "row 1 : 1\n",
            "row 2 : 2\n",
            "row 3 : 1\n",
            "row 4 : 2\n",
            "row 5 : 1\n",
            "row 6 : 1\n",
            "row 7 : 1\n",
            "row 8 : 2\n",
            "row 9 : 1\n",
            "row 10 : 2\n",
            "row 11 : 3\n",
            "row 12 : 2\n",
            "row 13 : 1\n",
            "\n",
            "\n",
            "\u001b[0m> Ending operation chain.\n",
            "assistant: The table does not provide information on product categories, so it's impossible to determine the number of products in the \"esporte_lazer\" category.\n"
          ]
        }
      ]
    },
    {
      "cell_type": "code",
      "source": [
        "# check:\n",
        "products.iloc[:20].loc[products['product_category_name'] == 'esporte_lazer',].shape[0]"
      ],
      "metadata": {
        "colab": {
          "base_uri": "https://localhost:8080/"
        },
        "id": "M5Wgv-6hKoEw",
        "outputId": "e4a27617-b234-4b9f-dbd4-2898773f0dc7"
      },
      "execution_count": null,
      "outputs": [
        {
          "output_type": "execute_result",
          "data": {
            "text/plain": [
              "2"
            ]
          },
          "metadata": {},
          "execution_count": 121
        }
      ]
    },
    {
      "cell_type": "markdown",
      "source": [
        "## Sorting:"
      ],
      "metadata": {
        "id": "AClaU9q9KuXJ"
      }
    },
    {
      "cell_type": "code",
      "source": [
        "chain_of_table(\"What are top three products of the largest product_weight_g?\", products.iloc[:20])"
      ],
      "metadata": {
        "colab": {
          "base_uri": "https://localhost:8080/"
        },
        "id": "t7p2SyqmKsMG",
        "outputId": "51040c0c-9d37-4b8e-a621-46690b16e0ce"
      },
      "execution_count": null,
      "outputs": [
        {
          "output_type": "stream",
          "name": "stdout",
          "text": [
            "\u001b[1;3;32m> Iteration: 0\n",
            "\u001b[0m\u001b[1;3;34m> Current table:\n",
            "col : product_id | product_category_name | product_name_lenght | product_description_lenght | product_photos_qty | product_weight_g | product_length_cm | product_height_cm | product_width_cm\n",
            "row 1 : 1e9e8ef04dbcff4541ed26657ea517e5 | perfumaria | 40.0 | 287.0 | 1.0 | 225.0 | 16.0 | 10.0 | 14.0\n",
            "row 2 : 3aa071139cb16b67ca9e5dea641aaa2f | artes | 44.0 | 276.0 | 1.0 | 1000.0 | 30.0 | 18.0 | 20.0\n",
            "row 3 : 96bd76ec8810374ed1b65e291975717f | esporte_lazer | 46.0 | 250.0 | 1.0 | 154.0 | 18.0 | 9.0 | 15.0\n",
            "row 4 : cef67bcfe19066a932b7673e239eb23d | bebes | 27.0 | 261.0 | 1.0 | 371.0 | 26.0 | 4.0 | 26.0\n",
            "row 5 : 9dc1a7de274444849c219cff195d0b71 | utilidades_domesticas | 37.0 | 402.0 | 4.0 | 625.0 | 20.0 | 17.0 | 13.0\n",
            "row 6 : 41d3672d4792049fa1779bb35283ed13 | instrumentos_musicais | 60.0 | 745.0 | 1.0 | 200.0 | 38.0 | 5.0 | 11.0\n",
            "row 7 : 732bd381ad09e530fe0a5f457d81becb | cool_stuff | 56.0 | 1272.0 | 4.0 | 18350.0 | 70.0 | 24.0 | 44.0\n",
            "row 8 : 2548af3e6e77a690cf3eb6368e9ab61e | moveis_decoracao | 56.0 | 184.0 | 2.0 | 900.0 | 40.0 | 8.0 | 40.0\n",
            "row 9 : 37cc742be07708b53a98702e77a21a02 | eletrodomesticos | 57.0 | 163.0 | 1.0 | 400.0 | 27.0 | 13.0 | 17.0\n",
            "row 10 : 8c92109888e8cdf9d66dc7e463025574 | brinquedos | 36.0 | 1156.0 | 1.0 | 600.0 | 17.0 | 10.0 | 12.0\n",
            "row 11 : 14aa47b7fe5c25522b47b4b29c98dcb9 | cama_mesa_banho | 54.0 | 630.0 | 1.0 | 1100.0 | 16.0 | 10.0 | 16.0\n",
            "row 12 : 03b63c5fc16691530586ae020c345514 | bebes | 49.0 | 728.0 | 4.0 | 7150.0 | 50.0 | 19.0 | 45.0\n",
            "row 13 : cf55509ea8edaaac1d28fdb16e48fc22 | instrumentos_musicais | 43.0 | 1827.0 | 3.0 | 250.0 | 17.0 | 7.0 | 17.0\n",
            "row 14 : 7bb6f29c2be57716194f96496660c7c2 | moveis_decoracao | 51.0 | 2083.0 | 2.0 | 600.0 | 68.0 | 11.0 | 13.0\n",
            "row 15 : eb31436580a610f202c859463d8c7415 | construcao_ferramentas_seguranca | 59.0 | 1602.0 | 4.0 | 200.0 | 17.0 | 7.0 | 17.0\n",
            "row 16 : 3bb7f144022e6732727d8d838a7b13b3 | esporte_lazer | 22.0 | 3021.0 | 1.0 | 800.0 | 16.0 | 2.0 | 11.0\n",
            "row 17 : 6a2fb4dd53d2cdb88e0432f1284a004c | perfumaria | 39.0 | 346.0 | 2.0 | 400.0 | 27.0 | 5.0 | 20.0\n",
            "row 18 : a1b71017a84f92fd8da4aeefba108a24 | informatica_acessorios | 59.0 | 636.0 | 1.0 | 900.0 | 40.0 | 15.0 | 20.0\n",
            "row 19 : a0736b92e52f6cead290e30b578413b6 | moveis_decoracao | 56.0 | 296.0 | 2.0 | 1700.0 | 100.0 | 7.0 | 15.0\n",
            "row 20 : f53103a77d9cf245e579ea37e5ec51f0 | cama_mesa_banho | 52.0 | 206.0 | 1.0 | 500.0 | 16.0 | 10.0 | 16.0\n",
            "\n",
            "\n",
            "\u001b[0m\u001b[1;3;38;5;200m> New Operation + Args: f_select_column(['product_id', 'product_weight_g'])\n",
            "\u001b[0m\u001b[1;3;38;5;200m> Current chain: f_select_column(['product_id', 'product_weight_g']) -> \n",
            "\u001b[0m\u001b[1;3;32m> Iteration: 1\n",
            "\u001b[0m\u001b[1;3;34m> Current table:\n",
            "col : product_id | product_weight_g\n",
            "row 1 : 1e9e8ef04dbcff4541ed26657ea517e5 | 225.0\n",
            "row 2 : 3aa071139cb16b67ca9e5dea641aaa2f | 1000.0\n",
            "row 3 : 96bd76ec8810374ed1b65e291975717f | 154.0\n",
            "row 4 : cef67bcfe19066a932b7673e239eb23d | 371.0\n",
            "row 5 : 9dc1a7de274444849c219cff195d0b71 | 625.0\n",
            "row 6 : 41d3672d4792049fa1779bb35283ed13 | 200.0\n",
            "row 7 : 732bd381ad09e530fe0a5f457d81becb | 18350.0\n",
            "row 8 : 2548af3e6e77a690cf3eb6368e9ab61e | 900.0\n",
            "row 9 : 37cc742be07708b53a98702e77a21a02 | 400.0\n",
            "row 10 : 8c92109888e8cdf9d66dc7e463025574 | 600.0\n",
            "row 11 : 14aa47b7fe5c25522b47b4b29c98dcb9 | 1100.0\n",
            "row 12 : 03b63c5fc16691530586ae020c345514 | 7150.0\n",
            "row 13 : cf55509ea8edaaac1d28fdb16e48fc22 | 250.0\n",
            "row 14 : 7bb6f29c2be57716194f96496660c7c2 | 600.0\n",
            "row 15 : eb31436580a610f202c859463d8c7415 | 200.0\n",
            "row 16 : 3bb7f144022e6732727d8d838a7b13b3 | 800.0\n",
            "row 17 : 6a2fb4dd53d2cdb88e0432f1284a004c | 400.0\n",
            "row 18 : a1b71017a84f92fd8da4aeefba108a24 | 900.0\n",
            "row 19 : a0736b92e52f6cead290e30b578413b6 | 1700.0\n",
            "row 20 : f53103a77d9cf245e579ea37e5ec51f0 | 500.0\n",
            "\n",
            "\n",
            "\u001b[0m\u001b[1;3;38;5;200m> New Operation + Args: f_sort_by(['product_weight_g'])\n",
            "\u001b[0m\u001b[1;3;38;5;200m> Current chain: f_select_column(['product_id', 'product_weight_g']) -> f_sort_by(['product_weight_g']) -> \n",
            "\u001b[0m\u001b[1;3;32m> Iteration: 2\n",
            "\u001b[0m\u001b[1;3;34m> Current table:\n",
            "col : product_id | product_weight_g\n",
            "row 1 : 96bd76ec8810374ed1b65e291975717f | 154.0\n",
            "row 2 : eb31436580a610f202c859463d8c7415 | 200.0\n",
            "row 3 : 41d3672d4792049fa1779bb35283ed13 | 200.0\n",
            "row 4 : 1e9e8ef04dbcff4541ed26657ea517e5 | 225.0\n",
            "row 5 : cf55509ea8edaaac1d28fdb16e48fc22 | 250.0\n",
            "row 6 : cef67bcfe19066a932b7673e239eb23d | 371.0\n",
            "row 7 : 6a2fb4dd53d2cdb88e0432f1284a004c | 400.0\n",
            "row 8 : 37cc742be07708b53a98702e77a21a02 | 400.0\n",
            "row 9 : f53103a77d9cf245e579ea37e5ec51f0 | 500.0\n",
            "row 10 : 7bb6f29c2be57716194f96496660c7c2 | 600.0\n",
            "row 11 : 8c92109888e8cdf9d66dc7e463025574 | 600.0\n",
            "row 12 : 9dc1a7de274444849c219cff195d0b71 | 625.0\n",
            "row 13 : 3bb7f144022e6732727d8d838a7b13b3 | 800.0\n",
            "row 14 : a1b71017a84f92fd8da4aeefba108a24 | 900.0\n",
            "row 15 : 2548af3e6e77a690cf3eb6368e9ab61e | 900.0\n",
            "row 16 : 3aa071139cb16b67ca9e5dea641aaa2f | 1000.0\n",
            "row 17 : 14aa47b7fe5c25522b47b4b29c98dcb9 | 1100.0\n",
            "row 18 : a0736b92e52f6cead290e30b578413b6 | 1700.0\n",
            "row 19 : 03b63c5fc16691530586ae020c345514 | 7150.0\n",
            "row 20 : 732bd381ad09e530fe0a5f457d81becb | 18350.0\n",
            "\n",
            "\n",
            "\u001b[0m\u001b[1;3;38;5;200m> New Operation + Args: f_select_row(['row 19', 'row 18', 'row 20'])\n",
            "\u001b[0m\u001b[1;3;38;5;200m> Current chain: f_select_column(['product_id', 'product_weight_g']) -> f_sort_by(['product_weight_g']) -> f_select_row(['row 19', 'row 18', 'row 20']) -> \n",
            "\u001b[0m\u001b[1;3;32m> Iteration: 3\n",
            "\u001b[0m\u001b[1;3;34m> Current table:\n",
            "col : product_id | product_weight_g\n",
            "row 1 : a0736b92e52f6cead290e30b578413b6 | 1700.0\n",
            "row 2 : a1b71017a84f92fd8da4aeefba108a24 | 900.0\n",
            "row 3 : f53103a77d9cf245e579ea37e5ec51f0 | 500.0\n",
            "\n",
            "\n",
            "\u001b[0m> Ending operation chain.\n",
            "assistant: a0736b92e52f6cead290e30b578413b6, a1b71017a84f92fd8da4aeefba108a24, f53103a77d9cf245e579ea37e50c51f0.\n"
          ]
        }
      ]
    },
    {
      "cell_type": "code",
      "source": [
        "# check:\n",
        "products.iloc[:20].sort_values(['product_weight_g'], ascending=False).head(3)"
      ],
      "metadata": {
        "id": "FHNlDSlrKxyO",
        "colab": {
          "base_uri": "https://localhost:8080/",
          "height": 163
        },
        "outputId": "96bc5c33-8181-4d77-a296-325ff88b1a3b"
      },
      "execution_count": null,
      "outputs": [
        {
          "output_type": "execute_result",
          "data": {
            "text/plain": [
              "                          product_id product_category_name  \\\n",
              "6   732bd381ad09e530fe0a5f457d81becb            cool_stuff   \n",
              "11  03b63c5fc16691530586ae020c345514                 bebes   \n",
              "18  a0736b92e52f6cead290e30b578413b6      moveis_decoracao   \n",
              "\n",
              "    product_name_lenght  product_description_lenght  product_photos_qty  \\\n",
              "6                  56.0                      1272.0                 4.0   \n",
              "11                 49.0                       728.0                 4.0   \n",
              "18                 56.0                       296.0                 2.0   \n",
              "\n",
              "    product_weight_g  product_length_cm  product_height_cm  product_width_cm  \n",
              "6            18350.0               70.0               24.0              44.0  \n",
              "11            7150.0               50.0               19.0              45.0  \n",
              "18            1700.0              100.0                7.0              15.0  "
            ],
            "text/html": [
              "\n",
              "  <div id=\"df-732d6590-4460-4a19-8af3-513cae71dbf1\" class=\"colab-df-container\">\n",
              "    <div>\n",
              "<style scoped>\n",
              "    .dataframe tbody tr th:only-of-type {\n",
              "        vertical-align: middle;\n",
              "    }\n",
              "\n",
              "    .dataframe tbody tr th {\n",
              "        vertical-align: top;\n",
              "    }\n",
              "\n",
              "    .dataframe thead th {\n",
              "        text-align: right;\n",
              "    }\n",
              "</style>\n",
              "<table border=\"1\" class=\"dataframe\">\n",
              "  <thead>\n",
              "    <tr style=\"text-align: right;\">\n",
              "      <th></th>\n",
              "      <th>product_id</th>\n",
              "      <th>product_category_name</th>\n",
              "      <th>product_name_lenght</th>\n",
              "      <th>product_description_lenght</th>\n",
              "      <th>product_photos_qty</th>\n",
              "      <th>product_weight_g</th>\n",
              "      <th>product_length_cm</th>\n",
              "      <th>product_height_cm</th>\n",
              "      <th>product_width_cm</th>\n",
              "    </tr>\n",
              "  </thead>\n",
              "  <tbody>\n",
              "    <tr>\n",
              "      <th>6</th>\n",
              "      <td>732bd381ad09e530fe0a5f457d81becb</td>\n",
              "      <td>cool_stuff</td>\n",
              "      <td>56.0</td>\n",
              "      <td>1272.0</td>\n",
              "      <td>4.0</td>\n",
              "      <td>18350.0</td>\n",
              "      <td>70.0</td>\n",
              "      <td>24.0</td>\n",
              "      <td>44.0</td>\n",
              "    </tr>\n",
              "    <tr>\n",
              "      <th>11</th>\n",
              "      <td>03b63c5fc16691530586ae020c345514</td>\n",
              "      <td>bebes</td>\n",
              "      <td>49.0</td>\n",
              "      <td>728.0</td>\n",
              "      <td>4.0</td>\n",
              "      <td>7150.0</td>\n",
              "      <td>50.0</td>\n",
              "      <td>19.0</td>\n",
              "      <td>45.0</td>\n",
              "    </tr>\n",
              "    <tr>\n",
              "      <th>18</th>\n",
              "      <td>a0736b92e52f6cead290e30b578413b6</td>\n",
              "      <td>moveis_decoracao</td>\n",
              "      <td>56.0</td>\n",
              "      <td>296.0</td>\n",
              "      <td>2.0</td>\n",
              "      <td>1700.0</td>\n",
              "      <td>100.0</td>\n",
              "      <td>7.0</td>\n",
              "      <td>15.0</td>\n",
              "    </tr>\n",
              "  </tbody>\n",
              "</table>\n",
              "</div>\n",
              "    <div class=\"colab-df-buttons\">\n",
              "\n",
              "  <div class=\"colab-df-container\">\n",
              "    <button class=\"colab-df-convert\" onclick=\"convertToInteractive('df-732d6590-4460-4a19-8af3-513cae71dbf1')\"\n",
              "            title=\"Convert this dataframe to an interactive table.\"\n",
              "            style=\"display:none;\">\n",
              "\n",
              "  <svg xmlns=\"http://www.w3.org/2000/svg\" height=\"24px\" viewBox=\"0 -960 960 960\">\n",
              "    <path d=\"M120-120v-720h720v720H120Zm60-500h600v-160H180v160Zm220 220h160v-160H400v160Zm0 220h160v-160H400v160ZM180-400h160v-160H180v160Zm440 0h160v-160H620v160ZM180-180h160v-160H180v160Zm440 0h160v-160H620v160Z\"/>\n",
              "  </svg>\n",
              "    </button>\n",
              "\n",
              "  <style>\n",
              "    .colab-df-container {\n",
              "      display:flex;\n",
              "      gap: 12px;\n",
              "    }\n",
              "\n",
              "    .colab-df-convert {\n",
              "      background-color: #E8F0FE;\n",
              "      border: none;\n",
              "      border-radius: 50%;\n",
              "      cursor: pointer;\n",
              "      display: none;\n",
              "      fill: #1967D2;\n",
              "      height: 32px;\n",
              "      padding: 0 0 0 0;\n",
              "      width: 32px;\n",
              "    }\n",
              "\n",
              "    .colab-df-convert:hover {\n",
              "      background-color: #E2EBFA;\n",
              "      box-shadow: 0px 1px 2px rgba(60, 64, 67, 0.3), 0px 1px 3px 1px rgba(60, 64, 67, 0.15);\n",
              "      fill: #174EA6;\n",
              "    }\n",
              "\n",
              "    .colab-df-buttons div {\n",
              "      margin-bottom: 4px;\n",
              "    }\n",
              "\n",
              "    [theme=dark] .colab-df-convert {\n",
              "      background-color: #3B4455;\n",
              "      fill: #D2E3FC;\n",
              "    }\n",
              "\n",
              "    [theme=dark] .colab-df-convert:hover {\n",
              "      background-color: #434B5C;\n",
              "      box-shadow: 0px 1px 3px 1px rgba(0, 0, 0, 0.15);\n",
              "      filter: drop-shadow(0px 1px 2px rgba(0, 0, 0, 0.3));\n",
              "      fill: #FFFFFF;\n",
              "    }\n",
              "  </style>\n",
              "\n",
              "    <script>\n",
              "      const buttonEl =\n",
              "        document.querySelector('#df-732d6590-4460-4a19-8af3-513cae71dbf1 button.colab-df-convert');\n",
              "      buttonEl.style.display =\n",
              "        google.colab.kernel.accessAllowed ? 'block' : 'none';\n",
              "\n",
              "      async function convertToInteractive(key) {\n",
              "        const element = document.querySelector('#df-732d6590-4460-4a19-8af3-513cae71dbf1');\n",
              "        const dataTable =\n",
              "          await google.colab.kernel.invokeFunction('convertToInteractive',\n",
              "                                                    [key], {});\n",
              "        if (!dataTable) return;\n",
              "\n",
              "        const docLinkHtml = 'Like what you see? Visit the ' +\n",
              "          '<a target=\"_blank\" href=https://colab.research.google.com/notebooks/data_table.ipynb>data table notebook</a>'\n",
              "          + ' to learn more about interactive tables.';\n",
              "        element.innerHTML = '';\n",
              "        dataTable['output_type'] = 'display_data';\n",
              "        await google.colab.output.renderOutput(dataTable, element);\n",
              "        const docLink = document.createElement('div');\n",
              "        docLink.innerHTML = docLinkHtml;\n",
              "        element.appendChild(docLink);\n",
              "      }\n",
              "    </script>\n",
              "  </div>\n",
              "\n",
              "\n",
              "<div id=\"df-aa0cd31e-d9fd-4d59-8c21-a0b50f73831b\">\n",
              "  <button class=\"colab-df-quickchart\" onclick=\"quickchart('df-aa0cd31e-d9fd-4d59-8c21-a0b50f73831b')\"\n",
              "            title=\"Suggest charts\"\n",
              "            style=\"display:none;\">\n",
              "\n",
              "<svg xmlns=\"http://www.w3.org/2000/svg\" height=\"24px\"viewBox=\"0 0 24 24\"\n",
              "     width=\"24px\">\n",
              "    <g>\n",
              "        <path d=\"M19 3H5c-1.1 0-2 .9-2 2v14c0 1.1.9 2 2 2h14c1.1 0 2-.9 2-2V5c0-1.1-.9-2-2-2zM9 17H7v-7h2v7zm4 0h-2V7h2v10zm4 0h-2v-4h2v4z\"/>\n",
              "    </g>\n",
              "</svg>\n",
              "  </button>\n",
              "\n",
              "<style>\n",
              "  .colab-df-quickchart {\n",
              "      --bg-color: #E8F0FE;\n",
              "      --fill-color: #1967D2;\n",
              "      --hover-bg-color: #E2EBFA;\n",
              "      --hover-fill-color: #174EA6;\n",
              "      --disabled-fill-color: #AAA;\n",
              "      --disabled-bg-color: #DDD;\n",
              "  }\n",
              "\n",
              "  [theme=dark] .colab-df-quickchart {\n",
              "      --bg-color: #3B4455;\n",
              "      --fill-color: #D2E3FC;\n",
              "      --hover-bg-color: #434B5C;\n",
              "      --hover-fill-color: #FFFFFF;\n",
              "      --disabled-bg-color: #3B4455;\n",
              "      --disabled-fill-color: #666;\n",
              "  }\n",
              "\n",
              "  .colab-df-quickchart {\n",
              "    background-color: var(--bg-color);\n",
              "    border: none;\n",
              "    border-radius: 50%;\n",
              "    cursor: pointer;\n",
              "    display: none;\n",
              "    fill: var(--fill-color);\n",
              "    height: 32px;\n",
              "    padding: 0;\n",
              "    width: 32px;\n",
              "  }\n",
              "\n",
              "  .colab-df-quickchart:hover {\n",
              "    background-color: var(--hover-bg-color);\n",
              "    box-shadow: 0 1px 2px rgba(60, 64, 67, 0.3), 0 1px 3px 1px rgba(60, 64, 67, 0.15);\n",
              "    fill: var(--button-hover-fill-color);\n",
              "  }\n",
              "\n",
              "  .colab-df-quickchart-complete:disabled,\n",
              "  .colab-df-quickchart-complete:disabled:hover {\n",
              "    background-color: var(--disabled-bg-color);\n",
              "    fill: var(--disabled-fill-color);\n",
              "    box-shadow: none;\n",
              "  }\n",
              "\n",
              "  .colab-df-spinner {\n",
              "    border: 2px solid var(--fill-color);\n",
              "    border-color: transparent;\n",
              "    border-bottom-color: var(--fill-color);\n",
              "    animation:\n",
              "      spin 1s steps(1) infinite;\n",
              "  }\n",
              "\n",
              "  @keyframes spin {\n",
              "    0% {\n",
              "      border-color: transparent;\n",
              "      border-bottom-color: var(--fill-color);\n",
              "      border-left-color: var(--fill-color);\n",
              "    }\n",
              "    20% {\n",
              "      border-color: transparent;\n",
              "      border-left-color: var(--fill-color);\n",
              "      border-top-color: var(--fill-color);\n",
              "    }\n",
              "    30% {\n",
              "      border-color: transparent;\n",
              "      border-left-color: var(--fill-color);\n",
              "      border-top-color: var(--fill-color);\n",
              "      border-right-color: var(--fill-color);\n",
              "    }\n",
              "    40% {\n",
              "      border-color: transparent;\n",
              "      border-right-color: var(--fill-color);\n",
              "      border-top-color: var(--fill-color);\n",
              "    }\n",
              "    60% {\n",
              "      border-color: transparent;\n",
              "      border-right-color: var(--fill-color);\n",
              "    }\n",
              "    80% {\n",
              "      border-color: transparent;\n",
              "      border-right-color: var(--fill-color);\n",
              "      border-bottom-color: var(--fill-color);\n",
              "    }\n",
              "    90% {\n",
              "      border-color: transparent;\n",
              "      border-bottom-color: var(--fill-color);\n",
              "    }\n",
              "  }\n",
              "</style>\n",
              "\n",
              "  <script>\n",
              "    async function quickchart(key) {\n",
              "      const quickchartButtonEl =\n",
              "        document.querySelector('#' + key + ' button');\n",
              "      quickchartButtonEl.disabled = true;  // To prevent multiple clicks.\n",
              "      quickchartButtonEl.classList.add('colab-df-spinner');\n",
              "      try {\n",
              "        const charts = await google.colab.kernel.invokeFunction(\n",
              "            'suggestCharts', [key], {});\n",
              "      } catch (error) {\n",
              "        console.error('Error during call to suggestCharts:', error);\n",
              "      }\n",
              "      quickchartButtonEl.classList.remove('colab-df-spinner');\n",
              "      quickchartButtonEl.classList.add('colab-df-quickchart-complete');\n",
              "    }\n",
              "    (() => {\n",
              "      let quickchartButtonEl =\n",
              "        document.querySelector('#df-aa0cd31e-d9fd-4d59-8c21-a0b50f73831b button');\n",
              "      quickchartButtonEl.style.display =\n",
              "        google.colab.kernel.accessAllowed ? 'block' : 'none';\n",
              "    })();\n",
              "  </script>\n",
              "</div>\n",
              "    </div>\n",
              "  </div>\n"
            ],
            "application/vnd.google.colaboratory.intrinsic+json": {
              "type": "dataframe",
              "summary": "{\n  \"name\": \"products\",\n  \"rows\": 3,\n  \"fields\": [\n    {\n      \"column\": \"product_id\",\n      \"properties\": {\n        \"dtype\": \"string\",\n        \"num_unique_values\": 3,\n        \"samples\": [\n          \"732bd381ad09e530fe0a5f457d81becb\",\n          \"03b63c5fc16691530586ae020c345514\",\n          \"a0736b92e52f6cead290e30b578413b6\"\n        ],\n        \"semantic_type\": \"\",\n        \"description\": \"\"\n      }\n    },\n    {\n      \"column\": \"product_category_name\",\n      \"properties\": {\n        \"dtype\": \"string\",\n        \"num_unique_values\": 3,\n        \"samples\": [\n          \"cool_stuff\",\n          \"bebes\",\n          \"moveis_decoracao\"\n        ],\n        \"semantic_type\": \"\",\n        \"description\": \"\"\n      }\n    },\n    {\n      \"column\": \"product_name_lenght\",\n      \"properties\": {\n        \"dtype\": \"number\",\n        \"std\": 4.041451884327381,\n        \"min\": 49.0,\n        \"max\": 56.0,\n        \"num_unique_values\": 2,\n        \"samples\": [\n          49.0,\n          56.0\n        ],\n        \"semantic_type\": \"\",\n        \"description\": \"\"\n      }\n    },\n    {\n      \"column\": \"product_description_lenght\",\n      \"properties\": {\n        \"dtype\": \"number\",\n        \"std\": 489.06986549299205,\n        \"min\": 296.0,\n        \"max\": 1272.0,\n        \"num_unique_values\": 3,\n        \"samples\": [\n          1272.0,\n          728.0\n        ],\n        \"semantic_type\": \"\",\n        \"description\": \"\"\n      }\n    },\n    {\n      \"column\": \"product_photos_qty\",\n      \"properties\": {\n        \"dtype\": \"number\",\n        \"std\": 1.1547005383792515,\n        \"min\": 2.0,\n        \"max\": 4.0,\n        \"num_unique_values\": 2,\n        \"samples\": [\n          2.0,\n          4.0\n        ],\n        \"semantic_type\": \"\",\n        \"description\": \"\"\n      }\n    },\n    {\n      \"column\": \"product_weight_g\",\n      \"properties\": {\n        \"dtype\": \"number\",\n        \"std\": 8488.865255929872,\n        \"min\": 1700.0,\n        \"max\": 18350.0,\n        \"num_unique_values\": 3,\n        \"samples\": [\n          18350.0,\n          7150.0\n        ],\n        \"semantic_type\": \"\",\n        \"description\": \"\"\n      }\n    },\n    {\n      \"column\": \"product_length_cm\",\n      \"properties\": {\n        \"dtype\": \"number\",\n        \"std\": 25.16611478423583,\n        \"min\": 50.0,\n        \"max\": 100.0,\n        \"num_unique_values\": 3,\n        \"samples\": [\n          70.0,\n          50.0\n        ],\n        \"semantic_type\": \"\",\n        \"description\": \"\"\n      }\n    },\n    {\n      \"column\": \"product_height_cm\",\n      \"properties\": {\n        \"dtype\": \"number\",\n        \"std\": 8.736894948054106,\n        \"min\": 7.0,\n        \"max\": 24.0,\n        \"num_unique_values\": 3,\n        \"samples\": [\n          24.0,\n          19.0\n        ],\n        \"semantic_type\": \"\",\n        \"description\": \"\"\n      }\n    },\n    {\n      \"column\": \"product_width_cm\",\n      \"properties\": {\n        \"dtype\": \"number\",\n        \"std\": 17.03917055884274,\n        \"min\": 15.0,\n        \"max\": 45.0,\n        \"num_unique_values\": 3,\n        \"samples\": [\n          44.0,\n          45.0\n        ],\n        \"semantic_type\": \"\",\n        \"description\": \"\"\n      }\n    }\n  ]\n}"
            }
          },
          "metadata": {},
          "execution_count": 74
        }
      ]
    },
    {
      "cell_type": "markdown",
      "source": [
        "# Text2SQL\n",
        "First, generate SQL query to get context data. Second, generate answer based on the context data and the question."
      ],
      "metadata": {
        "id": "r_k64u9LM1hm"
      }
    },
    {
      "cell_type": "code",
      "source": [
        "product_category.head(1)"
      ],
      "metadata": {
        "colab": {
          "base_uri": "https://localhost:8080/",
          "height": 81
        },
        "id": "mlyq4pZzPF-y",
        "outputId": "564c284b-4de5-4fdd-ebb9-ff96925ee510"
      },
      "execution_count": null,
      "outputs": [
        {
          "output_type": "execute_result",
          "data": {
            "text/plain": [
              "  product_category_name product_category_name_english\n",
              "0          beleza_saude                 health_beauty"
            ],
            "text/html": [
              "\n",
              "  <div id=\"df-82f08151-9011-4f1d-a21a-811a6bef3201\" class=\"colab-df-container\">\n",
              "    <div>\n",
              "<style scoped>\n",
              "    .dataframe tbody tr th:only-of-type {\n",
              "        vertical-align: middle;\n",
              "    }\n",
              "\n",
              "    .dataframe tbody tr th {\n",
              "        vertical-align: top;\n",
              "    }\n",
              "\n",
              "    .dataframe thead th {\n",
              "        text-align: right;\n",
              "    }\n",
              "</style>\n",
              "<table border=\"1\" class=\"dataframe\">\n",
              "  <thead>\n",
              "    <tr style=\"text-align: right;\">\n",
              "      <th></th>\n",
              "      <th>product_category_name</th>\n",
              "      <th>product_category_name_english</th>\n",
              "    </tr>\n",
              "  </thead>\n",
              "  <tbody>\n",
              "    <tr>\n",
              "      <th>0</th>\n",
              "      <td>beleza_saude</td>\n",
              "      <td>health_beauty</td>\n",
              "    </tr>\n",
              "  </tbody>\n",
              "</table>\n",
              "</div>\n",
              "    <div class=\"colab-df-buttons\">\n",
              "\n",
              "  <div class=\"colab-df-container\">\n",
              "    <button class=\"colab-df-convert\" onclick=\"convertToInteractive('df-82f08151-9011-4f1d-a21a-811a6bef3201')\"\n",
              "            title=\"Convert this dataframe to an interactive table.\"\n",
              "            style=\"display:none;\">\n",
              "\n",
              "  <svg xmlns=\"http://www.w3.org/2000/svg\" height=\"24px\" viewBox=\"0 -960 960 960\">\n",
              "    <path d=\"M120-120v-720h720v720H120Zm60-500h600v-160H180v160Zm220 220h160v-160H400v160Zm0 220h160v-160H400v160ZM180-400h160v-160H180v160Zm440 0h160v-160H620v160ZM180-180h160v-160H180v160Zm440 0h160v-160H620v160Z\"/>\n",
              "  </svg>\n",
              "    </button>\n",
              "\n",
              "  <style>\n",
              "    .colab-df-container {\n",
              "      display:flex;\n",
              "      gap: 12px;\n",
              "    }\n",
              "\n",
              "    .colab-df-convert {\n",
              "      background-color: #E8F0FE;\n",
              "      border: none;\n",
              "      border-radius: 50%;\n",
              "      cursor: pointer;\n",
              "      display: none;\n",
              "      fill: #1967D2;\n",
              "      height: 32px;\n",
              "      padding: 0 0 0 0;\n",
              "      width: 32px;\n",
              "    }\n",
              "\n",
              "    .colab-df-convert:hover {\n",
              "      background-color: #E2EBFA;\n",
              "      box-shadow: 0px 1px 2px rgba(60, 64, 67, 0.3), 0px 1px 3px 1px rgba(60, 64, 67, 0.15);\n",
              "      fill: #174EA6;\n",
              "    }\n",
              "\n",
              "    .colab-df-buttons div {\n",
              "      margin-bottom: 4px;\n",
              "    }\n",
              "\n",
              "    [theme=dark] .colab-df-convert {\n",
              "      background-color: #3B4455;\n",
              "      fill: #D2E3FC;\n",
              "    }\n",
              "\n",
              "    [theme=dark] .colab-df-convert:hover {\n",
              "      background-color: #434B5C;\n",
              "      box-shadow: 0px 1px 3px 1px rgba(0, 0, 0, 0.15);\n",
              "      filter: drop-shadow(0px 1px 2px rgba(0, 0, 0, 0.3));\n",
              "      fill: #FFFFFF;\n",
              "    }\n",
              "  </style>\n",
              "\n",
              "    <script>\n",
              "      const buttonEl =\n",
              "        document.querySelector('#df-82f08151-9011-4f1d-a21a-811a6bef3201 button.colab-df-convert');\n",
              "      buttonEl.style.display =\n",
              "        google.colab.kernel.accessAllowed ? 'block' : 'none';\n",
              "\n",
              "      async function convertToInteractive(key) {\n",
              "        const element = document.querySelector('#df-82f08151-9011-4f1d-a21a-811a6bef3201');\n",
              "        const dataTable =\n",
              "          await google.colab.kernel.invokeFunction('convertToInteractive',\n",
              "                                                    [key], {});\n",
              "        if (!dataTable) return;\n",
              "\n",
              "        const docLinkHtml = 'Like what you see? Visit the ' +\n",
              "          '<a target=\"_blank\" href=https://colab.research.google.com/notebooks/data_table.ipynb>data table notebook</a>'\n",
              "          + ' to learn more about interactive tables.';\n",
              "        element.innerHTML = '';\n",
              "        dataTable['output_type'] = 'display_data';\n",
              "        await google.colab.output.renderOutput(dataTable, element);\n",
              "        const docLink = document.createElement('div');\n",
              "        docLink.innerHTML = docLinkHtml;\n",
              "        element.appendChild(docLink);\n",
              "      }\n",
              "    </script>\n",
              "  </div>\n",
              "\n",
              "    </div>\n",
              "  </div>\n"
            ],
            "application/vnd.google.colaboratory.intrinsic+json": {
              "type": "dataframe",
              "variable_name": "product_category",
              "summary": "{\n  \"name\": \"product_category\",\n  \"rows\": 71,\n  \"fields\": [\n    {\n      \"column\": \"product_category_name\",\n      \"properties\": {\n        \"dtype\": \"string\",\n        \"num_unique_values\": 71,\n        \"samples\": [\n          \"cool_stuff\",\n          \"beleza_saude\",\n          \"construcao_ferramentas_seguranca\"\n        ],\n        \"semantic_type\": \"\",\n        \"description\": \"\"\n      }\n    },\n    {\n      \"column\": \"product_category_name_english\",\n      \"properties\": {\n        \"dtype\": \"string\",\n        \"num_unique_values\": 71,\n        \"samples\": [\n          \"cool_stuff\",\n          \"health_beauty\",\n          \"construction_tools_safety\"\n        ],\n        \"semantic_type\": \"\",\n        \"description\": \"\"\n      }\n    }\n  ]\n}"
            }
          },
          "metadata": {},
          "execution_count": 138
        }
      ]
    },
    {
      "cell_type": "code",
      "source": [
        "table_description = \"\"\"The first table is 'products'.\n",
        "It includes information about products.\n",
        "The table includes columns:\n",
        "- product_id (str) - unique key of a product,\n",
        "- product_category_name (str) - name of product category in Spanish,\n",
        "- product_name_lenght (float ) - number of characters in a product name,\n",
        "- product_description_length (float) - number of characters in product description,\n",
        "- product_photos_qty (float) - number of product photos,\n",
        "- product_weight_g (float) - weight of product in grams,\n",
        "- product_length_cm (float) - product length in centimeters,\n",
        "- product_height_cm (float) - product height in centimeters,\n",
        "- product_width_cm (float) - product width in centimeters.\n",
        "\n",
        "The second table is 'product_category_name_translation'. It contains mapping of English and Spanish names of products.\n",
        "The columns are:\n",
        "- product_category_name (str) - name of product category in Spanish,\n",
        "- product_category_name_english (str) - name of product category in English.\n",
        "\n",
        "The third table is 'order_items'. It contains information about orders.\n",
        "The columns are:\n",
        "- order_id (str) - unique key of an order,\n",
        "- order_item_id (int) - item quantity,\n",
        "- product_id (str) - key of an ordered product.\n",
        "- seller_id (str) - key of a seller,\n",
        "- shipping_limit_date (datetime) - date of shipping,\n",
        "- price (float) - price of a product,\n",
        "- freight_value (float) - freight calue of a product.\n",
        "\n",
        "\"\"\"\n"
      ],
      "metadata": {
        "id": "10Z8kNjjPCwK"
      },
      "execution_count": null,
      "outputs": []
    },
    {
      "cell_type": "code",
      "source": [
        "example = execute_query(\"\"\"SELECT SUM(freight_value)\n",
        "FROM order_items as o\n",
        "LEFT JOIN products as p on p.product_id = o.product_id\n",
        "LEFT JOIN product_category_name_translation as c on c.product_category_name = p.product_category_name\n",
        "WHERE shipping_limit_date >= '2017-01-01' AND shipping_limit_date < '2018-01-01'\n",
        "    AND product_category_name_english='health_beauty'\n",
        "    \"\"\")\n",
        "example"
      ],
      "metadata": {
        "colab": {
          "base_uri": "https://localhost:8080/",
          "height": 81
        },
        "id": "-pk5ASC5RqtN",
        "outputId": "9d4ce889-2432-41ff-e22a-1571ed443ab0"
      },
      "execution_count": null,
      "outputs": [
        {
          "output_type": "execute_result",
          "data": {
            "text/plain": [
              "   SUM(freight_value)\n",
              "0            67269.31"
            ],
            "text/html": [
              "\n",
              "  <div id=\"df-d18b4dd3-7194-4ff5-8d42-baf654af3671\" class=\"colab-df-container\">\n",
              "    <div>\n",
              "<style scoped>\n",
              "    .dataframe tbody tr th:only-of-type {\n",
              "        vertical-align: middle;\n",
              "    }\n",
              "\n",
              "    .dataframe tbody tr th {\n",
              "        vertical-align: top;\n",
              "    }\n",
              "\n",
              "    .dataframe thead th {\n",
              "        text-align: right;\n",
              "    }\n",
              "</style>\n",
              "<table border=\"1\" class=\"dataframe\">\n",
              "  <thead>\n",
              "    <tr style=\"text-align: right;\">\n",
              "      <th></th>\n",
              "      <th>SUM(freight_value)</th>\n",
              "    </tr>\n",
              "  </thead>\n",
              "  <tbody>\n",
              "    <tr>\n",
              "      <th>0</th>\n",
              "      <td>67269.31</td>\n",
              "    </tr>\n",
              "  </tbody>\n",
              "</table>\n",
              "</div>\n",
              "    <div class=\"colab-df-buttons\">\n",
              "\n",
              "  <div class=\"colab-df-container\">\n",
              "    <button class=\"colab-df-convert\" onclick=\"convertToInteractive('df-d18b4dd3-7194-4ff5-8d42-baf654af3671')\"\n",
              "            title=\"Convert this dataframe to an interactive table.\"\n",
              "            style=\"display:none;\">\n",
              "\n",
              "  <svg xmlns=\"http://www.w3.org/2000/svg\" height=\"24px\" viewBox=\"0 -960 960 960\">\n",
              "    <path d=\"M120-120v-720h720v720H120Zm60-500h600v-160H180v160Zm220 220h160v-160H400v160Zm0 220h160v-160H400v160ZM180-400h160v-160H180v160Zm440 0h160v-160H620v160ZM180-180h160v-160H180v160Zm440 0h160v-160H620v160Z\"/>\n",
              "  </svg>\n",
              "    </button>\n",
              "\n",
              "  <style>\n",
              "    .colab-df-container {\n",
              "      display:flex;\n",
              "      gap: 12px;\n",
              "    }\n",
              "\n",
              "    .colab-df-convert {\n",
              "      background-color: #E8F0FE;\n",
              "      border: none;\n",
              "      border-radius: 50%;\n",
              "      cursor: pointer;\n",
              "      display: none;\n",
              "      fill: #1967D2;\n",
              "      height: 32px;\n",
              "      padding: 0 0 0 0;\n",
              "      width: 32px;\n",
              "    }\n",
              "\n",
              "    .colab-df-convert:hover {\n",
              "      background-color: #E2EBFA;\n",
              "      box-shadow: 0px 1px 2px rgba(60, 64, 67, 0.3), 0px 1px 3px 1px rgba(60, 64, 67, 0.15);\n",
              "      fill: #174EA6;\n",
              "    }\n",
              "\n",
              "    .colab-df-buttons div {\n",
              "      margin-bottom: 4px;\n",
              "    }\n",
              "\n",
              "    [theme=dark] .colab-df-convert {\n",
              "      background-color: #3B4455;\n",
              "      fill: #D2E3FC;\n",
              "    }\n",
              "\n",
              "    [theme=dark] .colab-df-convert:hover {\n",
              "      background-color: #434B5C;\n",
              "      box-shadow: 0px 1px 3px 1px rgba(0, 0, 0, 0.15);\n",
              "      filter: drop-shadow(0px 1px 2px rgba(0, 0, 0, 0.3));\n",
              "      fill: #FFFFFF;\n",
              "    }\n",
              "  </style>\n",
              "\n",
              "    <script>\n",
              "      const buttonEl =\n",
              "        document.querySelector('#df-d18b4dd3-7194-4ff5-8d42-baf654af3671 button.colab-df-convert');\n",
              "      buttonEl.style.display =\n",
              "        google.colab.kernel.accessAllowed ? 'block' : 'none';\n",
              "\n",
              "      async function convertToInteractive(key) {\n",
              "        const element = document.querySelector('#df-d18b4dd3-7194-4ff5-8d42-baf654af3671');\n",
              "        const dataTable =\n",
              "          await google.colab.kernel.invokeFunction('convertToInteractive',\n",
              "                                                    [key], {});\n",
              "        if (!dataTable) return;\n",
              "\n",
              "        const docLinkHtml = 'Like what you see? Visit the ' +\n",
              "          '<a target=\"_blank\" href=https://colab.research.google.com/notebooks/data_table.ipynb>data table notebook</a>'\n",
              "          + ' to learn more about interactive tables.';\n",
              "        element.innerHTML = '';\n",
              "        dataTable['output_type'] = 'display_data';\n",
              "        await google.colab.output.renderOutput(dataTable, element);\n",
              "        const docLink = document.createElement('div');\n",
              "        docLink.innerHTML = docLinkHtml;\n",
              "        element.appendChild(docLink);\n",
              "      }\n",
              "    </script>\n",
              "  </div>\n",
              "\n",
              "    </div>\n",
              "  </div>\n"
            ],
            "application/vnd.google.colaboratory.intrinsic+json": {
              "type": "dataframe",
              "variable_name": "example",
              "summary": "{\n  \"name\": \"example\",\n  \"rows\": 1,\n  \"fields\": [\n    {\n      \"column\": \"SUM(freight_value)\",\n      \"properties\": {\n        \"dtype\": \"number\",\n        \"std\": null,\n        \"min\": 67269.30999999966,\n        \"max\": 67269.30999999966,\n        \"num_unique_values\": 1,\n        \"samples\": [\n          67269.30999999966\n        ],\n        \"semantic_type\": \"\",\n        \"description\": \"\"\n      }\n    }\n  ]\n}"
            }
          },
          "metadata": {},
          "execution_count": 227
        }
      ]
    },
    {
      "cell_type": "code",
      "source": [
        "template_question_to_sql = \"\"\"[INST] You are given data tables in SQLite.\n",
        "\n",
        "[DATA_DESCRIPTION]\n",
        "{data_description}\n",
        "[\\DATA_DESCRIPTION]\n",
        "\n",
        "Your task is to identify what data are required to answer a user's question and\n",
        "to generate a valid SQL query for SQLite that will include data required to answer a user's question.\n",
        "\n",
        "Answer is a JSON: {{\"sql_query\":  valid_sql_query}}. Don't add anything else.\n",
        "When merging two tables add a table identifier.\n",
        "If you can't provide an answer based on the tables, say so.\n",
        "\n",
        "[EXAMPLE]For example:\n",
        "User question: \"What is the total freight value of health_beauty items in 2017?\"\n",
        "Expected answer in JSON: {{\"sql_query\": \"SELECT SUM(freight_value)\n",
        "                                         FROM order_items as o\n",
        "                                         LEFT JOIN products as p on p.product_id = o.product_id\n",
        "                                         LEFT JOIN product_category_name_translation as c on c.product_category_name = p.product_category_name\n",
        "                                         WHERE shipping_limit_date >= '2017-01-01'\n",
        "                                            AND shipping_limit_date < '2018-01-01'\n",
        "                                            AND product_category_name_english='health_beauty'\"}}\n",
        "[/EXAMPLE]\n",
        "\n",
        "User question: {text}\n",
        "[/INST]\"\"\""
      ],
      "metadata": {
        "id": "ZBylpTp3RSvb"
      },
      "execution_count": null,
      "outputs": []
    },
    {
      "cell_type": "code",
      "source": [
        "template_sql_to_insight = \"\"\"[INST] You are a task answering user questions ONLY based on the provided data frame and an SQL query used to generate the table.\n",
        "\n",
        "[EXAMPLE]For example:\n",
        "User question: \"What is the total freight value of health_beauty items in 2017?\"\n",
        "SQL query: \"SELECT SUM(freight_value)\n",
        "            FROM order_items as o\n",
        "            LEFT JOIN products as p on p.product_id = o.product_id\n",
        "            LEFT JOIN product_category_name_translation as c on c.product_category_name = p.product_category_name\n",
        "            WHERE shipping_limit_date >= '2017-01-01'\n",
        "                AND shipping_limit_date < '2018-01-01'\n",
        "                AND product_category_name_english='health_beauty'\"\n",
        "Data frame: \"\tSUM(freight_value)\n",
        "            0   67269.31\"\n",
        "Answer: \"The total freight value of 'health beauty' products ordered in 2017 is 67269.31.\"\n",
        "[/EXAMPLE]\n",
        "\n",
        "Answer should be specific and precise, don't add anything else!\n",
        "If you can't answer the question based on the provided data, say so, don't try to guess!\n",
        "\n",
        "User question: {text}\n",
        "SQL query: {sql_query}\n",
        "Data frame: {table}\n",
        "[/INST]\"\"\""
      ],
      "metadata": {
        "id": "U9mfuRcuS6Pf"
      },
      "execution_count": null,
      "outputs": []
    },
    {
      "cell_type": "code",
      "source": [
        "def text2sql(question,\n",
        "             llm_model = llm,\n",
        "             question_to_sql_prompt=template_question_to_sql,\n",
        "             df_to_insight_prompt = template_sql_to_insight,\n",
        "             data_description = table_description):\n",
        "    import json\n",
        "\n",
        "    # Get data frame:\n",
        "    prompt_sql = PromptTemplate(template=question_to_sql_prompt, input_variables=[\"text\", \"data_description\"])\n",
        "    llm_chain = LLMChain(prompt=prompt_sql, llm=llm_model)\n",
        "\n",
        "    llm_reply = llm_chain.predict(text = question, data_description = data_description)\n",
        "    print(llm_reply)\n",
        "    json_reply = json.loads(llm_reply.replace('\\n',' '))\n",
        "    sql_query = json_reply['sql_query']\n",
        "    df_reply = execute_query(sql_query)\n",
        "    print(df_reply)\n",
        "\n",
        "    # Get insight\n",
        "    prompt_insight = PromptTemplate(template=df_to_insight_prompt, input_variables=[\"text\", \"sql_query\", \"table\"])\n",
        "    llm_chain = LLMChain(prompt=prompt_insight, llm=llm_model)\n",
        "    llm_reply = llm_chain.predict(text = question, sql_query = sql_query, table = df_reply)\n",
        "    return print(llm_reply)"
      ],
      "metadata": {
        "id": "b-lgZFmgM3ck"
      },
      "execution_count": null,
      "outputs": []
    },
    {
      "cell_type": "markdown",
      "source": [
        "## Simple question:"
      ],
      "metadata": {
        "id": "HKOGz8ybY8oA"
      }
    },
    {
      "cell_type": "code",
      "source": [
        "text2sql(\"What is the width of product 1e9e8ef04dbcff4541ed26657ea517e5?\")"
      ],
      "metadata": {
        "colab": {
          "base_uri": "https://localhost:8080/"
        },
        "id": "2Jd-9ePxUBG3",
        "outputId": "8e4aaa20-27aa-401c-d533-d62825fd06e9"
      },
      "execution_count": null,
      "outputs": [
        {
          "output_type": "stream",
          "name": "stdout",
          "text": [
            "\n",
            "\n",
            "{\"sql_query\": \"SELECT product_width_cm \n",
            "               FROM products \n",
            "               WHERE product_id='1e9e8ef04dbcff4541ed26657ea517e5'\"}\n",
            "   product_width_cm\n",
            "0              14.0\n",
            "\n",
            "\n",
            "The width of product 1e9e8ef04dbcff4541ed26657ea517e5 is 14.0 cm.\n"
          ]
        }
      ]
    },
    {
      "cell_type": "code",
      "source": [
        "# check:\n",
        "products.loc[products['product_id'] == '1e9e8ef04dbcff4541ed26657ea517e5', 'product_width_cm']"
      ],
      "metadata": {
        "colab": {
          "base_uri": "https://localhost:8080/"
        },
        "id": "LJrow34vWI2r",
        "outputId": "2183504a-698d-450a-a70b-a79d94f9a4b8"
      },
      "execution_count": null,
      "outputs": [
        {
          "output_type": "execute_result",
          "data": {
            "text/plain": [
              "0    14.0\n",
              "Name: product_width_cm, dtype: float64"
            ]
          },
          "metadata": {},
          "execution_count": 193
        }
      ]
    },
    {
      "cell_type": "markdown",
      "source": [
        "## Aggregate over a column without filters:"
      ],
      "metadata": {
        "id": "kspqPz2BV-zs"
      }
    },
    {
      "cell_type": "code",
      "source": [
        "text2sql(\"What is the heaviest product?\")"
      ],
      "metadata": {
        "colab": {
          "base_uri": "https://localhost:8080/"
        },
        "id": "ShGXGBq6TeFA",
        "outputId": "5bb172ac-0991-4c0d-cd38-fb1a39fa45bb"
      },
      "execution_count": null,
      "outputs": [
        {
          "output_type": "stream",
          "name": "stdout",
          "text": [
            "\n",
            "\n",
            "{\"sql_query\": \"SELECT MAX(product_weight_g) FROM products\"}\n",
            "   MAX(product_weight_g)\n",
            "0                40425.0\n",
            "\n",
            "\n",
            "The heaviest product weighs 40425 grams.\n"
          ]
        }
      ]
    },
    {
      "cell_type": "code",
      "source": [
        "np.max(products[\"product_weight_g\"])"
      ],
      "metadata": {
        "colab": {
          "base_uri": "https://localhost:8080/"
        },
        "id": "EOmdmWNkWLHb",
        "outputId": "8b1f8ec6-e813-4feb-d49d-cacae78b77a5"
      },
      "execution_count": null,
      "outputs": [
        {
          "output_type": "execute_result",
          "data": {
            "text/plain": [
              "40425.0"
            ]
          },
          "metadata": {},
          "execution_count": 194
        }
      ]
    },
    {
      "cell_type": "code",
      "source": [
        "text2sql(\"What is average product weight in grams?\")"
      ],
      "metadata": {
        "colab": {
          "base_uri": "https://localhost:8080/"
        },
        "id": "LM8pwy1lUO--",
        "outputId": "c2779be5-8599-46d5-dfc1-2bd9aa61c8a3"
      },
      "execution_count": null,
      "outputs": [
        {
          "output_type": "stream",
          "name": "stdout",
          "text": [
            "\n",
            "{\"sql_query\": \"SELECT AVG(product_weight_g) FROM products\"}\n",
            "   AVG(product_weight_g)\n",
            "0            2276.472488\n",
            "\n",
            "The average product weight in grams is 2276.472488 grams.\n"
          ]
        }
      ]
    },
    {
      "cell_type": "code",
      "source": [
        "np.mean(products[\"product_weight_g\"])"
      ],
      "metadata": {
        "colab": {
          "base_uri": "https://localhost:8080/"
        },
        "id": "ESNTm50iV9Y1",
        "outputId": "2325b738-71e8-47e6-9d0b-5a599bfdf933"
      },
      "execution_count": null,
      "outputs": [
        {
          "output_type": "execute_result",
          "data": {
            "text/plain": [
              "2276.4724877841513"
            ]
          },
          "metadata": {},
          "execution_count": 191
        }
      ]
    },
    {
      "cell_type": "markdown",
      "source": [
        "## Subset rows"
      ],
      "metadata": {
        "id": "pCOfQtC7WPJH"
      }
    },
    {
      "cell_type": "code",
      "source": [
        "## Subset rows"
      ],
      "metadata": {
        "id": "WM0zaWinWDg9"
      },
      "execution_count": null,
      "outputs": []
    },
    {
      "cell_type": "code",
      "source": [
        "text2sql(\"How many products of category esporte_lazer are there ?\")"
      ],
      "metadata": {
        "colab": {
          "base_uri": "https://localhost:8080/"
        },
        "id": "aV5Nw9G9WSOf",
        "outputId": "2c31eb89-64e6-48a0-9aa5-928961fc7cb9"
      },
      "execution_count": null,
      "outputs": [
        {
          "output_type": "stream",
          "name": "stdout",
          "text": [
            "\n",
            "{\"sql_query\": \"SELECT COUNT(*) \n",
            "                FROM products \n",
            "                WHERE product_category_name='esporte_lazer'\"}\n",
            "   COUNT(*)\n",
            "0      2867\n",
            "\n",
            "There are a total of 2867 products in the 'esporte_lazer' category.\n"
          ]
        }
      ]
    },
    {
      "cell_type": "code",
      "source": [
        "# check:\n",
        "products.loc[products['product_category_name'] == 'esporte_lazer',].shape[0]"
      ],
      "metadata": {
        "colab": {
          "base_uri": "https://localhost:8080/"
        },
        "id": "9lDDF4g_WSL9",
        "outputId": "25fcb701-116e-4330-90b5-e47a99a58470"
      },
      "execution_count": null,
      "outputs": [
        {
          "output_type": "execute_result",
          "data": {
            "text/plain": [
              "2867"
            ]
          },
          "metadata": {},
          "execution_count": 199
        }
      ]
    },
    {
      "cell_type": "markdown",
      "source": [
        "## Sorting:"
      ],
      "metadata": {
        "id": "AitFFe8eWb1-"
      }
    },
    {
      "cell_type": "code",
      "source": [
        "text2sql(\"What are top three products of the largest weight?\")"
      ],
      "metadata": {
        "colab": {
          "base_uri": "https://localhost:8080/"
        },
        "id": "KZGm6Q23WOXd",
        "outputId": "3130288d-37bc-40d1-b225-a22cb3065ef2"
      },
      "execution_count": null,
      "outputs": [
        {
          "output_type": "stream",
          "name": "stdout",
          "text": [
            "\n",
            "\n",
            "{\"sql_query\": \"SELECT product_id, product_weight_g \n",
            "                FROM products \n",
            "                ORDER BY product_weight_g DESC \n",
            "                LIMIT 3\"}\n",
            "                         product_id  product_weight_g\n",
            "0  26644690fde745fc4654719c3904e1db           40425.0\n",
            "1  d0877f0094337c414d23f5a3c7bad20c           30000.0\n",
            "2  53f92b0474f91fcb5bd188c6a8075c38           30000.0\n",
            "\n",
            "Answer: The top three products with the largest weight are '26644690fde745fc4654719c3904e1db' with a weight of 40425 grams, 'd0877f0094337c414d23f5a3c7bad20c' and '53f92b0474f91fcb5bd188c6a8075c38' both with a weight of 30000 grams.\n"
          ]
        }
      ]
    },
    {
      "cell_type": "code",
      "source": [
        "# check:\n",
        "products.sort_values(['product_weight_g'], ascending=False).head(3)"
      ],
      "metadata": {
        "colab": {
          "base_uri": "https://localhost:8080/",
          "height": 163
        },
        "id": "Gb_tolTZWa8h",
        "outputId": "b0d87ace-4aa4-457d-fa55-985c89c985bc"
      },
      "execution_count": null,
      "outputs": [
        {
          "output_type": "execute_result",
          "data": {
            "text/plain": [
              "                             product_id product_category_name  \\\n",
              "25166  26644690fde745fc4654719c3904e1db       cama_mesa_banho   \n",
              "2417   343c15a347e523f2b6cf38a5db81e179         esporte_lazer   \n",
              "4814   0984eaa8480e41aded35bd7b5131a1c1          beleza_saude   \n",
              "\n",
              "       product_name_lenght  product_description_lenght  product_photos_qty  \\\n",
              "25166                 59.0                       534.0                 1.0   \n",
              "2417                  48.0                      1232.0                 2.0   \n",
              "4814                  58.0                       540.0                 1.0   \n",
              "\n",
              "       product_weight_g  product_length_cm  product_height_cm  \\\n",
              "25166           40425.0               13.0               65.0   \n",
              "2417            30000.0              105.0               65.0   \n",
              "4814            30000.0               55.0               75.0   \n",
              "\n",
              "       product_width_cm  \n",
              "25166              28.0  \n",
              "2417               20.0  \n",
              "4814               61.0  "
            ],
            "text/html": [
              "\n",
              "  <div id=\"df-f290cc3f-465d-4f04-ab60-d3d885a887fa\" class=\"colab-df-container\">\n",
              "    <div>\n",
              "<style scoped>\n",
              "    .dataframe tbody tr th:only-of-type {\n",
              "        vertical-align: middle;\n",
              "    }\n",
              "\n",
              "    .dataframe tbody tr th {\n",
              "        vertical-align: top;\n",
              "    }\n",
              "\n",
              "    .dataframe thead th {\n",
              "        text-align: right;\n",
              "    }\n",
              "</style>\n",
              "<table border=\"1\" class=\"dataframe\">\n",
              "  <thead>\n",
              "    <tr style=\"text-align: right;\">\n",
              "      <th></th>\n",
              "      <th>product_id</th>\n",
              "      <th>product_category_name</th>\n",
              "      <th>product_name_lenght</th>\n",
              "      <th>product_description_lenght</th>\n",
              "      <th>product_photos_qty</th>\n",
              "      <th>product_weight_g</th>\n",
              "      <th>product_length_cm</th>\n",
              "      <th>product_height_cm</th>\n",
              "      <th>product_width_cm</th>\n",
              "    </tr>\n",
              "  </thead>\n",
              "  <tbody>\n",
              "    <tr>\n",
              "      <th>25166</th>\n",
              "      <td>26644690fde745fc4654719c3904e1db</td>\n",
              "      <td>cama_mesa_banho</td>\n",
              "      <td>59.0</td>\n",
              "      <td>534.0</td>\n",
              "      <td>1.0</td>\n",
              "      <td>40425.0</td>\n",
              "      <td>13.0</td>\n",
              "      <td>65.0</td>\n",
              "      <td>28.0</td>\n",
              "    </tr>\n",
              "    <tr>\n",
              "      <th>2417</th>\n",
              "      <td>343c15a347e523f2b6cf38a5db81e179</td>\n",
              "      <td>esporte_lazer</td>\n",
              "      <td>48.0</td>\n",
              "      <td>1232.0</td>\n",
              "      <td>2.0</td>\n",
              "      <td>30000.0</td>\n",
              "      <td>105.0</td>\n",
              "      <td>65.0</td>\n",
              "      <td>20.0</td>\n",
              "    </tr>\n",
              "    <tr>\n",
              "      <th>4814</th>\n",
              "      <td>0984eaa8480e41aded35bd7b5131a1c1</td>\n",
              "      <td>beleza_saude</td>\n",
              "      <td>58.0</td>\n",
              "      <td>540.0</td>\n",
              "      <td>1.0</td>\n",
              "      <td>30000.0</td>\n",
              "      <td>55.0</td>\n",
              "      <td>75.0</td>\n",
              "      <td>61.0</td>\n",
              "    </tr>\n",
              "  </tbody>\n",
              "</table>\n",
              "</div>\n",
              "    <div class=\"colab-df-buttons\">\n",
              "\n",
              "  <div class=\"colab-df-container\">\n",
              "    <button class=\"colab-df-convert\" onclick=\"convertToInteractive('df-f290cc3f-465d-4f04-ab60-d3d885a887fa')\"\n",
              "            title=\"Convert this dataframe to an interactive table.\"\n",
              "            style=\"display:none;\">\n",
              "\n",
              "  <svg xmlns=\"http://www.w3.org/2000/svg\" height=\"24px\" viewBox=\"0 -960 960 960\">\n",
              "    <path d=\"M120-120v-720h720v720H120Zm60-500h600v-160H180v160Zm220 220h160v-160H400v160Zm0 220h160v-160H400v160ZM180-400h160v-160H180v160Zm440 0h160v-160H620v160ZM180-180h160v-160H180v160Zm440 0h160v-160H620v160Z\"/>\n",
              "  </svg>\n",
              "    </button>\n",
              "\n",
              "  <style>\n",
              "    .colab-df-container {\n",
              "      display:flex;\n",
              "      gap: 12px;\n",
              "    }\n",
              "\n",
              "    .colab-df-convert {\n",
              "      background-color: #E8F0FE;\n",
              "      border: none;\n",
              "      border-radius: 50%;\n",
              "      cursor: pointer;\n",
              "      display: none;\n",
              "      fill: #1967D2;\n",
              "      height: 32px;\n",
              "      padding: 0 0 0 0;\n",
              "      width: 32px;\n",
              "    }\n",
              "\n",
              "    .colab-df-convert:hover {\n",
              "      background-color: #E2EBFA;\n",
              "      box-shadow: 0px 1px 2px rgba(60, 64, 67, 0.3), 0px 1px 3px 1px rgba(60, 64, 67, 0.15);\n",
              "      fill: #174EA6;\n",
              "    }\n",
              "\n",
              "    .colab-df-buttons div {\n",
              "      margin-bottom: 4px;\n",
              "    }\n",
              "\n",
              "    [theme=dark] .colab-df-convert {\n",
              "      background-color: #3B4455;\n",
              "      fill: #D2E3FC;\n",
              "    }\n",
              "\n",
              "    [theme=dark] .colab-df-convert:hover {\n",
              "      background-color: #434B5C;\n",
              "      box-shadow: 0px 1px 3px 1px rgba(0, 0, 0, 0.15);\n",
              "      filter: drop-shadow(0px 1px 2px rgba(0, 0, 0, 0.3));\n",
              "      fill: #FFFFFF;\n",
              "    }\n",
              "  </style>\n",
              "\n",
              "    <script>\n",
              "      const buttonEl =\n",
              "        document.querySelector('#df-f290cc3f-465d-4f04-ab60-d3d885a887fa button.colab-df-convert');\n",
              "      buttonEl.style.display =\n",
              "        google.colab.kernel.accessAllowed ? 'block' : 'none';\n",
              "\n",
              "      async function convertToInteractive(key) {\n",
              "        const element = document.querySelector('#df-f290cc3f-465d-4f04-ab60-d3d885a887fa');\n",
              "        const dataTable =\n",
              "          await google.colab.kernel.invokeFunction('convertToInteractive',\n",
              "                                                    [key], {});\n",
              "        if (!dataTable) return;\n",
              "\n",
              "        const docLinkHtml = 'Like what you see? Visit the ' +\n",
              "          '<a target=\"_blank\" href=https://colab.research.google.com/notebooks/data_table.ipynb>data table notebook</a>'\n",
              "          + ' to learn more about interactive tables.';\n",
              "        element.innerHTML = '';\n",
              "        dataTable['output_type'] = 'display_data';\n",
              "        await google.colab.output.renderOutput(dataTable, element);\n",
              "        const docLink = document.createElement('div');\n",
              "        docLink.innerHTML = docLinkHtml;\n",
              "        element.appendChild(docLink);\n",
              "      }\n",
              "    </script>\n",
              "  </div>\n",
              "\n",
              "\n",
              "<div id=\"df-cb24c4e0-eec7-48f2-86ba-a6da3c2cde68\">\n",
              "  <button class=\"colab-df-quickchart\" onclick=\"quickchart('df-cb24c4e0-eec7-48f2-86ba-a6da3c2cde68')\"\n",
              "            title=\"Suggest charts\"\n",
              "            style=\"display:none;\">\n",
              "\n",
              "<svg xmlns=\"http://www.w3.org/2000/svg\" height=\"24px\"viewBox=\"0 0 24 24\"\n",
              "     width=\"24px\">\n",
              "    <g>\n",
              "        <path d=\"M19 3H5c-1.1 0-2 .9-2 2v14c0 1.1.9 2 2 2h14c1.1 0 2-.9 2-2V5c0-1.1-.9-2-2-2zM9 17H7v-7h2v7zm4 0h-2V7h2v10zm4 0h-2v-4h2v4z\"/>\n",
              "    </g>\n",
              "</svg>\n",
              "  </button>\n",
              "\n",
              "<style>\n",
              "  .colab-df-quickchart {\n",
              "      --bg-color: #E8F0FE;\n",
              "      --fill-color: #1967D2;\n",
              "      --hover-bg-color: #E2EBFA;\n",
              "      --hover-fill-color: #174EA6;\n",
              "      --disabled-fill-color: #AAA;\n",
              "      --disabled-bg-color: #DDD;\n",
              "  }\n",
              "\n",
              "  [theme=dark] .colab-df-quickchart {\n",
              "      --bg-color: #3B4455;\n",
              "      --fill-color: #D2E3FC;\n",
              "      --hover-bg-color: #434B5C;\n",
              "      --hover-fill-color: #FFFFFF;\n",
              "      --disabled-bg-color: #3B4455;\n",
              "      --disabled-fill-color: #666;\n",
              "  }\n",
              "\n",
              "  .colab-df-quickchart {\n",
              "    background-color: var(--bg-color);\n",
              "    border: none;\n",
              "    border-radius: 50%;\n",
              "    cursor: pointer;\n",
              "    display: none;\n",
              "    fill: var(--fill-color);\n",
              "    height: 32px;\n",
              "    padding: 0;\n",
              "    width: 32px;\n",
              "  }\n",
              "\n",
              "  .colab-df-quickchart:hover {\n",
              "    background-color: var(--hover-bg-color);\n",
              "    box-shadow: 0 1px 2px rgba(60, 64, 67, 0.3), 0 1px 3px 1px rgba(60, 64, 67, 0.15);\n",
              "    fill: var(--button-hover-fill-color);\n",
              "  }\n",
              "\n",
              "  .colab-df-quickchart-complete:disabled,\n",
              "  .colab-df-quickchart-complete:disabled:hover {\n",
              "    background-color: var(--disabled-bg-color);\n",
              "    fill: var(--disabled-fill-color);\n",
              "    box-shadow: none;\n",
              "  }\n",
              "\n",
              "  .colab-df-spinner {\n",
              "    border: 2px solid var(--fill-color);\n",
              "    border-color: transparent;\n",
              "    border-bottom-color: var(--fill-color);\n",
              "    animation:\n",
              "      spin 1s steps(1) infinite;\n",
              "  }\n",
              "\n",
              "  @keyframes spin {\n",
              "    0% {\n",
              "      border-color: transparent;\n",
              "      border-bottom-color: var(--fill-color);\n",
              "      border-left-color: var(--fill-color);\n",
              "    }\n",
              "    20% {\n",
              "      border-color: transparent;\n",
              "      border-left-color: var(--fill-color);\n",
              "      border-top-color: var(--fill-color);\n",
              "    }\n",
              "    30% {\n",
              "      border-color: transparent;\n",
              "      border-left-color: var(--fill-color);\n",
              "      border-top-color: var(--fill-color);\n",
              "      border-right-color: var(--fill-color);\n",
              "    }\n",
              "    40% {\n",
              "      border-color: transparent;\n",
              "      border-right-color: var(--fill-color);\n",
              "      border-top-color: var(--fill-color);\n",
              "    }\n",
              "    60% {\n",
              "      border-color: transparent;\n",
              "      border-right-color: var(--fill-color);\n",
              "    }\n",
              "    80% {\n",
              "      border-color: transparent;\n",
              "      border-right-color: var(--fill-color);\n",
              "      border-bottom-color: var(--fill-color);\n",
              "    }\n",
              "    90% {\n",
              "      border-color: transparent;\n",
              "      border-bottom-color: var(--fill-color);\n",
              "    }\n",
              "  }\n",
              "</style>\n",
              "\n",
              "  <script>\n",
              "    async function quickchart(key) {\n",
              "      const quickchartButtonEl =\n",
              "        document.querySelector('#' + key + ' button');\n",
              "      quickchartButtonEl.disabled = true;  // To prevent multiple clicks.\n",
              "      quickchartButtonEl.classList.add('colab-df-spinner');\n",
              "      try {\n",
              "        const charts = await google.colab.kernel.invokeFunction(\n",
              "            'suggestCharts', [key], {});\n",
              "      } catch (error) {\n",
              "        console.error('Error during call to suggestCharts:', error);\n",
              "      }\n",
              "      quickchartButtonEl.classList.remove('colab-df-spinner');\n",
              "      quickchartButtonEl.classList.add('colab-df-quickchart-complete');\n",
              "    }\n",
              "    (() => {\n",
              "      let quickchartButtonEl =\n",
              "        document.querySelector('#df-cb24c4e0-eec7-48f2-86ba-a6da3c2cde68 button');\n",
              "      quickchartButtonEl.style.display =\n",
              "        google.colab.kernel.accessAllowed ? 'block' : 'none';\n",
              "    })();\n",
              "  </script>\n",
              "</div>\n",
              "    </div>\n",
              "  </div>\n"
            ],
            "application/vnd.google.colaboratory.intrinsic+json": {
              "type": "dataframe",
              "summary": "{\n  \"name\": \"products\",\n  \"rows\": 3,\n  \"fields\": [\n    {\n      \"column\": \"product_id\",\n      \"properties\": {\n        \"dtype\": \"string\",\n        \"num_unique_values\": 3,\n        \"samples\": [\n          \"26644690fde745fc4654719c3904e1db\",\n          \"343c15a347e523f2b6cf38a5db81e179\",\n          \"0984eaa8480e41aded35bd7b5131a1c1\"\n        ],\n        \"semantic_type\": \"\",\n        \"description\": \"\"\n      }\n    },\n    {\n      \"column\": \"product_category_name\",\n      \"properties\": {\n        \"dtype\": \"string\",\n        \"num_unique_values\": 3,\n        \"samples\": [\n          \"cama_mesa_banho\",\n          \"esporte_lazer\",\n          \"beleza_saude\"\n        ],\n        \"semantic_type\": \"\",\n        \"description\": \"\"\n      }\n    },\n    {\n      \"column\": \"product_name_lenght\",\n      \"properties\": {\n        \"dtype\": \"number\",\n        \"std\": 6.082762530298219,\n        \"min\": 48.0,\n        \"max\": 59.0,\n        \"num_unique_values\": 3,\n        \"samples\": [\n          59.0,\n          48.0,\n          58.0\n        ],\n        \"semantic_type\": \"\",\n        \"description\": \"\"\n      }\n    },\n    {\n      \"column\": \"product_description_lenght\",\n      \"properties\": {\n        \"dtype\": \"number\",\n        \"std\": 401.2696516475341,\n        \"min\": 534.0,\n        \"max\": 1232.0,\n        \"num_unique_values\": 3,\n        \"samples\": [\n          534.0,\n          1232.0,\n          540.0\n        ],\n        \"semantic_type\": \"\",\n        \"description\": \"\"\n      }\n    },\n    {\n      \"column\": \"product_photos_qty\",\n      \"properties\": {\n        \"dtype\": \"number\",\n        \"std\": 0.5773502691896257,\n        \"min\": 1.0,\n        \"max\": 2.0,\n        \"num_unique_values\": 2,\n        \"samples\": [\n          2.0,\n          1.0\n        ],\n        \"semantic_type\": \"\",\n        \"description\": \"\"\n      }\n    },\n    {\n      \"column\": \"product_weight_g\",\n      \"properties\": {\n        \"dtype\": \"number\",\n        \"std\": 6018.876556301849,\n        \"min\": 30000.0,\n        \"max\": 40425.0,\n        \"num_unique_values\": 2,\n        \"samples\": [\n          30000.0,\n          40425.0\n        ],\n        \"semantic_type\": \"\",\n        \"description\": \"\"\n      }\n    },\n    {\n      \"column\": \"product_length_cm\",\n      \"properties\": {\n        \"dtype\": \"number\",\n        \"std\": 46.057934531775665,\n        \"min\": 13.0,\n        \"max\": 105.0,\n        \"num_unique_values\": 3,\n        \"samples\": [\n          13.0,\n          105.0\n        ],\n        \"semantic_type\": \"\",\n        \"description\": \"\"\n      }\n    },\n    {\n      \"column\": \"product_height_cm\",\n      \"properties\": {\n        \"dtype\": \"number\",\n        \"std\": 5.773502691896257,\n        \"min\": 65.0,\n        \"max\": 75.0,\n        \"num_unique_values\": 2,\n        \"samples\": [\n          75.0,\n          65.0\n        ],\n        \"semantic_type\": \"\",\n        \"description\": \"\"\n      }\n    },\n    {\n      \"column\": \"product_width_cm\",\n      \"properties\": {\n        \"dtype\": \"number\",\n        \"std\": 21.73323108360405,\n        \"min\": 20.0,\n        \"max\": 61.0,\n        \"num_unique_values\": 3,\n        \"samples\": [\n          28.0,\n          20.0\n        ],\n        \"semantic_type\": \"\",\n        \"description\": \"\"\n      }\n    }\n  ]\n}"
            }
          },
          "metadata": {},
          "execution_count": 201
        }
      ]
    },
    {
      "cell_type": "markdown",
      "source": [
        "## Cross-table questions:"
      ],
      "metadata": {
        "id": "0lM65yNzWlke"
      }
    },
    {
      "cell_type": "code",
      "source": [
        "text2sql(\"What is the heaviest product of category health_beauty?\")"
      ],
      "metadata": {
        "colab": {
          "base_uri": "https://localhost:8080/"
        },
        "id": "oc1PlGY3Whr9",
        "outputId": "3dc996f5-d9f9-429d-946d-628002fc075e"
      },
      "execution_count": null,
      "outputs": [
        {
          "output_type": "stream",
          "name": "stdout",
          "text": [
            "\n",
            "\n",
            "{\"sql_query\": \"SELECT MAX(product_weight_g) \n",
            "                FROM products as p \n",
            "                LEFT JOIN product_category_name_translation as c on c.product_category_name = p.product_category_name \n",
            "                WHERE product_category_name_english = 'health_beauty'\"}\n",
            "   MAX(product_weight_g)\n",
            "0                30000.0\n",
            "\n",
            "\n",
            "The heaviest product in the 'health beauty' category weighs 30000 grams.\n"
          ]
        }
      ]
    },
    {
      "cell_type": "code",
      "source": [
        "prod_cat_df = products.merge(product_category,\n",
        "                             on='product_category_name')\n",
        "np.max(prod_cat_df.loc[prod_cat_df['product_category_name_english'] == 'health_beauty', 'product_weight_g'])"
      ],
      "metadata": {
        "colab": {
          "base_uri": "https://localhost:8080/"
        },
        "id": "o_02kvDaWtnM",
        "outputId": "1cb33632-dd87-4d3c-8a6e-deb0e88bda8a"
      },
      "execution_count": null,
      "outputs": [
        {
          "output_type": "execute_result",
          "data": {
            "text/plain": [
              "30000.0"
            ]
          },
          "metadata": {},
          "execution_count": 206
        }
      ]
    },
    {
      "cell_type": "code",
      "source": [
        "# Three tables:\n",
        "text2sql(\"Who sold most of health_beauty products?\")"
      ],
      "metadata": {
        "colab": {
          "base_uri": "https://localhost:8080/"
        },
        "id": "gECX3ZZSXDs0",
        "outputId": "b983ae1f-e3fb-426c-9121-1b5434aa1ed2"
      },
      "execution_count": null,
      "outputs": [
        {
          "output_type": "stream",
          "name": "stdout",
          "text": [
            "\n",
            "{\"sql_query\": \"SELECT seller_id, SUM(order_item_id) as total_sold \n",
            "                FROM order_items as o \n",
            "                LEFT JOIN products as p on p.product_id = o.product_id \n",
            "                LEFT JOIN product_category_name_translation as c on c.product_category_name = p.product_category_name \n",
            "                WHERE product_category_name_english = 'health_beauty' \n",
            "                GROUP BY seller_id \n",
            "                ORDER BY total_sold DESC \n",
            "                LIMIT 1\"}\n",
            "                          seller_id  total_sold\n",
            "0  cc419e0650a3c5ba77189a1882b7556a        1133\n",
            "\n",
            "\n",
            "The seller with ID 'cc419e0650a3c5ba77189a1882b7556a' sold the most 'health beauty' products with a total of 1133 items sold.\n"
          ]
        }
      ]
    },
    {
      "cell_type": "code",
      "source": [
        "prod_cat_df = products.merge(product_category,\n",
        "                             on='product_category_name')\n",
        "prod_cat_df = orders.merge(prod_cat_df, on='product_id', how='left')\n",
        "prod_cat_df.loc[prod_cat_df['product_category_name_english'] == 'health_beauty'].groupby(['seller_id']).sum(['order_item_id']).sort_values(['order_item_id']).iloc[-1]"
      ],
      "metadata": {
        "colab": {
          "base_uri": "https://localhost:8080/"
        },
        "id": "uqx8T9_WXS-U",
        "outputId": "ab7f16d2-eb4a-4318-d1ff-26cc9be064bb"
      },
      "execution_count": null,
      "outputs": [
        {
          "output_type": "execute_result",
          "data": {
            "text/plain": [
              "order_item_id                   1133.00\n",
              "price                          63920.01\n",
              "freight_value                  16302.77\n",
              "product_name_lenght            59341.00\n",
              "product_description_lenght    758737.00\n",
              "product_photos_qty              2163.00\n",
              "product_weight_g              360041.00\n",
              "product_length_cm              26245.00\n",
              "product_height_cm              15384.00\n",
              "product_width_cm               18027.00\n",
              "Name: cc419e0650a3c5ba77189a1882b7556a, dtype: float64"
            ]
          },
          "metadata": {},
          "execution_count": 226
        }
      ]
    },
    {
      "cell_type": "code",
      "source": [],
      "metadata": {
        "id": "z77fvSP5XwaL"
      },
      "execution_count": null,
      "outputs": []
    }
  ]
}